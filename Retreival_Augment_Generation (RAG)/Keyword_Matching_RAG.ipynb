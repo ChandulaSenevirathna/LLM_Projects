{
 "cells": [
  {
   "cell_type": "code",
   "execution_count": 112,
   "id": "e35b056a",
   "metadata": {},
   "outputs": [],
   "source": [
    "import os\n",
    "import glob\n",
    "from dotenv import load_dotenv\n",
    "import gradio as gr\n",
    "import google.generativeai as genai"
   ]
  },
  {
   "cell_type": "code",
   "execution_count": 113,
   "id": "c08c47fa",
   "metadata": {},
   "outputs": [],
   "source": [
    "load_dotenv()\n",
    "gemini_api_key = os.getenv(\"GEMINI_API_KEY\")"
   ]
  },
  {
   "cell_type": "code",
   "execution_count": 114,
   "id": "a9dcad3a",
   "metadata": {},
   "outputs": [],
   "source": [
    "genai.configure(api_key=gemini_api_key)"
   ]
  },
  {
   "cell_type": "code",
   "execution_count": 115,
   "id": "a59b7058",
   "metadata": {},
   "outputs": [],
   "source": [
    "context = {}"
   ]
  },
  {
   "cell_type": "code",
   "execution_count": 116,
   "id": "8bdaf01b",
   "metadata": {},
   "outputs": [],
   "source": [
    "employees = glob.glob(\"knowledge-base/employees/*\")\n",
    "\n",
    "for employee in employees:\n",
    "    name = employee.split(' ')[-1][:-3]\n",
    "    doc = \"\"\n",
    "    with open(employee, \"r\", encoding=\"utf-8\") as f:\n",
    "        doc = f.read()\n",
    "    context[name]=doc"
   ]
  },
  {
   "cell_type": "code",
   "execution_count": 117,
   "id": "1d09ad08",
   "metadata": {},
   "outputs": [
    {
     "data": {
      "text/plain": [
       "dict_keys(['Chen', 'Harper', 'Thomson', 'Lancaster', 'Carter', 'Tran', 'Blake', 'Bishop', 'Thompson', 'Spencer', 'Greene', 'Trenton'])"
      ]
     },
     "execution_count": 117,
     "metadata": {},
     "output_type": "execute_result"
    }
   ],
   "source": [
    "context.keys()"
   ]
  },
  {
   "cell_type": "code",
   "execution_count": 118,
   "id": "9bfa6a7a",
   "metadata": {},
   "outputs": [],
   "source": [
    "products = glob.glob(\"knowledge-base/products/*\")\n",
    "\n",
    "for product in products:\n",
    "    name = product.split(os.sep)[-1][:-3]\n",
    "    doc = \"\"\n",
    "    with open(product, \"r\", encoding=\"utf-8\") as f:\n",
    "        doc = f.read()\n",
    "    context[name]=doc"
   ]
  },
  {
   "cell_type": "code",
   "execution_count": 119,
   "id": "5f995479",
   "metadata": {},
   "outputs": [
    {
     "data": {
      "text/plain": [
       "dict_keys(['Chen', 'Harper', 'Thomson', 'Lancaster', 'Carter', 'Tran', 'Blake', 'Bishop', 'Thompson', 'Spencer', 'Greene', 'Trenton', 'Carllm', 'Homellm', 'Markellm', 'Rellm'])"
      ]
     },
     "execution_count": 119,
     "metadata": {},
     "output_type": "execute_result"
    }
   ],
   "source": [
    "context.keys()"
   ]
  },
  {
   "cell_type": "code",
   "execution_count": 120,
   "id": "5a346bf4",
   "metadata": {},
   "outputs": [],
   "source": [
    "def get_relevant_context(message):\n",
    "    relevant_context = []\n",
    "    for context_title, context_details in context.items():\n",
    "        if context_title.lower() in message.lower():\n",
    "            relevant_context.append(context_details)\n",
    "    return relevant_context"
   ]
  },
  {
   "cell_type": "code",
   "execution_count": 121,
   "id": "834d590f",
   "metadata": {},
   "outputs": [
    {
     "data": {
      "text/plain": [
       "[\"# Avery Lancaster\\n\\n## Summary\\n- **Date of Birth**: March 15, 1985  \\n- **Job Title**: Co-Founder & Chief Executive Officer (CEO)  \\n- **Location**: San Francisco, California  \\n\\n## Insurellm Career Progression\\n- **2015 - Present**: Co-Founder & CEO  \\n  Avery Lancaster co-founded Insurellm in 2015 and has since guided the company to its current position as a leading Insurance Tech provider. Avery is known for her innovative leadership strategies and risk management expertise that have catapulted the company into the mainstream insurance market.  \\n\\n- **2013 - 2015**: Senior Product Manager at Innovate Insurance Solutions  \\n  Before launching Insurellm, Avery was a leading Senior Product Manager at Innovate Insurance Solutions, where she developed groundbreaking insurance products aimed at the tech sector.  \\n\\n- **2010 - 2013**: Business Analyst at Edge Analytics  \\n  Prior to joining Innovate, Avery worked as a Business Analyst, focusing on market trends and consumer preferences in the insurance space. This position laid the groundwork for Avery’s future entrepreneurial endeavors.\\n\\n## Annual Performance History\\n- **2015**: **Exceeds Expectations**  \\n  Avery’s leadership during Insurellm's foundational year led to successful product launches and securing initial funding.  \\n\\n- **2016**: **Meets Expectations**  \\n  Growth continued, though challenges arose in operational efficiency that required Avery's attention.  \\n\\n- **2017**: **Developing**  \\n  Market competition intensified, and monthly sales metrics were below targets. Avery implemented new strategies which required a steep learning curve.  \\n\\n- **2018**: **Exceeds Expectations**  \\n  Under Avery’s pivoted vision, Insurellm launched two new successful products that significantly increased market share.  \\n\\n- **2019**: **Meets Expectations**  \\n  Steady growth, however, some team tensions led to a minor drop in employee morale. Avery recognized the need to enhance company culture.  \\n\\n- **2020**: **Below Expectations**  \\n  The COVID-19 pandemic posed unforeseen operational difficulties. Avery faced criticism for delayed strategy shifts, although efforts were eventually made to stabilize the company.  \\n\\n- **2021**: **Exceptional**  \\n  Avery's decisive transition to remote work and rapid adoption of digital tools led to record-high customer satisfaction levels and increased sales.  \\n\\n- **2022**: **Satisfactory**  \\n  Avery focused on rebuilding team dynamics and addressing employee concerns, leading to overall improvement despite a saturated market.  \\n\\n- **2023**: **Exceeds Expectations**  \\n  Market leadership was regained with innovative approaches to personalized insurance solutions. Avery is now recognized in industry publications as a leading voice in Insurance Tech innovation.\\n\\n## Compensation History\\n- **2015**: $150,000 base salary + Significant equity stake  \\n- **2016**: $160,000 base salary + Equity increase  \\n- **2017**: $150,000 base salary + Decrease in bonus due to performance  \\n- **2018**: $180,000 base salary + performance bonus of $30,000  \\n- **2019**: $185,000 base salary + market adjustment + $5,000 bonus  \\n- **2020**: $170,000 base salary (temporary reduction due to COVID-19)  \\n- **2021**: $200,000 base salary + performance bonus of $50,000  \\n- **2022**: $210,000 base salary + retention bonus  \\n- **2023**: $225,000 base salary + $75,000 performance bonus  \\n\\n## Other HR Notes\\n- **Professional Development**: Avery has actively participated in leadership training programs and industry conferences, representing Insurellm and fostering partnerships.  \\n- **Diversity & Inclusion Initiatives**: Avery has championed a commitment to diversity in hiring practices, seeing visible improvements in team representation since 2021.  \\n- **Work-Life Balance**: Feedback revealed concerns regarding work-life balance, which Avery has approached by implementing flexible working conditions and ensuring regular check-ins with the team.\\n- **Community Engagement**: Avery led community outreach efforts, focusing on financial literacy programs, particularly aimed at underserved populations, improving Insurellm's corporate social responsibility image.  \\n\\nAvery Lancaster has demonstrated resilience and adaptability throughout her career at Insurellm, positioning the company as a key player in the insurance technology landscape.\"]"
      ]
     },
     "execution_count": 121,
     "metadata": {},
     "output_type": "execute_result"
    }
   ],
   "source": [
    "get_relevant_context(\"Who is lancaster?\")"
   ]
  },
  {
   "cell_type": "code",
   "execution_count": 122,
   "id": "65a0573f",
   "metadata": {},
   "outputs": [],
   "source": [
    "def add_context(message):\n",
    "    relevant_context = get_relevant_context(message)\n",
    "    if relevant_context:\n",
    "        message += \"\\n\\nThe following additional context might be relevant in answering this question:\\n\\n\"\n",
    "        for relevant in relevant_context:\n",
    "            message += relevant + \"\\n\\n\"\n",
    "    return message"
   ]
  },
  {
   "cell_type": "code",
   "execution_count": 123,
   "id": "f45725eb",
   "metadata": {},
   "outputs": [
    {
     "name": "stdout",
     "output_type": "stream",
     "text": [
      "Who is Alex Lancaster?\n",
      "\n",
      "The following additional context might be relevant in answering this question:\n",
      "\n",
      "# Avery Lancaster\n",
      "\n",
      "## Summary\n",
      "- **Date of Birth**: March 15, 1985  \n",
      "- **Job Title**: Co-Founder & Chief Executive Officer (CEO)  \n",
      "- **Location**: San Francisco, California  \n",
      "\n",
      "## Insurellm Career Progression\n",
      "- **2015 - Present**: Co-Founder & CEO  \n",
      "  Avery Lancaster co-founded Insurellm in 2015 and has since guided the company to its current position as a leading Insurance Tech provider. Avery is known for her innovative leadership strategies and risk management expertise that have catapulted the company into the mainstream insurance market.  \n",
      "\n",
      "- **2013 - 2015**: Senior Product Manager at Innovate Insurance Solutions  \n",
      "  Before launching Insurellm, Avery was a leading Senior Product Manager at Innovate Insurance Solutions, where she developed groundbreaking insurance products aimed at the tech sector.  \n",
      "\n",
      "- **2010 - 2013**: Business Analyst at Edge Analytics  \n",
      "  Prior to joining Innovate, Avery worked as a Business Analyst, focusing on market trends and consumer preferences in the insurance space. This position laid the groundwork for Avery’s future entrepreneurial endeavors.\n",
      "\n",
      "## Annual Performance History\n",
      "- **2015**: **Exceeds Expectations**  \n",
      "  Avery’s leadership during Insurellm's foundational year led to successful product launches and securing initial funding.  \n",
      "\n",
      "- **2016**: **Meets Expectations**  \n",
      "  Growth continued, though challenges arose in operational efficiency that required Avery's attention.  \n",
      "\n",
      "- **2017**: **Developing**  \n",
      "  Market competition intensified, and monthly sales metrics were below targets. Avery implemented new strategies which required a steep learning curve.  \n",
      "\n",
      "- **2018**: **Exceeds Expectations**  \n",
      "  Under Avery’s pivoted vision, Insurellm launched two new successful products that significantly increased market share.  \n",
      "\n",
      "- **2019**: **Meets Expectations**  \n",
      "  Steady growth, however, some team tensions led to a minor drop in employee morale. Avery recognized the need to enhance company culture.  \n",
      "\n",
      "- **2020**: **Below Expectations**  \n",
      "  The COVID-19 pandemic posed unforeseen operational difficulties. Avery faced criticism for delayed strategy shifts, although efforts were eventually made to stabilize the company.  \n",
      "\n",
      "- **2021**: **Exceptional**  \n",
      "  Avery's decisive transition to remote work and rapid adoption of digital tools led to record-high customer satisfaction levels and increased sales.  \n",
      "\n",
      "- **2022**: **Satisfactory**  \n",
      "  Avery focused on rebuilding team dynamics and addressing employee concerns, leading to overall improvement despite a saturated market.  \n",
      "\n",
      "- **2023**: **Exceeds Expectations**  \n",
      "  Market leadership was regained with innovative approaches to personalized insurance solutions. Avery is now recognized in industry publications as a leading voice in Insurance Tech innovation.\n",
      "\n",
      "## Compensation History\n",
      "- **2015**: $150,000 base salary + Significant equity stake  \n",
      "- **2016**: $160,000 base salary + Equity increase  \n",
      "- **2017**: $150,000 base salary + Decrease in bonus due to performance  \n",
      "- **2018**: $180,000 base salary + performance bonus of $30,000  \n",
      "- **2019**: $185,000 base salary + market adjustment + $5,000 bonus  \n",
      "- **2020**: $170,000 base salary (temporary reduction due to COVID-19)  \n",
      "- **2021**: $200,000 base salary + performance bonus of $50,000  \n",
      "- **2022**: $210,000 base salary + retention bonus  \n",
      "- **2023**: $225,000 base salary + $75,000 performance bonus  \n",
      "\n",
      "## Other HR Notes\n",
      "- **Professional Development**: Avery has actively participated in leadership training programs and industry conferences, representing Insurellm and fostering partnerships.  \n",
      "- **Diversity & Inclusion Initiatives**: Avery has championed a commitment to diversity in hiring practices, seeing visible improvements in team representation since 2021.  \n",
      "- **Work-Life Balance**: Feedback revealed concerns regarding work-life balance, which Avery has approached by implementing flexible working conditions and ensuring regular check-ins with the team.\n",
      "- **Community Engagement**: Avery led community outreach efforts, focusing on financial literacy programs, particularly aimed at underserved populations, improving Insurellm's corporate social responsibility image.  \n",
      "\n",
      "Avery Lancaster has demonstrated resilience and adaptability throughout her career at Insurellm, positioning the company as a key player in the insurance technology landscape.\n",
      "\n",
      "\n"
     ]
    }
   ],
   "source": [
    "print(add_context(\"Who is Alex Lancaster?\"))"
   ]
  },
  {
   "cell_type": "code",
   "execution_count": 124,
   "id": "0f5b937d",
   "metadata": {},
   "outputs": [],
   "source": [
    "model = genai.GenerativeModel('gemini-2.0-flash')\n",
    "\n",
    "def chat(message, history=[]):\n",
    "    system_prompt = (\n",
    "        \"You are an expert in answering accurate questions about Insurellm, the Insurance Tech company. \"\n",
    "        \"Give brief, accurate answers. If you don't know the answer, say so. Do not make anything up \"\n",
    "        \"if you haven't been provided with relevant context.\"\n",
    "    )\n",
    "\n",
    "    chat_history_str = \"\"\n",
    "    for user, bot in history:\n",
    "        chat_history_str += f\"User: {user}\\nAssistant: {bot}\\n\"\n",
    "\n",
    "    user_message = add_context(message)\n",
    "\n",
    "    full_input = f\"{system_prompt}\\n\\n{chat_history_str}User: {user_message}\\nAssistant:\"\n",
    "\n",
    "    response = model.generate_content(full_input)\n",
    "    answer = response.text\n",
    "\n",
    "    history.append((message, answer))\n",
    "\n",
    "    return answer, history\n"
   ]
  },
  {
   "cell_type": "code",
   "execution_count": 125,
   "id": "944393a4",
   "metadata": {},
   "outputs": [],
   "source": [
    "answer,chat_history = chat(\"Tell me about Alex Chen?\")"
   ]
  },
  {
   "cell_type": "code",
   "execution_count": 126,
   "id": "c8095221",
   "metadata": {},
   "outputs": [
    {
     "data": {
      "text/plain": [
       "\"Alex Chen is a Backend Software Engineer at Insurellm, located in San Francisco, California. He joined Insurellm in April 2020 as a Junior Backend Developer and was promoted to Backend Software Engineer in October 2021. He was later awarded the title of Senior Backend Software Engineer in March 2023. He has consistently received positive performance reviews and salary increases and is actively involved in Insurellm's Diversity & Inclusion initiatives.\\n\""
      ]
     },
     "execution_count": 126,
     "metadata": {},
     "output_type": "execute_result"
    }
   ],
   "source": [
    "answer"
   ]
  },
  {
   "cell_type": "code",
   "execution_count": 127,
   "id": "1564e546",
   "metadata": {},
   "outputs": [
    {
     "data": {
      "text/plain": [
       "[('Tell me about Alex Chen?',\n",
       "  \"Alex Chen is a Backend Software Engineer at Insurellm, located in San Francisco, California. He joined Insurellm in April 2020 as a Junior Backend Developer and was promoted to Backend Software Engineer in October 2021. He was later awarded the title of Senior Backend Software Engineer in March 2023. He has consistently received positive performance reviews and salary increases and is actively involved in Insurellm's Diversity & Inclusion initiatives.\\n\")]"
      ]
     },
     "execution_count": 127,
     "metadata": {},
     "output_type": "execute_result"
    }
   ],
   "source": [
    "chat_history"
   ]
  },
  {
   "cell_type": "code",
   "execution_count": 128,
   "id": "b7ef5717",
   "metadata": {},
   "outputs": [],
   "source": [
    "answer,chat_history1 = chat(\"Tell me about Alex Chen's 2021 annual performance?\", history=chat_history)"
   ]
  },
  {
   "cell_type": "code",
   "execution_count": 129,
   "id": "20609f60",
   "metadata": {},
   "outputs": [
    {
     "data": {
      "text/plain": [
       "'In 2021, Alex Chen achieved a 95% success rate in project delivery timelines and was awarded \"Rising Star\" at the annual company gala for outstanding contributions. His base salary increased to $90,000, and he received a performance bonus of $5,000.\\n'"
      ]
     },
     "execution_count": 129,
     "metadata": {},
     "output_type": "execute_result"
    }
   ],
   "source": [
    "answer"
   ]
  },
  {
   "cell_type": "code",
   "execution_count": 130,
   "id": "d1af3855",
   "metadata": {},
   "outputs": [
    {
     "data": {
      "text/plain": [
       "[('Tell me about Alex Chen?',\n",
       "  \"Alex Chen is a Backend Software Engineer at Insurellm, located in San Francisco, California. He joined Insurellm in April 2020 as a Junior Backend Developer and was promoted to Backend Software Engineer in October 2021. He was later awarded the title of Senior Backend Software Engineer in March 2023. He has consistently received positive performance reviews and salary increases and is actively involved in Insurellm's Diversity & Inclusion initiatives.\\n\"),\n",
       " (\"Tell me about Alex Chen's 2021 annual performance?\",\n",
       "  'In 2021, Alex Chen achieved a 95% success rate in project delivery timelines and was awarded \"Rising Star\" at the annual company gala for outstanding contributions. His base salary increased to $90,000, and he received a performance bonus of $5,000.\\n')]"
      ]
     },
     "execution_count": 130,
     "metadata": {},
     "output_type": "execute_result"
    }
   ],
   "source": [
    "chat_history1"
   ]
  }
 ],
 "metadata": {
  "kernelspec": {
   "display_name": "Python 3",
   "language": "python",
   "name": "python3"
  },
  "language_info": {
   "codemirror_mode": {
    "name": "ipython",
    "version": 3
   },
   "file_extension": ".py",
   "mimetype": "text/x-python",
   "name": "python",
   "nbconvert_exporter": "python",
   "pygments_lexer": "ipython3",
   "version": "3.11.8"
  }
 },
 "nbformat": 4,
 "nbformat_minor": 5
}
