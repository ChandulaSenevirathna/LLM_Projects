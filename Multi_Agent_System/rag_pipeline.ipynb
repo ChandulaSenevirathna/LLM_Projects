{
 "cells": [
  {
   "cell_type": "code",
   "execution_count": 1,
   "id": "e59c9ddc",
   "metadata": {},
   "outputs": [
    {
     "name": "stdout",
     "output_type": "stream",
     "text": [
      "WARNING:tensorflow:From c:\\Users\\chandula\\AppData\\Local\\Programs\\Python\\Python311\\Lib\\site-packages\\tf_keras\\src\\losses.py:2976: The name tf.losses.sparse_softmax_cross_entropy is deprecated. Please use tf.compat.v1.losses.sparse_softmax_cross_entropy instead.\n",
      "\n"
     ]
    }
   ],
   "source": [
    "import os\n",
    "import re\n",
    "import math\n",
    "import json\n",
    "from tqdm import tqdm\n",
    "import random\n",
    "from dotenv import load_dotenv\n",
    "from huggingface_hub import login\n",
    "import matplotlib.pyplot as plt\n",
    "import numpy as np\n",
    "import pickle\n",
    "from openai import OpenAI\n",
    "from sentence_transformers import SentenceTransformer\n",
    "from datasets import load_dataset\n",
    "import chromadb\n",
    "from testing import Tester"
   ]
  },
  {
   "cell_type": "code",
   "execution_count": 2,
   "id": "1bc8375b",
   "metadata": {},
   "outputs": [],
   "source": [
    "# environment\n",
    "\n",
    "load_dotenv(override=True)\n",
    "os.environ['GEMINI_API_KEY'] = os.getenv('GEMINI_API_KEY', 'your-key-if-not-using-env')\n",
    "os.environ['DEEPSEEK_API_KEY'] = os.getenv('DEEPSEEKER_API_KEY', 'your-key-if-not-using-env')\n",
    "os.environ['HF_TOKEN'] = os.getenv('HF_TOKEN', 'your-key-if-not-using-env')"
   ]
  },
  {
   "cell_type": "code",
   "execution_count": 3,
   "id": "b40afed6",
   "metadata": {},
   "outputs": [
    {
     "name": "stderr",
     "output_type": "stream",
     "text": [
      "Note: Environment variable`HF_TOKEN` is set and is the current active token independently from the token you've just configured.\n"
     ]
    }
   ],
   "source": [
    "# Log in to HuggingFace\n",
    "\n",
    "hf_token = os.environ['HF_TOKEN']\n",
    "login(hf_token, add_to_git_credential=True)"
   ]
  },
  {
   "cell_type": "code",
   "execution_count": 4,
   "id": "331ed5d8",
   "metadata": {},
   "outputs": [],
   "source": [
    "from items import Item"
   ]
  },
  {
   "cell_type": "code",
   "execution_count": 5,
   "id": "6e4f2171",
   "metadata": {},
   "outputs": [],
   "source": [
    "with open('test.pkl', 'rb') as file:\n",
    "    test = pickle.load(file)"
   ]
  },
  {
   "cell_type": "code",
   "execution_count": 6,
   "id": "fca03066",
   "metadata": {},
   "outputs": [],
   "source": [
    "def make_context(similars, prices):\n",
    "    message = \"To provide some context, here are some other items that might be similar to the item you need to estimate.\\n\\n\"\n",
    "    for similar, price in zip(similars, prices):\n",
    "        message += f\"Potentially related product:\\n{similar}\\nPrice is ${price:.2f}\\n\\n\"\n",
    "    return message"
   ]
  },
  {
   "cell_type": "code",
   "execution_count": 7,
   "id": "88a51f62",
   "metadata": {},
   "outputs": [],
   "source": [
    "def messages_for(item, similars, prices):\n",
    "    system_message = \"You estimate prices of items. Reply only with the price, no explanation\"\n",
    "    user_prompt = make_context(similars, prices)\n",
    "    user_prompt += \"And now the question for you:\\n\\n\"\n",
    "    user_prompt += item.test_prompt().replace(\" to the nearest dollar\",\"\").replace(\"\\n\\nPrice is $\",\"\")\n",
    "    return [\n",
    "        {\"role\": \"system\", \"content\": system_message},\n",
    "        {\"role\": \"user\", \"content\": user_prompt},\n",
    "        {\"role\": \"assistant\", \"content\": \"Price is $\"}\n",
    "    ]"
   ]
  },
  {
   "cell_type": "code",
   "execution_count": 8,
   "id": "86e19776",
   "metadata": {},
   "outputs": [],
   "source": [
    "DB = \"./chroma_db\"\n",
    "\n",
    "client = chromadb.PersistentClient(path=DB)\n",
    "\n",
    "collection_name = \"products\"\n",
    "\n",
    "collection = client.get_or_create_collection('products')\n"
   ]
  },
  {
   "cell_type": "code",
   "execution_count": 9,
   "id": "4d769fef",
   "metadata": {},
   "outputs": [],
   "source": [
    "def description(item):\n",
    "    text = item.prompt.replace(\"How much does this cost to the nearest dollar?\\n\\n\", \"\")\n",
    "    return text.split(\"\\n\\nPrice is $\")[0]"
   ]
  },
  {
   "cell_type": "code",
   "execution_count": 10,
   "id": "93352430",
   "metadata": {},
   "outputs": [
    {
     "data": {
      "text/plain": [
       "\"OEM AC Compressor w/A/C Repair Kit For Ford F150 F-150 V8 & Lincoln Mark LT 2007 2008 - BuyAutoParts NEW\\nAs one of the world's largest automotive parts suppliers, our parts are trusted every day by mechanics and vehicle owners worldwide. This A/C Compressor and Components Kit is manufactured and tested to the strictest OE standards for unparalleled performance. Built for trouble-free ownership and 100% visually inspected and quality tested, this A/C Compressor and Components Kit is backed by our 100% satisfaction guarantee. Guaranteed Exact Fit for easy installation 100% BRAND NEW, premium ISO/TS 16949 quality - tested to meet or exceed OEM specifications Engineered for superior durability, backed by industry-leading unlimited-mileage warranty Included in this K\""
      ]
     },
     "execution_count": 10,
     "metadata": {},
     "output_type": "execute_result"
    }
   ],
   "source": [
    "description(test[0])"
   ]
  },
  {
   "cell_type": "code",
   "execution_count": 11,
   "id": "95874a7e",
   "metadata": {},
   "outputs": [],
   "source": [
    "model = SentenceTransformer('sentence-transformers/all-MiniLM-L6-v2')"
   ]
  },
  {
   "cell_type": "code",
   "execution_count": 12,
   "id": "ac4ff488",
   "metadata": {},
   "outputs": [],
   "source": [
    "def vector(item):\n",
    "    return model.encode([description(item)])"
   ]
  },
  {
   "cell_type": "code",
   "execution_count": 13,
   "id": "db0bc81a",
   "metadata": {},
   "outputs": [],
   "source": [
    "def find_similars(item):\n",
    "    results = collection.query(query_embeddings=vector(item).astype(float).tolist(), n_results=5)\n",
    "    documents = results['documents'][0][:]\n",
    "    prices = [m['price'] for m in results['metadatas'][0][:]]\n",
    "    return documents, prices"
   ]
  },
  {
   "cell_type": "code",
   "execution_count": 14,
   "id": "c9ebc1b6",
   "metadata": {},
   "outputs": [
    {
     "name": "stdout",
     "output_type": "stream",
     "text": [
      "How much does this cost to the nearest dollar?\n",
      "\n",
      "Motorcraft YB3125 Fan Clutch\n",
      "Motorcraft YB3125 Fan Clutch Package Dimensions 25.146 cms (L) x 20.066 cms (W) x 15.494 cms (H) Package Quantity 1 Product Type Auto Part Country Of Origin China Manufacturer Motorcraft, Brand Motorcraft, Model Fan Clutch, Weight 5 pounds, Dimensions 10 x 7.63 x 6.25 inches, Country of Origin China, model number Exterior Painted, Manufacturer Part Rank Automotive Automotive Replacement Engine Fan Clutches 583, Domestic Shipping can be shipped within U.S., International Shipping This item can be shipped to select countries outside of the U.S. Learn More, Available October 10, 2007\n",
      "\n",
      "Price is $225.00\n"
     ]
    }
   ],
   "source": [
    "print(test[1].prompt)"
   ]
  },
  {
   "cell_type": "code",
   "execution_count": 15,
   "id": "dcff18db",
   "metadata": {},
   "outputs": [
    {
     "data": {
      "text/plain": [
       "(['Four Seasons 78348 New AC Compressor\\nNew Compressor And Clutch Four Seasons 78348 New Nippondenso 10S17F Compressor w/ Clutch Part number 78348 Package Weight 14.55 pounds Package Dimensions 20.574 H x 28.194 L x 18.034 W (centimeters) Manufacturer Four Seasons, Brand Four Seasons, Weight 6 Pounds, Dimensions 11.3 x 7.2 x 7.8 inches, Country of Origin China, model number 78348, Manufacturer Part 78348, Voltage 120 Volts, Rank Automotive Automotive Replacement Air Conditioning Compressors 1383, Domestic Shipping can be shipped within U.S., International Shipping This item can be shipped to select countries outside of',\n",
       "  'Motorcraft YH-23 Blower Motor Resistor\\nMotorcraft YH-23 Blower Motor Resistor Package Dimensions 6.82 L x 2.36 H x 4.63 W (inches) Fit type Vehicle Specific Package Weight 1.83 pounds Country of Origin China Manufacturer MOTORCRAFT, Brand Motorcraft, Model YH23, Weight 0.01 ounces, Dimensions 4 x 1.75 x 4.06 inches, Country of Origin China, model number YH23, Is Discontinued No, Exterior Painted, Manufacturer Part YH23, OEM Part Rank Automotive Automotive Replacement Blower Motors 1555, Automotive Replacement Air Conditioning Products 6439, Available November 26, 2011',\n",
       "  'Spal 11 Straight Blade Low Profile Fan\\nElectric Cooling Fan - Medium Profile - 11 in Fan - Pusher - 962 CFM - Straight Blade - 12.20 x 11.75 x 2.48 in Thick - Plastic - Each Part Number Country Of Origin China Package Dimensions 8.89 L X 43.18 W X 45.72 H (Centimeters) Package Weight 1.995 Kilograms Brand Spal, Power Source Corded Electric, Style Modern, Dimensions 2.48\\\\ D x 11.75\\\\ W x 12.2\\\\ H, Recommended Uses For Product Cooling, Wattage 12 watts, Voltage 12 Volts, Weight 3.25 pounds, Manufacturer Spal, Country of Origin China, model',\n",
       "  'Motorcraft Compressor\\nMotorcraft A/C Compressor - YCC193 Fit type Vehicle Specific Package Dimensions 18.034 H x 27.686 L x 21.59 W (centimeters) Part number YCC193 Country of Origin China Brand Motorcraft, Recommended Uses For Product Air Conditioner, Included Components A/C Compressor, Weight 15.2 Pounds, Maximum Power 21.59 Watts, Dimensions LxWxH 7.31 x 6.69 x 10.38 inches, Style Portable, Model Name A/C Compressor, Manufacturer Motorcraft, Dimensions 7.31 x 6.69 x 10.38 inches, Country of Origin China, model number Exterior Machined, Manufacturer Part Rank Automotive Automotive Replacement Air Conditioning Compress',\n",
       "  'Clutch Kit Suzuki Carry Mazda Scrum DC51T DD51B DD51T Non-Turbo F6A Clutch Disc Cover\\nSuzuki Carry Every (non-turbo) DC51T, DD51B, DD51T. Mazda Scrum (non-turbo) DJ51B DJ51T DK51B DK51T. DC51T DD51T DJ51B DJ51T DK51T DL51V DM51V 1 - Clutch Disc 170 mm x 18 teeth Aisin (Japan) 1 - Pressure Plate Aisin (Japan) 1 - Release Bearing Koyo (Japan) 1 - Pilot Bearing Koyo (Japan) Manufacturer GoldenGear, Brand GoldenGear, Weight 7.26 pounds, Dimensions '],\n",
       " [186.99, 33.55, 96.92, 204.78, 295.0])"
      ]
     },
     "execution_count": 15,
     "metadata": {},
     "output_type": "execute_result"
    }
   ],
   "source": [
    "documents, prices = find_similars(test[1])\n",
    "documents, prices"
   ]
  },
  {
   "cell_type": "code",
   "execution_count": 16,
   "id": "c7015a59",
   "metadata": {},
   "outputs": [
    {
     "name": "stdout",
     "output_type": "stream",
     "text": [
      "To provide some context, here are some other items that might be similar to the item you need to estimate.\n",
      "\n",
      "Potentially related product:\n",
      "Four Seasons 78348 New AC Compressor\n",
      "New Compressor And Clutch Four Seasons 78348 New Nippondenso 10S17F Compressor w/ Clutch Part number 78348 Package Weight 14.55 pounds Package Dimensions 20.574 H x 28.194 L x 18.034 W (centimeters) Manufacturer Four Seasons, Brand Four Seasons, Weight 6 Pounds, Dimensions 11.3 x 7.2 x 7.8 inches, Country of Origin China, model number 78348, Manufacturer Part 78348, Voltage 120 Volts, Rank Automotive Automotive Replacement Air Conditioning Compressors 1383, Domestic Shipping can be shipped within U.S., International Shipping This item can be shipped to select countries outside of\n",
      "Price is $186.99\n",
      "\n",
      "Potentially related product:\n",
      "Motorcraft YH-23 Blower Motor Resistor\n",
      "Motorcraft YH-23 Blower Motor Resistor Package Dimensions 6.82 L x 2.36 H x 4.63 W (inches) Fit type Vehicle Specific Package Weight 1.83 pounds Country of Origin China Manufacturer MOTORCRAFT, Brand Motorcraft, Model YH23, Weight 0.01 ounces, Dimensions 4 x 1.75 x 4.06 inches, Country of Origin China, model number YH23, Is Discontinued No, Exterior Painted, Manufacturer Part YH23, OEM Part Rank Automotive Automotive Replacement Blower Motors 1555, Automotive Replacement Air Conditioning Products 6439, Available November 26, 2011\n",
      "Price is $33.55\n",
      "\n",
      "Potentially related product:\n",
      "Spal 11 Straight Blade Low Profile Fan\n",
      "Electric Cooling Fan - Medium Profile - 11 in Fan - Pusher - 962 CFM - Straight Blade - 12.20 x 11.75 x 2.48 in Thick - Plastic - Each Part Number Country Of Origin China Package Dimensions 8.89 L X 43.18 W X 45.72 H (Centimeters) Package Weight 1.995 Kilograms Brand Spal, Power Source Corded Electric, Style Modern, Dimensions 2.48\\ D x 11.75\\ W x 12.2\\ H, Recommended Uses For Product Cooling, Wattage 12 watts, Voltage 12 Volts, Weight 3.25 pounds, Manufacturer Spal, Country of Origin China, model\n",
      "Price is $96.92\n",
      "\n",
      "Potentially related product:\n",
      "Motorcraft Compressor\n",
      "Motorcraft A/C Compressor - YCC193 Fit type Vehicle Specific Package Dimensions 18.034 H x 27.686 L x 21.59 W (centimeters) Part number YCC193 Country of Origin China Brand Motorcraft, Recommended Uses For Product Air Conditioner, Included Components A/C Compressor, Weight 15.2 Pounds, Maximum Power 21.59 Watts, Dimensions LxWxH 7.31 x 6.69 x 10.38 inches, Style Portable, Model Name A/C Compressor, Manufacturer Motorcraft, Dimensions 7.31 x 6.69 x 10.38 inches, Country of Origin China, model number Exterior Machined, Manufacturer Part Rank Automotive Automotive Replacement Air Conditioning Compress\n",
      "Price is $204.78\n",
      "\n",
      "Potentially related product:\n",
      "Clutch Kit Suzuki Carry Mazda Scrum DC51T DD51B DD51T Non-Turbo F6A Clutch Disc Cover\n",
      "Suzuki Carry Every (non-turbo) DC51T, DD51B, DD51T. Mazda Scrum (non-turbo) DJ51B DJ51T DK51B DK51T. DC51T DD51T DJ51B DJ51T DK51T DL51V DM51V 1 - Clutch Disc 170 mm x 18 teeth Aisin (Japan) 1 - Pressure Plate Aisin (Japan) 1 - Release Bearing Koyo (Japan) 1 - Pilot Bearing Koyo (Japan) Manufacturer GoldenGear, Brand GoldenGear, Weight 7.26 pounds, Dimensions \n",
      "Price is $295.00\n",
      "\n",
      "\n"
     ]
    }
   ],
   "source": [
    "print(make_context(documents, prices))"
   ]
  },
  {
   "cell_type": "code",
   "execution_count": 17,
   "id": "081061b7",
   "metadata": {},
   "outputs": [
    {
     "name": "stdout",
     "output_type": "stream",
     "text": [
      "[{'role': 'system', 'content': 'You estimate prices of items. Reply only with the price, no explanation'}, {'role': 'user', 'content': 'To provide some context, here are some other items that might be similar to the item you need to estimate.\\n\\nPotentially related product:\\nFour Seasons 78348 New AC Compressor\\nNew Compressor And Clutch Four Seasons 78348 New Nippondenso 10S17F Compressor w/ Clutch Part number 78348 Package Weight 14.55 pounds Package Dimensions 20.574 H x 28.194 L x 18.034 W (centimeters) Manufacturer Four Seasons, Brand Four Seasons, Weight 6 Pounds, Dimensions 11.3 x 7.2 x 7.8 inches, Country of Origin China, model number 78348, Manufacturer Part 78348, Voltage 120 Volts, Rank Automotive Automotive Replacement Air Conditioning Compressors 1383, Domestic Shipping can be shipped within U.S., International Shipping This item can be shipped to select countries outside of\\nPrice is $186.99\\n\\nPotentially related product:\\nMotorcraft YH-23 Blower Motor Resistor\\nMotorcraft YH-23 Blower Motor Resistor Package Dimensions 6.82 L x 2.36 H x 4.63 W (inches) Fit type Vehicle Specific Package Weight 1.83 pounds Country of Origin China Manufacturer MOTORCRAFT, Brand Motorcraft, Model YH23, Weight 0.01 ounces, Dimensions 4 x 1.75 x 4.06 inches, Country of Origin China, model number YH23, Is Discontinued No, Exterior Painted, Manufacturer Part YH23, OEM Part Rank Automotive Automotive Replacement Blower Motors 1555, Automotive Replacement Air Conditioning Products 6439, Available November 26, 2011\\nPrice is $33.55\\n\\nPotentially related product:\\nSpal 11 Straight Blade Low Profile Fan\\nElectric Cooling Fan - Medium Profile - 11 in Fan - Pusher - 962 CFM - Straight Blade - 12.20 x 11.75 x 2.48 in Thick - Plastic - Each Part Number Country Of Origin China Package Dimensions 8.89 L X 43.18 W X 45.72 H (Centimeters) Package Weight 1.995 Kilograms Brand Spal, Power Source Corded Electric, Style Modern, Dimensions 2.48\\\\ D x 11.75\\\\ W x 12.2\\\\ H, Recommended Uses For Product Cooling, Wattage 12 watts, Voltage 12 Volts, Weight 3.25 pounds, Manufacturer Spal, Country of Origin China, model\\nPrice is $96.92\\n\\nPotentially related product:\\nMotorcraft Compressor\\nMotorcraft A/C Compressor - YCC193 Fit type Vehicle Specific Package Dimensions 18.034 H x 27.686 L x 21.59 W (centimeters) Part number YCC193 Country of Origin China Brand Motorcraft, Recommended Uses For Product Air Conditioner, Included Components A/C Compressor, Weight 15.2 Pounds, Maximum Power 21.59 Watts, Dimensions LxWxH 7.31 x 6.69 x 10.38 inches, Style Portable, Model Name A/C Compressor, Manufacturer Motorcraft, Dimensions 7.31 x 6.69 x 10.38 inches, Country of Origin China, model number Exterior Machined, Manufacturer Part Rank Automotive Automotive Replacement Air Conditioning Compress\\nPrice is $204.78\\n\\nPotentially related product:\\nClutch Kit Suzuki Carry Mazda Scrum DC51T DD51B DD51T Non-Turbo F6A Clutch Disc Cover\\nSuzuki Carry Every (non-turbo) DC51T, DD51B, DD51T. Mazda Scrum (non-turbo) DJ51B DJ51T DK51B DK51T. DC51T DD51T DJ51B DJ51T DK51T DL51V DM51V 1 - Clutch Disc 170 mm x 18 teeth Aisin (Japan) 1 - Pressure Plate Aisin (Japan) 1 - Release Bearing Koyo (Japan) 1 - Pilot Bearing Koyo (Japan) Manufacturer GoldenGear, Brand GoldenGear, Weight 7.26 pounds, Dimensions \\nPrice is $295.00\\n\\nAnd now the question for you:\\n\\nHow much does this cost?\\n\\nMotorcraft YB3125 Fan Clutch\\nMotorcraft YB3125 Fan Clutch Package Dimensions 25.146 cms (L) x 20.066 cms (W) x 15.494 cms (H) Package Quantity 1 Product Type Auto Part Country Of Origin China Manufacturer Motorcraft, Brand Motorcraft, Model Fan Clutch, Weight 5 pounds, Dimensions 10 x 7.63 x 6.25 inches, Country of Origin China, model number Exterior Painted, Manufacturer Part Rank Automotive Automotive Replacement Engine Fan Clutches 583, Domestic Shipping can be shipped within U.S., International Shipping This item can be shipped to select countries outside of the U.S. Learn More, Available October 10, 2007'}, {'role': 'assistant', 'content': 'Price is $'}]\n"
     ]
    }
   ],
   "source": [
    "print(messages_for(test[1], documents, prices))"
   ]
  },
  {
   "cell_type": "code",
   "execution_count": 18,
   "id": "acb6b220",
   "metadata": {},
   "outputs": [
    {
     "data": {
      "text/plain": [
       "99.99"
      ]
     },
     "execution_count": 18,
     "metadata": {},
     "output_type": "execute_result"
    }
   ],
   "source": [
    "def get_price(s):\n",
    "    s = s.replace('$','').replace(',','')\n",
    "    match = re.search(r\"[-+]?\\d*\\.\\d+|\\d+\", s)\n",
    "    return float(match.group()) if match else 0\n",
    "\n",
    "get_price(\"The price for this is $99.99\")"
   ]
  },
  {
   "cell_type": "code",
   "execution_count": 19,
   "id": "13f7e557",
   "metadata": {},
   "outputs": [],
   "source": [
    "DEEPSEEK_API = os.environ['DEEPSEEK_API_KEY']\n",
    "\n",
    "deepseek_via_openai_client = OpenAI(\n",
    "    api_key=DEEPSEEK_API,\n",
    "    base_url=\"https://openrouter.ai/api/v1\"\n",
    ")\n",
    "\n",
    "def deepseek_api_rag(item):\n",
    "    documents, prices = find_similars(item)\n",
    "    retries = 8\n",
    "    done = False\n",
    "    while not done and retries > 0:\n",
    "        try:\n",
    "            response = deepseek_via_openai_client.chat.completions.create(\n",
    "                model=\"deepseek/deepseek-r1-distill-llama-70b:free\", \n",
    "                messages=messages_for(item, documents, prices),\n",
    "                seed=42,\n",
    "                max_tokens=8\n",
    "            )\n",
    "            reply = response.choices[0].message.content\n",
    "            done = True\n",
    "        except Exception as e:\n",
    "            print(f\"Error: {e}\")\n",
    "            retries -= 1\n",
    "    return get_price(reply)"
   ]
  },
  {
   "cell_type": "code",
   "execution_count": 20,
   "id": "70b899e2",
   "metadata": {},
   "outputs": [
    {
     "data": {
      "text/plain": [
       "199.0"
      ]
     },
     "execution_count": 20,
     "metadata": {},
     "output_type": "execute_result"
    }
   ],
   "source": [
    "deepseek_api_rag(test[1])"
   ]
  },
  {
   "cell_type": "markdown",
   "id": "02b61517",
   "metadata": {},
   "source": [
    "### wrap this in an \"Agent\" class"
   ]
  },
  {
   "cell_type": "code",
   "execution_count": 21,
   "id": "3e113f43",
   "metadata": {},
   "outputs": [],
   "source": [
    "from agents.frontier_agent import FrontierAgent"
   ]
  },
  {
   "cell_type": "code",
   "execution_count": 22,
   "id": "63ebdbec",
   "metadata": {},
   "outputs": [],
   "source": [
    "import logging\n",
    "root = logging.getLogger()\n",
    "root.setLevel(logging.INFO)"
   ]
  },
  {
   "cell_type": "code",
   "execution_count": 23,
   "id": "36e4f0e7",
   "metadata": {},
   "outputs": [
    {
     "name": "stderr",
     "output_type": "stream",
     "text": [
      "INFO:root:\u001b[40m\u001b[34m[Frontier Agent] Initializing Frontier Agent\u001b[0m\n",
      "INFO:root:\u001b[40m\u001b[34m[Frontier Agent] Frontier Agent is set up with DeepSeek\u001b[0m\n",
      "INFO:sentence_transformers.SentenceTransformer:Use pytorch device_name: cuda\n",
      "INFO:sentence_transformers.SentenceTransformer:Load pretrained SentenceTransformer: sentence-transformers/all-MiniLM-L6-v2\n",
      "INFO:root:\u001b[40m\u001b[34m[Frontier Agent] Frontier Agent is ready\u001b[0m\n"
     ]
    }
   ],
   "source": [
    "agent = FrontierAgent(collection)"
   ]
  },
  {
   "cell_type": "code",
   "execution_count": 24,
   "id": "2c9b40ea",
   "metadata": {},
   "outputs": [
    {
     "name": "stderr",
     "output_type": "stream",
     "text": [
      "INFO:root:\u001b[40m\u001b[34m[Frontier Agent] Frontier Agent is performing a RAG search of the Chroma datastore to find 5 similar products\u001b[0m\n"
     ]
    },
    {
     "data": {
      "application/vnd.jupyter.widget-view+json": {
       "model_id": "3e8a8f1917ae48f894a14f0b1f8c2f47",
       "version_major": 2,
       "version_minor": 0
      },
      "text/plain": [
       "Batches:   0%|          | 0/1 [00:00<?, ?it/s]"
      ]
     },
     "metadata": {},
     "output_type": "display_data"
    },
    {
     "name": "stderr",
     "output_type": "stream",
     "text": [
      "INFO:root:\u001b[40m\u001b[34m[Frontier Agent] Frontier Agent has found similar products\u001b[0m\n",
      "INFO:root:\u001b[40m\u001b[34m[Frontier Agent] Frontier Agent is about to call deepseek/deepseek-r1-distill-llama-70b:free with context including 5 similar products\u001b[0m\n",
      "INFO:httpx:HTTP Request: POST https://openrouter.ai/api/v1/chat/completions \"HTTP/1.1 200 OK\"\n",
      "INFO:root:\u001b[40m\u001b[34m[Frontier Agent] Frontier Agent completed - predicting $139.99\u001b[0m\n"
     ]
    },
    {
     "data": {
      "text/plain": [
       "139.99"
      ]
     },
     "execution_count": 24,
     "metadata": {},
     "output_type": "execute_result"
    }
   ],
   "source": [
    "agent.price(\"Quadcast HyperX condenser mic for high quality podcasting\")"
   ]
  },
  {
   "cell_type": "code",
   "execution_count": 25,
   "id": "ab8e9853",
   "metadata": {},
   "outputs": [
    {
     "name": "stderr",
     "output_type": "stream",
     "text": [
      "INFO:root:\u001b[40m\u001b[31m[Specialist Agent] Specialist Agent is initializing - connecting to modal\u001b[0m\n",
      "INFO:root:\u001b[40m\u001b[31m[Specialist Agent] Specialist Agent is ready\u001b[0m\n",
      "INFO:root:\u001b[40m\u001b[31m[Specialist Agent] Specialist Agent is calling remote fine-tuned model\u001b[0m\n",
      "INFO:root:\u001b[40m\u001b[31m[Specialist Agent] Specialist Agent completed - predicting $189.00\u001b[0m\n"
     ]
    },
    {
     "data": {
      "text/plain": [
       "189.0"
      ]
     },
     "execution_count": 25,
     "metadata": {},
     "output_type": "execute_result"
    }
   ],
   "source": [
    "from agents.specialist_agent import SpecialistAgent\n",
    "\n",
    "agent2 = SpecialistAgent()\n",
    "agent2.price(\"Quadcast HyperX condenser mic for high quality podcasting\")"
   ]
  }
 ],
 "metadata": {
  "kernelspec": {
   "display_name": "Python 3",
   "language": "python",
   "name": "python3"
  },
  "language_info": {
   "codemirror_mode": {
    "name": "ipython",
    "version": 3
   },
   "file_extension": ".py",
   "mimetype": "text/x-python",
   "name": "python",
   "nbconvert_exporter": "python",
   "pygments_lexer": "ipython3",
   "version": "3.11.8"
  }
 },
 "nbformat": 4,
 "nbformat_minor": 5
}
