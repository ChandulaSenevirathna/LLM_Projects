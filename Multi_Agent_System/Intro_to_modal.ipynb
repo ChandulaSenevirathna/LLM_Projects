{
 "cells": [
  {
   "cell_type": "code",
   "execution_count": 1,
   "id": "32631fbf",
   "metadata": {},
   "outputs": [],
   "source": [
    "import modal\n",
    "from dotenv import load_dotenv\n",
    "import os"
   ]
  },
  {
   "cell_type": "code",
   "execution_count": 2,
   "id": "f321fda4",
   "metadata": {},
   "outputs": [],
   "source": [
    "load_dotenv()\n",
    "\n",
    "modal_token_id = os.getenv(\"MODAL_TOKEN_ID\")\n",
    "modal_token_secret = os.getenv(\"MODAL_TOKEN_SECRET\")"
   ]
  },
  {
   "cell_type": "code",
   "execution_count": 3,
   "id": "3b807f68",
   "metadata": {},
   "outputs": [
    {
     "name": "stdout",
     "output_type": "stream",
     "text": [
      "Verifying token against https://api.modal.com\n",
      "Token verified successfully!\n",
      "⠋ Storing token\n",
      "\n",
      "Token written to C:\\Users\\chandula/.modal.toml in profile is098.\n",
      "Warning: The MODAL_TOKEN_ID / MODAL_TOKEN_SECRET environment variables are set;\n",
      "this will override your new credentials.\n"
     ]
    }
   ],
   "source": [
    "!modal token set --token-id {modal_token_id} --token-secret {modal_token_secret}"
   ]
  },
  {
   "cell_type": "code",
   "execution_count": 5,
   "id": "9a044748",
   "metadata": {},
   "outputs": [],
   "source": [
    "from hello import app, hello, hello_europe"
   ]
  },
  {
   "cell_type": "code",
   "execution_count": 6,
   "id": "d0e0ab24",
   "metadata": {},
   "outputs": [
    {
     "data": {
      "text/plain": [
       "'Hello from Negombo, Western Province, LK!!'"
      ]
     },
     "execution_count": 6,
     "metadata": {},
     "output_type": "execute_result"
    }
   ],
   "source": [
    "with app.run():\n",
    "    reply=hello.local()\n",
    "reply"
   ]
  },
  {
   "cell_type": "code",
   "execution_count": null,
   "id": "8f32372c",
   "metadata": {},
   "outputs": [],
   "source": [
    "with app.run():\n",
    "    reply=hello.remote()\n",
    "reply"
   ]
  },
  {
   "cell_type": "code",
   "execution_count": null,
   "id": "83cae8fa",
   "metadata": {},
   "outputs": [],
   "source": []
  }
 ],
 "metadata": {
  "kernelspec": {
   "display_name": "Python 3",
   "language": "python",
   "name": "python3"
  },
  "language_info": {
   "codemirror_mode": {
    "name": "ipython",
    "version": 3
   },
   "file_extension": ".py",
   "mimetype": "text/x-python",
   "name": "python",
   "nbconvert_exporter": "python",
   "pygments_lexer": "ipython3",
   "version": "3.11.8"
  }
 },
 "nbformat": 4,
 "nbformat_minor": 5
}
