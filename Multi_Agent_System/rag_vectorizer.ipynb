{
 "cells": [
  {
   "cell_type": "code",
   "execution_count": 1,
   "id": "581c1177",
   "metadata": {},
   "outputs": [
    {
     "name": "stdout",
     "output_type": "stream",
     "text": [
      "WARNING:tensorflow:From c:\\Users\\chandula\\AppData\\Local\\Programs\\Python\\Python311\\Lib\\site-packages\\tf_keras\\src\\losses.py:2976: The name tf.losses.sparse_softmax_cross_entropy is deprecated. Please use tf.compat.v1.losses.sparse_softmax_cross_entropy instead.\n",
      "\n"
     ]
    }
   ],
   "source": [
    "import os\n",
    "import re\n",
    "import math\n",
    "import json\n",
    "from tqdm import tqdm\n",
    "import random\n",
    "from dotenv import load_dotenv\n",
    "from huggingface_hub import login\n",
    "import numpy as np\n",
    "import pickle\n",
    "from sentence_transformers import SentenceTransformer\n",
    "from datasets import load_dataset\n",
    "import chromadb\n",
    "from sklearn.manifold import TSNE\n",
    "import plotly.graph_objects as go"
   ]
  },
  {
   "cell_type": "code",
   "execution_count": 2,
   "id": "0e6f15aa",
   "metadata": {},
   "outputs": [],
   "source": [
    "load_dotenv(override=True)\n",
    "os.environ['GEMINI_API_KEY'] = os.getenv('GEMINI_API_KEY', 'your-key-if-not-using-env')\n",
    "os.environ['HF_TOKEN'] = os.getenv('HF_TOKEN', 'your-key-if-not-using-env')\n",
    "DB = \"products_vectorstore\""
   ]
  },
  {
   "cell_type": "code",
   "execution_count": 3,
   "id": "390e66b3",
   "metadata": {},
   "outputs": [],
   "source": [
    "from items import Item"
   ]
  },
  {
   "cell_type": "code",
   "execution_count": 4,
   "id": "64237f32",
   "metadata": {},
   "outputs": [],
   "source": [
    "with open('train.pkl', 'rb') as file:\n",
    "    train = pickle.load(file)"
   ]
  },
  {
   "cell_type": "code",
   "execution_count": 5,
   "id": "87783211",
   "metadata": {},
   "outputs": [
    {
     "name": "stdout",
     "output_type": "stream",
     "text": [
      "How much does this cost to the nearest dollar?\n",
      "\n",
      "Delphi FG0166 Fuel Pump Module\n",
      "Delphi brings 80 years of OE Heritage into each Delphi pump, ensuring quality and fitment for each Delphi part. Part is validated, tested and matched to the right vehicle application Delphi brings 80 years of OE Heritage into each Delphi assembly, ensuring quality and fitment for each Delphi part Always be sure to check and clean fuel tank to avoid unnecessary returns Rigorous OE-testing ensures the pump can withstand extreme temperatures Brand Delphi, Fit Type Vehicle Specific Fit, Dimensions LxWxH 19.7 x 7.7 x 5.1 inches, Weight 2.2 Pounds, Auto Part Position Unknown, Operation Mode Mechanical, Manufacturer Delphi, Model FUEL PUMP, Dimensions 19.7\n",
      "\n",
      "Price is $227.00\n"
     ]
    }
   ],
   "source": [
    "print(train[0].prompt)"
   ]
  },
  {
   "cell_type": "markdown",
   "id": "6e7d0a31",
   "metadata": {},
   "source": [
    "### Create Chroma Datastore"
   ]
  },
  {
   "cell_type": "code",
   "execution_count": 6,
   "id": "5e0efa26",
   "metadata": {},
   "outputs": [],
   "source": [
    "DB = \"./chroma_db\"\n",
    "\n",
    "client = chromadb.PersistentClient(path=DB)"
   ]
  },
  {
   "cell_type": "code",
   "execution_count": 7,
   "id": "aee444a7",
   "metadata": {},
   "outputs": [
    {
     "name": "stdout",
     "output_type": "stream",
     "text": [
      "Deleted existing collection: products\n",
      "Created collection: products\n"
     ]
    }
   ],
   "source": [
    "# Collection name\n",
    "collection_name = \"products\"\n",
    "\n",
    "# Check if collection exists and delete it if so\n",
    "existing_collection_names = [c.name for c in client.list_collections()]\n",
    "\n",
    "if collection_name in existing_collection_names:\n",
    "    client.delete_collection(name=collection_name)\n",
    "    print(f\"Deleted existing collection: {collection_name}\")\n",
    "\n",
    "# Create new collection\n",
    "collection = client.create_collection(name=collection_name)\n",
    "print(f\"Created collection: {collection.name}\")\n"
   ]
  },
  {
   "cell_type": "markdown",
   "id": "a7348ed8",
   "metadata": {},
   "source": [
    "### SentenceTransfomer\n",
    "\n",
    "all-MiniLM is a very useful model from HuggingFace that maps sentences & paragraphs to a 384 dimensional dense vector space and is ideal for tasks like semantic search."
   ]
  },
  {
   "cell_type": "code",
   "execution_count": 8,
   "id": "35ea4be5",
   "metadata": {},
   "outputs": [],
   "source": [
    "model = SentenceTransformer('sentence-transformers/all-MiniLM-L6-v2')"
   ]
  },
  {
   "cell_type": "code",
   "execution_count": 9,
   "id": "edc5cb9a",
   "metadata": {},
   "outputs": [
    {
     "data": {
      "text/plain": [
       "array([-9.46715772e-02,  4.27619442e-02,  5.51620312e-02, -5.10993996e-04,\n",
       "        1.16203362e-02, -6.80130497e-02,  2.76405867e-02,  6.06974363e-02,\n",
       "        2.88530476e-02, -1.74128078e-02, -4.94346358e-02,  2.30993405e-02,\n",
       "       -1.28614195e-02, -4.31402661e-02,  2.17510220e-02,  4.26548906e-02,\n",
       "        5.10500148e-02, -7.79727176e-02, -1.23247236e-01,  3.67455892e-02,\n",
       "        4.54117591e-03,  9.47938114e-02, -5.53098843e-02,  1.70641225e-02,\n",
       "       -2.92873103e-02, -4.47124802e-02,  2.06784438e-02,  6.39320090e-02,\n",
       "        2.27427520e-02,  4.87789586e-02, -2.33502639e-03,  4.72859293e-02,\n",
       "       -2.86259074e-02,  2.30624527e-02,  2.45130528e-02,  3.95681784e-02,\n",
       "       -4.33176123e-02, -1.02316663e-01,  2.79877544e-03,  2.39304509e-02,\n",
       "        1.61556322e-02, -8.99080746e-03,  2.07255874e-02,  6.40123338e-02,\n",
       "        6.89179078e-02, -6.98361769e-02,  2.89761275e-03, -8.10989812e-02,\n",
       "        1.71122756e-02,  2.50652153e-03, -1.06529079e-01, -4.87733260e-02,\n",
       "       -1.67762339e-02, -2.28662230e-02,  1.14816584e-01,  4.87412922e-02,\n",
       "       -1.64962150e-02, -6.90832138e-02,  1.13612086e-01, -7.18485788e-02,\n",
       "       -9.01570991e-02,  3.91755702e-06, -8.66769329e-02, -4.05916311e-02,\n",
       "        3.71317603e-02, -1.77618880e-02, -5.57463728e-02, -4.57097143e-02,\n",
       "       -5.43141477e-02, -4.00612205e-02, -4.60227542e-02,  2.82193907e-02,\n",
       "       -2.33606286e-02,  1.44406306e-02, -1.52777461e-02, -4.34328616e-02,\n",
       "        6.81274533e-02,  8.21894482e-02,  7.83890020e-03, -2.85973120e-02,\n",
       "        6.14309274e-02, -4.92684878e-02,  3.27060698e-03, -2.72682998e-02,\n",
       "       -4.59346958e-02, -2.60167904e-02,  5.70649989e-02, -5.86440961e-04,\n",
       "       -4.37076837e-02, -2.47802265e-04, -8.73550102e-02,  3.48776504e-02,\n",
       "        1.39327738e-02, -1.60043836e-02,  2.86957882e-02, -9.48595628e-02,\n",
       "        9.40612778e-02,  5.92685901e-02, -8.65014493e-02,  1.45011440e-01,\n",
       "        2.35388428e-02,  3.43324952e-02,  2.51519319e-04,  7.15541542e-02,\n",
       "       -3.12182549e-02,  3.86665501e-02, -2.47745272e-02,  6.52674288e-02,\n",
       "       -8.28816891e-02, -2.80246995e-02,  9.34543367e-03, -7.85540976e-03,\n",
       "        5.30728176e-02,  2.96895374e-02,  3.27329859e-02,  4.94737029e-02,\n",
       "        2.52208821e-02,  4.67068292e-02,  5.03403842e-02, -7.23745152e-02,\n",
       "        2.54435483e-02, -3.67216617e-02,  1.27570527e-02,  1.46063454e-02,\n",
       "        2.11492646e-02, -5.56909293e-02, -9.18515306e-03, -5.63397728e-34,\n",
       "        9.58769545e-02,  5.94577752e-02,  5.11445291e-02,  3.36359888e-02,\n",
       "       -1.34414537e-02, -2.77203117e-02, -3.48436125e-02,  1.80352349e-02,\n",
       "       -2.53210645e-02,  6.73584361e-03,  5.47840931e-02, -3.60574275e-02,\n",
       "       -5.20870313e-02, -2.90345214e-02,  4.38963482e-03,  6.50023371e-02,\n",
       "        3.07485200e-02,  2.00220551e-02,  1.73041224e-03,  2.96726730e-03,\n",
       "        3.40951188e-03, -6.78145215e-02,  3.41304429e-02,  8.37870035e-03,\n",
       "        5.39904311e-02,  2.70389523e-02,  7.84120113e-02, -1.30136222e-01,\n",
       "        4.84650061e-02,  5.14179543e-02, -7.94677902e-03,  5.57887508e-03,\n",
       "       -5.31025715e-02,  3.81299183e-02, -3.05513348e-02, -7.69778788e-02,\n",
       "        1.20531153e-02, -4.08993363e-02, -8.69358927e-02,  6.38056099e-02,\n",
       "        1.68674700e-02,  1.68737804e-03,  6.28894493e-02, -1.67711712e-02,\n",
       "        2.15586405e-02,  7.10074324e-04,  2.81032105e-03, -8.89794249e-03,\n",
       "       -1.80887431e-02, -2.16217022e-02, -5.59150167e-02,  1.78774297e-02,\n",
       "       -9.27093774e-02,  7.27913994e-03, -1.27753600e-01, -4.86938059e-02,\n",
       "        1.45871965e-02, -1.62751433e-02,  6.75622150e-02,  3.87703031e-02,\n",
       "        7.23295137e-02,  9.14991498e-02, -9.65292305e-02,  4.84791137e-02,\n",
       "       -1.06274150e-01, -1.05042523e-02,  8.90350193e-02, -8.07525665e-02,\n",
       "        7.87081420e-02, -2.04917789e-02, -5.55080809e-02, -3.31532918e-02,\n",
       "       -2.14429814e-02,  4.94700149e-02, -7.05119520e-02,  6.63998649e-02,\n",
       "        7.39671811e-02, -2.70117307e-03,  1.62262786e-02, -3.98229025e-02,\n",
       "        5.94092421e-02, -7.14369211e-03, -3.33479680e-02,  2.30419505e-02,\n",
       "        1.87185649e-02, -6.15725107e-02, -8.55402322e-04, -1.05786644e-01,\n",
       "       -8.43619332e-02, -3.92993093e-02, -3.16447802e-02,  6.60644397e-02,\n",
       "        9.41815674e-02, -8.35982934e-02,  9.50880535e-03,  1.25503147e-34,\n",
       "        6.38197809e-02,  2.11370960e-02, -1.65900420e-02,  1.88641734e-02,\n",
       "       -5.57019189e-02,  1.82812463e-03, -1.37586882e-02,  8.16279277e-02,\n",
       "       -9.13296789e-02,  7.06856102e-02,  6.79991320e-02, -5.44535890e-02,\n",
       "        3.80394012e-02,  3.80507438e-03,  1.03689790e-01,  7.32787186e-04,\n",
       "        2.95661464e-02,  4.19423729e-02, -1.20444335e-01,  1.24932500e-02,\n",
       "       -5.53506427e-02,  1.75228585e-02, -2.28164811e-02, -5.79299480e-02,\n",
       "        9.42932628e-03, -5.42283058e-03, -3.94945685e-03,  2.82348525e-02,\n",
       "       -1.28066882e-01, -1.31304832e-02,  7.42957294e-02, -1.74529422e-02,\n",
       "       -9.72759351e-02,  8.25620908e-03,  2.06900798e-02, -5.29773440e-03,\n",
       "       -1.37695847e-02, -3.50974128e-02,  1.74978152e-02, -1.76232886e-02,\n",
       "       -6.50825649e-02, -3.84675823e-02, -8.76396522e-02,  3.21291834e-02,\n",
       "        2.55017169e-03, -2.09378898e-02,  5.55309877e-02,  2.57095601e-02,\n",
       "       -2.94735450e-02,  1.25047928e-02, -6.83466271e-02, -8.00624266e-02,\n",
       "       -1.46906646e-02,  1.03744501e-02, -8.51863176e-02, -1.10538937e-02,\n",
       "        2.14596614e-02,  4.08609100e-02,  3.31646837e-02, -2.76757330e-02,\n",
       "       -2.01877523e-02,  8.98881443e-03,  3.92048322e-02,  1.15103304e-01,\n",
       "        5.50441109e-02,  2.72755213e-02, -1.09526731e-01, -1.72623135e-02,\n",
       "        1.33438082e-02, -1.73702445e-02, -5.04367100e-03, -2.00292692e-02,\n",
       "        1.16672412e-01, -1.84322670e-02,  3.70627791e-02,  1.60885789e-02,\n",
       "        3.48830186e-02,  5.50574623e-02, -6.60796743e-03,  7.06828609e-02,\n",
       "        4.07849140e-02, -1.43314349e-02, -2.85442546e-03,  2.74251997e-02,\n",
       "       -4.26769108e-02,  1.26583707e-02,  3.34343351e-02,  1.62644889e-02,\n",
       "        1.19263362e-02, -2.92118993e-02,  2.73977946e-02,  3.44304852e-02,\n",
       "        2.52832547e-02,  3.07514481e-02,  3.22557352e-02, -1.74628543e-08,\n",
       "       -1.52691146e-02,  5.37681254e-03,  1.41246542e-01,  5.08366488e-02,\n",
       "        5.32256328e-02,  9.67938304e-02,  4.33674343e-02, -6.48315530e-03,\n",
       "        1.58603899e-02,  4.05631326e-02,  6.94984943e-02,  6.04905523e-02,\n",
       "       -6.26189262e-02, -3.96144316e-02,  1.10648908e-01,  1.67735312e-02,\n",
       "       -7.68693537e-03,  2.59615723e-02, -5.28792888e-02, -2.22319178e-02,\n",
       "        1.74595956e-02,  4.75340039e-02,  3.27674635e-02, -4.59684543e-02,\n",
       "        2.01770682e-02, -1.60875898e-02, -1.58613957e-02, -1.66658182e-02,\n",
       "       -3.05246767e-02, -3.87907289e-02, -1.27654253e-02,  6.57610595e-02,\n",
       "       -2.22503077e-02, -9.44992155e-03,  2.32080091e-02,  2.66038105e-02,\n",
       "        2.14203969e-02, -7.54580321e-03,  8.84752050e-02, -9.43513960e-02,\n",
       "       -5.74870557e-02, -7.77097642e-02,  1.95793970e-03, -1.50347417e-02,\n",
       "       -8.08494352e-03,  1.88217517e-02,  8.42518918e-03, -3.78592201e-02,\n",
       "        1.24534508e-02, -7.94995874e-02, -2.15790663e-02,  1.20276762e-02,\n",
       "        1.74870789e-02,  8.74479264e-02,  6.64091483e-02,  3.13736871e-02,\n",
       "       -1.00628622e-02,  2.07700673e-02, -5.20163178e-02, -8.91334470e-03,\n",
       "        1.48542345e-01, -2.51266104e-03,  9.93156210e-02,  2.34929677e-02],\n",
       "      dtype=float32)"
      ]
     },
     "execution_count": 9,
     "metadata": {},
     "output_type": "execute_result"
    }
   ],
   "source": [
    "vector = model.encode([\"Well hi there\"])[0]\n",
    "vector"
   ]
  },
  {
   "cell_type": "code",
   "execution_count": 11,
   "id": "afb0c3ba",
   "metadata": {},
   "outputs": [],
   "source": [
    "# function to compare vectors\n",
    "\n",
    "import numpy as np\n",
    "\n",
    "def cosine_similarity(a, b):\n",
    "    return np.dot(a, b) / (np.linalg.norm(a) * np.linalg.norm(b))\n",
    "\n",
    "def how_similar(text1, text2):\n",
    "    vector1, vector2 = model.encode([text1, text2])\n",
    "    similarity = cosine_similarity(vector1, vector2)\n",
    "    print(f\"Similarity between {text1} and {text2} is {similarity*100:.1f}%\")"
   ]
  },
  {
   "cell_type": "code",
   "execution_count": 12,
   "id": "bcdf8a44",
   "metadata": {},
   "outputs": [
    {
     "name": "stdout",
     "output_type": "stream",
     "text": [
      "Similarity between Java and C++ is 50.7%\n",
      "Similarity between Java and mug is 25.8%\n",
      "Similarity between Cup of Java and mug is 49.3%\n"
     ]
    }
   ],
   "source": [
    "how_similar(\"Java\", \"C++\")\n",
    "how_similar(\"Java\", \"mug\")\n",
    "how_similar(\"Cup of Java\", \"mug\")"
   ]
  },
  {
   "cell_type": "code",
   "execution_count": 13,
   "id": "20a77872",
   "metadata": {},
   "outputs": [],
   "source": [
    "def description(item):\n",
    "    text = item.prompt.replace(\"How much does this cost to the nearest dollar?\\n\\n\", \"\")\n",
    "    return text.split(\"\\n\\nPrice is $\")[0]"
   ]
  },
  {
   "cell_type": "code",
   "execution_count": 16,
   "id": "f3fe411c",
   "metadata": {},
   "outputs": [
    {
     "data": {
      "text/plain": [
       "'How much does this cost to the nearest dollar?\\n\\nDelphi FG0166 Fuel Pump Module\\nDelphi brings 80 years of OE Heritage into each Delphi pump, ensuring quality and fitment for each Delphi part. Part is validated, tested and matched to the right vehicle application Delphi brings 80 years of OE Heritage into each Delphi assembly, ensuring quality and fitment for each Delphi part Always be sure to check and clean fuel tank to avoid unnecessary returns Rigorous OE-testing ensures the pump can withstand extreme temperatures Brand Delphi, Fit Type Vehicle Specific Fit, Dimensions LxWxH 19.7 x 7.7 x 5.1 inches, Weight 2.2 Pounds, Auto Part Position Unknown, Operation Mode Mechanical, Manufacturer Delphi, Model FUEL PUMP, Dimensions 19.7\\n\\nPrice is $227.00'"
      ]
     },
     "execution_count": 16,
     "metadata": {},
     "output_type": "execute_result"
    }
   ],
   "source": [
    "train[0].prompt"
   ]
  },
  {
   "cell_type": "code",
   "execution_count": 14,
   "id": "6b927a29",
   "metadata": {},
   "outputs": [
    {
     "data": {
      "text/plain": [
       "'Delphi FG0166 Fuel Pump Module\\nDelphi brings 80 years of OE Heritage into each Delphi pump, ensuring quality and fitment for each Delphi part. Part is validated, tested and matched to the right vehicle application Delphi brings 80 years of OE Heritage into each Delphi assembly, ensuring quality and fitment for each Delphi part Always be sure to check and clean fuel tank to avoid unnecessary returns Rigorous OE-testing ensures the pump can withstand extreme temperatures Brand Delphi, Fit Type Vehicle Specific Fit, Dimensions LxWxH 19.7 x 7.7 x 5.1 inches, Weight 2.2 Pounds, Auto Part Position Unknown, Operation Mode Mechanical, Manufacturer Delphi, Model FUEL PUMP, Dimensions 19.7'"
      ]
     },
     "execution_count": 14,
     "metadata": {},
     "output_type": "execute_result"
    }
   ],
   "source": [
    "description(train[0])"
   ]
  },
  {
   "cell_type": "code",
   "execution_count": null,
   "id": "81272ae8",
   "metadata": {},
   "outputs": [],
   "source": []
  }
 ],
 "metadata": {
  "kernelspec": {
   "display_name": "Python 3",
   "language": "python",
   "name": "python3"
  },
  "language_info": {
   "codemirror_mode": {
    "name": "ipython",
    "version": 3
   },
   "file_extension": ".py",
   "mimetype": "text/x-python",
   "name": "python",
   "nbconvert_exporter": "python",
   "pygments_lexer": "ipython3",
   "version": "3.11.8"
  }
 },
 "nbformat": 4,
 "nbformat_minor": 5
}
