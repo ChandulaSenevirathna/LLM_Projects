{
 "cells": [
  {
   "cell_type": "markdown",
   "id": "bcb919f7",
   "metadata": {},
   "source": [
    "## Project - Airline AI Assistant"
   ]
  },
  {
   "cell_type": "code",
   "execution_count": null,
   "id": "339b0697",
   "metadata": {},
   "outputs": [],
   "source": [
    "import os\n",
    "import json\n",
    "from dotenv import load_dotenv\n",
    "import google.generativeai as genai\n",
    "import gradio as gr"
   ]
  },
  {
   "cell_type": "code",
   "execution_count": null,
   "id": "d8dbeec3",
   "metadata": {},
   "outputs": [],
   "source": [
    "load_dotenv()\n",
    "\n",
    "google_api_key = os.getenv('GEMINI_API_KEY')"
   ]
  },
  {
   "cell_type": "code",
   "execution_count": null,
   "id": "facd110f",
   "metadata": {},
   "outputs": [],
   "source": [
    "genai.configure(api_key=google_api_key)"
   ]
  },
  {
   "cell_type": "code",
   "execution_count": null,
   "id": "8810ea22",
   "metadata": {},
   "outputs": [],
   "source": [
    "system_message = \"You are a helpful assistant for an Airline called FlightAI. \"\n",
    "system_message += \"Give short, courteous answers, no more than 1 sentence. \"\n",
    "system_message += \"Always be accurate. If you don't know the answer, say so.\""
   ]
  },
  {
   "cell_type": "code",
   "execution_count": null,
   "id": "a5b20f2b",
   "metadata": {},
   "outputs": [],
   "source": [
    "def stream_gemini_with_history(message, history):\n",
    "        \n",
    "    model = genai.GenerativeModel(\n",
    "        model_name=\"gemini-2.0-flash\",\n",
    "        system_instruction=system_message\n",
    "    )\n",
    "    \n",
    "    prompt = \"\"\n",
    "    for user_msg, bot_msg in history:\n",
    "        prompt += f\"User: {user_msg}\\nAssistant: {bot_msg}\\n\"\n",
    "    prompt += f\"User: {message}\\nAssistant:\"\n",
    "\n",
    "    stream = model.generate_content(prompt, stream=True)\n",
    "\n",
    "    response = \"\"\n",
    "    for chunk in stream:\n",
    "        if chunk.text:\n",
    "            response += chunk.text\n",
    "            yield history + [(message, response)], \"\"\n"
   ]
  }
 ],
 "metadata": {
  "language_info": {
   "name": "python"
  }
 },
 "nbformat": 4,
 "nbformat_minor": 5
}
