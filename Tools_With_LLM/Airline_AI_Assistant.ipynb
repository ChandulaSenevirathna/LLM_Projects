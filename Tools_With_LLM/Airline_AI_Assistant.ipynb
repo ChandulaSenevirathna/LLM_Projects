{
 "cells": [
  {
   "cell_type": "markdown",
   "id": "bcb919f7",
   "metadata": {},
   "source": [
    "## Project - Airline AI Assistant"
   ]
  },
  {
   "cell_type": "code",
   "execution_count": 16,
   "id": "339b0697",
   "metadata": {},
   "outputs": [],
   "source": [
    "import os\n",
    "import json\n",
    "from dotenv import load_dotenv\n",
    "import google.generativeai as genai\n",
    "import gradio as gr\n",
    "from IPython.display import Markdown, display, clear_output"
   ]
  },
  {
   "cell_type": "code",
   "execution_count": 2,
   "id": "d8dbeec3",
   "metadata": {},
   "outputs": [],
   "source": [
    "load_dotenv()\n",
    "\n",
    "google_api_key = os.getenv('GEMINI_API_KEY')"
   ]
  },
  {
   "cell_type": "code",
   "execution_count": 3,
   "id": "facd110f",
   "metadata": {},
   "outputs": [],
   "source": [
    "genai.configure(api_key=google_api_key)"
   ]
  },
  {
   "cell_type": "code",
   "execution_count": 4,
   "id": "8810ea22",
   "metadata": {},
   "outputs": [],
   "source": [
    "system_message = \"You are a helpful assistant for an Airline called FlightAI. \"\n",
    "system_message += \"Give short, courteous answers using markdown, no more than 1 sentence. \"\n",
    "system_message += \"Always be accurate. If you don't know the answer, say so.\""
   ]
  },
  {
   "cell_type": "code",
   "execution_count": 5,
   "id": "19d24c07",
   "metadata": {},
   "outputs": [],
   "source": [
    "ticket_prices = {\"london\": \"$799\", \"paris\": \"$899\", \"tokyo\": \"$1400\", \"berlin\": \"$499\"}\n",
    "\n",
    "def get_ticket_price(destination_city):\n",
    "    city = destination_city.lower()\n",
    "    return ticket_prices.get(city, \"Unknown\")"
   ]
  },
  {
   "cell_type": "code",
   "execution_count": 6,
   "id": "88c91e19",
   "metadata": {},
   "outputs": [],
   "source": [
    "price_function = genai.protos.FunctionDeclaration(\n",
    "    name=\"get_ticket_price\",\n",
    "    description=\"Get the price of a return ticket to the destination city. Call this whenever you need to know the ticket price, for example when a customer asks 'How much is a ticket to this city'\",\n",
    "    parameters=genai.protos.Schema(\n",
    "        type=genai.protos.Type.OBJECT,\n",
    "        properties={\n",
    "            \"destination_city\": genai.protos.Schema(\n",
    "                type=genai.protos.Type.STRING,\n",
    "                description=\"The city that the customer wants to travel to\"\n",
    "            )\n",
    "        },\n",
    "        required=[\"destination_city\"]\n",
    "    )\n",
    ")"
   ]
  },
  {
   "cell_type": "code",
   "execution_count": 28,
   "id": "e13025b0",
   "metadata": {},
   "outputs": [],
   "source": [
    "def stream_gemini_with_history(message, history):\n",
    "    model = genai.GenerativeModel(\n",
    "        model_name=\"gemini-2.0-flash\",\n",
    "        system_instruction=system_message,\n",
    "        tools=[price_function]\n",
    "    )\n",
    "\n",
    "    chat_history = []\n",
    "    for user_msg, bot_msg in history:\n",
    "        chat_history.append({\"role\": \"user\", \"parts\": [user_msg]})\n",
    "        chat_history.append({\"role\": \"model\", \"parts\": [bot_msg]})\n",
    "    chat_history.append({\"role\": \"user\", \"parts\": [message]})\n",
    "    \n",
    "    print(chat_history)\n",
    "\n",
    "    response = model.generate_content(chat_history)\n",
    "\n",
    "    function_called = False\n",
    "    function_result_text = \"\"\n",
    "    if response.candidates[0].content.parts and hasattr(response.candidates[0].content.parts[0], \"function_call\"):\n",
    "        function_call = response.candidates[0].content.parts[0].function_call\n",
    "        function_name = function_call.name\n",
    "        args = dict(function_call.args or {})\n",
    "\n",
    "        if function_name == \"get_ticket_price\":\n",
    "            dest = args.get(\"destination_city\", \"\")\n",
    "            price = get_ticket_price(dest)\n",
    "            function_result_text = f\"A ticket to {dest.title()} costs {price}.\"\n",
    "            function_called = True\n",
    "\n",
    "            chat_history.append({\"role\": \"model\", \"parts\": [function_result_text]})\n",
    "\n",
    "    stream = model.generate_content(chat_history, stream=True)\n",
    "\n",
    "    response_text = \"\"\n",
    "    if function_called:\n",
    "        response_text += function_result_text\n",
    "\n",
    "    for chunk in stream:\n",
    "        if chunk.text:\n",
    "            response_text += chunk.text\n",
    "            yield history + [(message, response_text)], \"\"\n"
   ]
  },
  {
   "cell_type": "code",
   "execution_count": null,
   "id": "8650d08b",
   "metadata": {},
   "outputs": [
    {
     "name": "stderr",
     "output_type": "stream",
     "text": [
      "C:\\Users\\chandula\\AppData\\Local\\Temp\\ipykernel_4820\\1640575266.py:7: UserWarning: You have not specified a value for the `type` parameter. Defaulting to the 'tuples' format for chatbot messages, but this is deprecated and will be removed in a future version of Gradio. Please set type='messages' instead, which uses openai-style dictionaries with 'role' and 'content' keys.\n",
      "  chatbot = gr.Chatbot(label=\"Conversation\", show_copy_button=True)\n"
     ]
    },
    {
     "name": "stdout",
     "output_type": "stream",
     "text": [
      "* Running on local URL:  http://127.0.0.1:7868\n",
      "\n",
      "To create a public link, set `share=True` in `launch()`.\n"
     ]
    },
    {
     "data": {
      "text/html": [
       "<div><iframe src=\"http://127.0.0.1:7868/\" width=\"100%\" height=\"500\" allow=\"autoplay; camera; microphone; clipboard-read; clipboard-write;\" frameborder=\"0\" allowfullscreen></iframe></div>"
      ],
      "text/plain": [
       "<IPython.core.display.HTML object>"
      ]
     },
     "metadata": {},
     "output_type": "display_data"
    },
    {
     "data": {
      "text/plain": []
     },
     "execution_count": 29,
     "metadata": {},
     "output_type": "execute_result"
    },
    {
     "name": "stdout",
     "output_type": "stream",
     "text": [
      "[{'role': 'user', 'parts': ['hi']}]\n",
      "[{'role': 'user', 'parts': ['hi']}, {'role': 'model', 'parts': ['Hello! How can I help you today?\\n']}, {'role': 'user', 'parts': ['how are you']}]\n"
     ]
    }
   ],
   "source": [
    "def clear_chat():\n",
    "    return [], \"\"\n",
    "\n",
    "with gr.Blocks(theme=gr.themes.Soft()) as view:\n",
    "    gr.Markdown(\"## 💬 FlightAI\")\n",
    "\n",
    "    chatbot = gr.Chatbot(label=\"Conversation\", show_copy_button=True)\n",
    "    msg = gr.Textbox(label=\"Your message:\", lines=2, placeholder=\"Type your message here...\")\n",
    "\n",
    "    with gr.Row():\n",
    "        send_btn = gr.Button(\"Send\")\n",
    "        clear_btn = gr.Button(\"Clear Chat\")\n",
    "\n",
    "    msg.submit(stream_gemini_with_history, inputs=[msg, chatbot], outputs=[chatbot, msg])\n",
    "    send_btn.click(stream_gemini_with_history, inputs=[msg, chatbot], outputs=[chatbot, msg])\n",
    "\n",
    "    clear_btn.click(clear_chat, outputs=[chatbot, msg])\n",
    "\n",
    "view.launch()\n"
   ]
  }
 ],
 "metadata": {
  "kernelspec": {
   "display_name": "Python 3",
   "language": "python",
   "name": "python3"
  },
  "language_info": {
   "codemirror_mode": {
    "name": "ipython",
    "version": 3
   },
   "file_extension": ".py",
   "mimetype": "text/x-python",
   "name": "python",
   "nbconvert_exporter": "python",
   "pygments_lexer": "ipython3",
   "version": "3.11.8"
  }
 },
 "nbformat": 4,
 "nbformat_minor": 5
}
