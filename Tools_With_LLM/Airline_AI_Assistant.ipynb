{
 "cells": [
  {
   "cell_type": "markdown",
   "id": "bcb919f7",
   "metadata": {},
   "source": [
    "## Project - Airline AI Assistant"
   ]
  },
  {
   "cell_type": "code",
   "execution_count": 149,
   "id": "339b0697",
   "metadata": {},
   "outputs": [],
   "source": [
    "import os\n",
    "import json\n",
    "from dotenv import load_dotenv\n",
    "import google.generativeai as genai\n",
    "import gradio as gr\n",
    "from IPython.display import Markdown, display, clear_output"
   ]
  },
  {
   "cell_type": "code",
   "execution_count": 150,
   "id": "d8dbeec3",
   "metadata": {},
   "outputs": [],
   "source": [
    "load_dotenv()\n",
    "\n",
    "google_api_key = os.getenv('GEMINI_API_KEY')"
   ]
  },
  {
   "cell_type": "code",
   "execution_count": 151,
   "id": "facd110f",
   "metadata": {},
   "outputs": [],
   "source": [
    "genai.configure(api_key=google_api_key)"
   ]
  },
  {
   "cell_type": "code",
   "execution_count": 152,
   "id": "8810ea22",
   "metadata": {},
   "outputs": [],
   "source": [
    "system_message = \"You are a helpful assistant for an Airline called FlightAI. \"\n",
    "system_message += \"Give short, courteous answers using markdown, no more than 1 sentence. \"\n",
    "system_message += \"Always be accurate. If you don't know the answer, say so.\""
   ]
  },
  {
   "cell_type": "code",
   "execution_count": 153,
   "id": "19d24c07",
   "metadata": {},
   "outputs": [],
   "source": [
    "ticket_prices = {\"london\": \"$799\", \"paris\": \"$899\", \"tokyo\": \"$1400\", \"berlin\": \"$499\"}\n",
    "\n",
    "def get_ticket_price(destination_city):\n",
    "    print(f\"Tool get_ticket_price called for {destination_city}\")\n",
    "    city = destination_city.lower()\n",
    "    return ticket_prices.get(city, \"Unknown\")"
   ]
  },
  {
   "cell_type": "code",
   "execution_count": 154,
   "id": "88c91e19",
   "metadata": {},
   "outputs": [],
   "source": [
    "price_function = genai.protos.FunctionDeclaration(\n",
    "    name=\"get_ticket_price\",\n",
    "    description=\"Get the price of a return ticket to the destination city. Call this whenever you need to know the ticket price, for example when a customer asks 'How much is a ticket to this city'\",\n",
    "    parameters=genai.protos.Schema(\n",
    "        type=genai.protos.Type.OBJECT,\n",
    "        properties={\n",
    "            \"destination_city\": genai.protos.Schema(\n",
    "                type=genai.protos.Type.STRING,\n",
    "                description=\"The city that the customer wants to travel to\"\n",
    "            )\n",
    "        },\n",
    "        required=[\"destination_city\"]\n",
    "    )\n",
    ")"
   ]
  },
  {
   "cell_type": "code",
   "execution_count": null,
   "id": "45e1f3c6",
   "metadata": {},
   "outputs": [],
   "source": [
    "def stream_gemini_with_history(message, history):\n",
    "    model = genai.GenerativeModel(\n",
    "        model_name=\"gemini-2.0-flash\",\n",
    "        system_instruction=system_message,\n",
    "        tools=[price_function]\n",
    "    )\n",
    "\n",
    "    prompt = \"\"\n",
    "    for user_msg, bot_msg in history:\n",
    "        prompt += f\"User: {user_msg}\\nAssistant: {bot_msg}\\n\"\n",
    "    prompt += f\"User: {message}\\nAssistant:\"\n",
    "\n",
    "    response = model.generate_content(prompt)\n",
    "\n",
    "    if response.candidates[0].content.parts and hasattr(response.candidates[0].content.parts[0], \"function_call\"):\n",
    "        all_parts = response.candidates[0].content.parts\n",
    "        function_results = \"\"\n",
    "\n",
    "        for part in all_parts:\n",
    "            if hasattr(part, \"function_call\"):\n",
    "                function_call = part.function_call\n",
    "                function_name = function_call.name\n",
    "\n",
    "                if function_call.args is not None:\n",
    "                    function_args = dict(function_call.args)\n",
    "                else:\n",
    "                    function_args = {}\n",
    "\n",
    "                print(f\"Function called: {function_name} with args: {function_args}\")\n",
    "\n",
    "                if function_name == \"get_ticket_price\":\n",
    "                    dest = function_args.get(\"destination_city\")\n",
    "                    if dest:\n",
    "                        result = get_ticket_price(dest)\n",
    "                        function_results += f\"[Function call: {function_name}({function_args}) returned: {result}]\\n\"\n",
    "\n",
    "        prompt += \"\\n\" + function_results + \"Assistant:\"\n",
    "\n",
    "    stream = model.generate_content(prompt, stream=True)\n",
    "\n",
    "    response_text = \"\"\n",
    "    for chunk in stream:\n",
    "        if chunk.text:\n",
    "            response_text += chunk.text\n",
    "            yield history + [(message, response_text)], \"\""
   ]
  },
  {
   "cell_type": "code",
   "execution_count": 157,
   "id": "87f8c8dc",
   "metadata": {},
   "outputs": [
    {
     "data": {
      "text/markdown": [
       "I am doing well, thank you for asking.\n"
      ],
      "text/plain": [
       "<IPython.core.display.Markdown object>"
      ]
     },
     "metadata": {},
     "output_type": "display_data"
    }
   ],
   "source": [
    "history = []\n",
    "user_message = \"hey how are you\"\n",
    "\n",
    "response_gen = stream_gemini_with_history(user_message, history)\n",
    "\n",
    "for updated_history, _ in response_gen:\n",
    "    last_user, last_assistant = updated_history[-1]\n",
    "    clear_output(wait=True)\n",
    "    display(Markdown(last_assistant))"
   ]
  }
 ],
 "metadata": {
  "kernelspec": {
   "display_name": "Python 3",
   "language": "python",
   "name": "python3"
  },
  "language_info": {
   "codemirror_mode": {
    "name": "ipython",
    "version": 3
   },
   "file_extension": ".py",
   "mimetype": "text/x-python",
   "name": "python",
   "nbconvert_exporter": "python",
   "pygments_lexer": "ipython3",
   "version": "3.11.8"
  }
 },
 "nbformat": 4,
 "nbformat_minor": 5
}
