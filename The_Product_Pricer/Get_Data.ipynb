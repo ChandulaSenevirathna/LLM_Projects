{
 "cells": [
  {
   "cell_type": "code",
   "execution_count": 6,
   "id": "04befe84",
   "metadata": {},
   "outputs": [],
   "source": [
    "import os\n",
    "from dotenv import load_dotenv\n",
    "from huggingface_hub import login\n",
    "from datasets import load_dataset, Dataset, DatasetDict\n",
    "import matplotlib.pyplot as plt"
   ]
  },
  {
   "cell_type": "code",
   "execution_count": 3,
   "id": "47976a59",
   "metadata": {},
   "outputs": [],
   "source": [
    "HF_TOKEN = os.getenv(\"HF_TOKEN\")"
   ]
  },
  {
   "cell_type": "code",
   "execution_count": 4,
   "id": "b848bae2",
   "metadata": {},
   "outputs": [
    {
     "name": "stderr",
     "output_type": "stream",
     "text": [
      "Note: Environment variable`HF_TOKEN` is set and is the current active token independently from the token you've just configured.\n"
     ]
    }
   ],
   "source": [
    "login(HF_TOKEN, add_to_git_credential=True)"
   ]
  },
  {
   "cell_type": "code",
   "execution_count": 7,
   "id": "a07cc8fb",
   "metadata": {},
   "outputs": [
    {
     "data": {
      "application/vnd.jupyter.widget-view+json": {
       "model_id": "c57f93cd7f4247f19638eae676fda6b7",
       "version_major": 2,
       "version_minor": 0
      },
      "text/plain": [
       "README.md: 0.00B [00:00, ?B/s]"
      ]
     },
     "metadata": {},
     "output_type": "display_data"
    },
    {
     "name": "stderr",
     "output_type": "stream",
     "text": [
      "c:\\Users\\chandula\\AppData\\Local\\Programs\\Python\\Python311\\Lib\\site-packages\\huggingface_hub\\file_download.py:144: UserWarning: `huggingface_hub` cache-system uses symlinks by default to efficiently store duplicated files but your machine does not support them in C:\\Users\\chandula\\.cache\\huggingface\\hub\\datasets--McAuley-Lab--Amazon-Reviews-2023. Caching files will still work but in a degraded version that might require more space on your disk. This warning can be disabled by setting the `HF_HUB_DISABLE_SYMLINKS_WARNING` environment variable. For more details, see https://huggingface.co/docs/huggingface_hub/how-to-cache#limitations.\n",
      "To support symlinks on Windows, you either need to activate Developer Mode or to run Python as an administrator. In order to activate developer mode, see this article: https://docs.microsoft.com/en-us/windows/apps/get-started/enable-your-device-for-development\n",
      "  warnings.warn(message)\n"
     ]
    },
    {
     "data": {
      "application/vnd.jupyter.widget-view+json": {
       "model_id": "2fbf01ab9b904815a2f7bf5ce84883fa",
       "version_major": 2,
       "version_minor": 0
      },
      "text/plain": [
       "Amazon-Reviews-2023.py: 0.00B [00:00, ?B/s]"
      ]
     },
     "metadata": {},
     "output_type": "display_data"
    },
    {
     "data": {
      "application/vnd.jupyter.widget-view+json": {
       "model_id": "efbf1e3bc33f4e6aaf6bfff0e5a48c3f",
       "version_major": 2,
       "version_minor": 0
      },
      "text/plain": [
       "meta_Appliances.jsonl:   0%|          | 0.00/285M [00:00<?, ?B/s]"
      ]
     },
     "metadata": {},
     "output_type": "display_data"
    },
    {
     "data": {
      "application/vnd.jupyter.widget-view+json": {
       "model_id": "2a524fd7fbdc4425a10b2a7f75304410",
       "version_major": 2,
       "version_minor": 0
      },
      "text/plain": [
       "Generating full split: 0 examples [00:00, ? examples/s]"
      ]
     },
     "metadata": {},
     "output_type": "display_data"
    }
   ],
   "source": [
    "dataset = load_dataset(\"McAuley-Lab/Amazon-Reviews-2023\", f\"raw_meta_Appliances\", split=\"full\", trust_remote_code=True)"
   ]
  },
  {
   "cell_type": "code",
   "execution_count": 10,
   "id": "d0866336",
   "metadata": {},
   "outputs": [
    {
     "name": "stdout",
     "output_type": "stream",
     "text": [
      "Number of Appliances: 94,327\n"
     ]
    }
   ],
   "source": [
    "print(f\"Number of Appliances: {len(dataset):,}\")"
   ]
  },
  {
   "cell_type": "code",
   "execution_count": 13,
   "id": "525eb729",
   "metadata": {},
   "outputs": [
    {
     "data": {
      "text/plain": [
       "{'main_category': 'Tools & Home Improvement',\n",
       " 'title': 'HANSGO Egg Holder for Refrigerator, Deviled Eggs Dispenser Egg Storage Stackable Plastic Egg Containers Hold ups to 10 Eggs',\n",
       " 'average_rating': 4.2,\n",
       " 'rating_number': 75,\n",
       " 'features': ['Plastic',\n",
       "  'Practical Kitchen Storage - Our egg holder holds up to 10 eggs in normal size, keep eggs safe and fresh with this home basics fridge bin.',\n",
       "  'Easy to Use - Egg holder for refrigerator can be superimposed on the refrigerator, beautiful and room-saving, neatly organize your refrigerator without any loose eggs or flimsy egg cartons. Super easy to clean, you just need to use a sponge or rag to wipe water after washing.',\n",
       "  'Premium Quality - Our transparent egg box is made of high-grade plastic, BPA free, nontoxic and odorless, safe and durable. Size: 10.6 x 4.9 x 2.7inches (L x W x H)',\n",
       "  'Storage Organizer - Our egg trays are the perfect solution for fridge organizing, suited to contain the egg that is smaller than 6cm, compact design effortlessly fits into any refrigerator to help maximize your space without crushing any eggs, also suitable for storage strawberries, dumplings and other kinds of dim sum.',\n",
       "  'Widely Used - Our deviled eggs container is suitable for fridge, freezer, pantry, refrigerator, kitchen cabinets, camping and picnic. Store eggs safely while preserving the freshness.'],\n",
       " 'description': [],\n",
       " 'price': 'None',\n",
       " 'images': {'hi_res': ['https://m.media-amazon.com/images/I/61TWUez1VxL._AC_SL1500_.jpg',\n",
       "   'https://m.media-amazon.com/images/I/514FxZ+3ueL._AC_SL1001_.jpg',\n",
       "   'https://m.media-amazon.com/images/I/61Mxq8-5d7L._AC_SL1001_.jpg',\n",
       "   'https://m.media-amazon.com/images/I/61h5HsdFbZL._AC_SL1001_.jpg',\n",
       "   'https://m.media-amazon.com/images/I/51x6eIAHZQL._AC_SL1001_.jpg',\n",
       "   'https://m.media-amazon.com/images/I/71Zl9mgPHXL._AC_SL1001_.jpg',\n",
       "   'https://m.media-amazon.com/images/I/71eYATu8HYL._AC_SL1001_.jpg',\n",
       "   'https://m.media-amazon.com/images/I/71gJ9weHeHL._AC_SL1001_.jpg'],\n",
       "  'large': ['https://m.media-amazon.com/images/I/41tg+CPGV-L._AC_.jpg',\n",
       "   'https://m.media-amazon.com/images/I/41pJ4enmssL._AC_.jpg',\n",
       "   'https://m.media-amazon.com/images/I/51oxQpNes8L._AC_.jpg',\n",
       "   'https://m.media-amazon.com/images/I/51jI+e26heL._AC_.jpg',\n",
       "   'https://m.media-amazon.com/images/I/410pWlX49yL._AC_.jpg',\n",
       "   'https://m.media-amazon.com/images/I/61eqTc6VAFL._AC_.jpg',\n",
       "   'https://m.media-amazon.com/images/I/616rUNl-mVL._AC_.jpg',\n",
       "   'https://m.media-amazon.com/images/I/61t5q6aG7DL._AC_.jpg'],\n",
       "  'thumb': ['https://m.media-amazon.com/images/I/41tg+CPGV-L._AC_US75_.jpg',\n",
       "   'https://m.media-amazon.com/images/I/41pJ4enmssL._AC_US75_.jpg',\n",
       "   'https://m.media-amazon.com/images/I/51oxQpNes8L._AC_US75_.jpg',\n",
       "   'https://m.media-amazon.com/images/I/51jI+e26heL._AC_US75_.jpg',\n",
       "   'https://m.media-amazon.com/images/I/410pWlX49yL._AC_US75_.jpg',\n",
       "   'https://m.media-amazon.com/images/I/61eqTc6VAFL._AC_US75_.jpg',\n",
       "   'https://m.media-amazon.com/images/I/616rUNl-mVL._AC_US75_.jpg',\n",
       "   'https://m.media-amazon.com/images/I/61t5q6aG7DL._AC_US75_.jpg'],\n",
       "  'variant': ['MAIN', 'PT01', 'PT02', 'PT03', 'PT04', 'PT05', 'PT06', 'PT07']},\n",
       " 'videos': {'title': ['10 Eggs Egg Holder for Refrigerator',\n",
       "   'BINO Plastic Egg Holder with Lid for Kitchen - 13 Egg Holder',\n",
       "   'Watch Before You Buy!',\n",
       "   'Vtopmart Egg Holder for Refrigerator 2 Pack, Plastic Egg',\n",
       "   'Clean and restock my fridge with me!!',\n",
       "   'Fridge Egg Organizer- Full REVIEW',\n",
       "   'Watch Before You Buy - Covered Egg Holder',\n",
       "   'Ambergron Eggs Holder for Fridge',\n",
       "   'Egg Holder for Refrigerator',\n",
       "   'Easily see how many eggs you have left with an egg holder.'],\n",
       "  'url': ['https://www.amazon.com/vdp/0963a43991204e7d953fb5d611ba97ad?ref=dp_vse_rvc_0',\n",
       "   'https://www.amazon.com/vdp/cdda0022c4c843e1acb380989b3519cb?ref=dp_vse_rvc_1',\n",
       "   'https://www.amazon.com/vdp/0ca8687e5f244b79b4054bbf4e55fac4?ref=dp_vse_rvc_2',\n",
       "   'https://www.amazon.com/vdp/06504139933d47129678e5307cbb200c?ref=dp_vse_rvc_3',\n",
       "   'https://www.amazon.com/vdp/0f9182ac2212485ab7f5f8c1209465c2?ref=dp_vse_rvc_4',\n",
       "   'https://www.amazon.com/vdp/001fd59e85cb45b1aff5cca5aa760635?ref=dp_vse_rvc_5',\n",
       "   'https://www.amazon.com/vdp/0f6aa0586410419b96afe20349eaf092?ref=dp_vse_rvc_6',\n",
       "   'https://www.amazon.com/vdp/03af2cb16393486b90b5f2369e95d121?ref=dp_vse_rvc_7',\n",
       "   'https://www.amazon.com/vdp/804499f9de1b411a884d150d87a2b8c6?ref=dp_vse_rvc_8',\n",
       "   'https://www.amazon.com/vdp/07c3de6b0bf94eecab36384b68f3eafc?ref=dp_vse_rvc_9'],\n",
       "  'user_id': ['',\n",
       "   '',\n",
       "   '/shop/influencer-85053a56',\n",
       "   '/shop/thelifeofscottwenger',\n",
       "   '/shop/influencer-8ac83341',\n",
       "   '/shop/meadowlark.homestead',\n",
       "   '/shop/influencer-74e6ffad',\n",
       "   '',\n",
       "   '',\n",
       "   '/shop/bendigitalmktgstrategies']},\n",
       " 'store': 'HANSGO',\n",
       " 'categories': ['Appliances',\n",
       "  'Parts & Accessories',\n",
       "  'Refrigerator Parts & Accessories',\n",
       "  'Egg Trays'],\n",
       " 'details': '{\"Manufacturer\": \"HANSGO\", \"Part Number\": \"HANSGO\", \"Item Weight\": \"5 ounces\", \"Product Dimensions\": \"10.6\\\\\"L x 4.9\\\\\"W x 2.7\\\\\"H\", \"Item model number\": \"HH0151\", \"Size\": \"medium\", \"Color\": \"Bright white\", \"Material\": \"Plastic\", \"Shape\": \"Rectangular\", \"Handle Material\": \"Plastic\", \"Batteries Included?\": \"No\", \"Batteries Required?\": \"No\", \"Best Sellers Rank\": {\"Tools & Home Improvement\": 246177, \"Refrigerator Egg Trays\": 288}, \"Date First Available\": \"June 16, 2021\", \"Brand\": \"HANSGO\", \"Number of Sets\": \"1\"}',\n",
       " 'parent_asin': 'B097BQDGHJ',\n",
       " 'bought_together': None,\n",
       " 'subtitle': None,\n",
       " 'author': None}"
      ]
     },
     "execution_count": 13,
     "metadata": {},
     "output_type": "execute_result"
    }
   ],
   "source": [
    "datapoint = dataset[1]\n",
    "datapoint"
   ]
  },
  {
   "cell_type": "code",
   "execution_count": 14,
   "id": "b4cd3354",
   "metadata": {},
   "outputs": [
    {
     "name": "stdout",
     "output_type": "stream",
     "text": [
      "HANSGO Egg Holder for Refrigerator, Deviled Eggs Dispenser Egg Storage Stackable Plastic Egg Containers Hold ups to 10 Eggs\n",
      "[]\n",
      "['Plastic', 'Practical Kitchen Storage - Our egg holder holds up to 10 eggs in normal size, keep eggs safe and fresh with this home basics fridge bin.', 'Easy to Use - Egg holder for refrigerator can be superimposed on the refrigerator, beautiful and room-saving, neatly organize your refrigerator without any loose eggs or flimsy egg cartons. Super easy to clean, you just need to use a sponge or rag to wipe water after washing.', 'Premium Quality - Our transparent egg box is made of high-grade plastic, BPA free, nontoxic and odorless, safe and durable. Size: 10.6 x 4.9 x 2.7inches (L x W x H)', 'Storage Organizer - Our egg trays are the perfect solution for fridge organizing, suited to contain the egg that is smaller than 6cm, compact design effortlessly fits into any refrigerator to help maximize your space without crushing any eggs, also suitable for storage strawberries, dumplings and other kinds of dim sum.', 'Widely Used - Our deviled eggs container is suitable for fridge, freezer, pantry, refrigerator, kitchen cabinets, camping and picnic. Store eggs safely while preserving the freshness.']\n",
      "{\"Manufacturer\": \"HANSGO\", \"Part Number\": \"HANSGO\", \"Item Weight\": \"5 ounces\", \"Product Dimensions\": \"10.6\\\"L x 4.9\\\"W x 2.7\\\"H\", \"Item model number\": \"HH0151\", \"Size\": \"medium\", \"Color\": \"Bright white\", \"Material\": \"Plastic\", \"Shape\": \"Rectangular\", \"Handle Material\": \"Plastic\", \"Batteries Included?\": \"No\", \"Batteries Required?\": \"No\", \"Best Sellers Rank\": {\"Tools & Home Improvement\": 246177, \"Refrigerator Egg Trays\": 288}, \"Date First Available\": \"June 16, 2021\", \"Brand\": \"HANSGO\", \"Number of Sets\": \"1\"}\n",
      "None\n"
     ]
    }
   ],
   "source": [
    "print(datapoint[\"title\"])\n",
    "print(datapoint[\"description\"])\n",
    "print(datapoint[\"features\"])\n",
    "print(datapoint[\"details\"])\n",
    "print(datapoint[\"price\"])"
   ]
  },
  {
   "cell_type": "code",
   "execution_count": 15,
   "id": "c1b27ea3",
   "metadata": {},
   "outputs": [
    {
     "name": "stdout",
     "output_type": "stream",
     "text": [
      "There are 46,726 with prices which is 49.5%\n"
     ]
    }
   ],
   "source": [
    "# How many have prices?\n",
    "\n",
    "prices = 0\n",
    "for datapoint in dataset:\n",
    "    try:\n",
    "        price = float(datapoint[\"price\"])\n",
    "        if price > 0:\n",
    "            prices += 1\n",
    "    except ValueError as e:\n",
    "        pass\n",
    "\n",
    "print(f\"There are {prices:,} with prices which is {prices/len(dataset)*100:,.1f}%\")"
   ]
  },
  {
   "cell_type": "code",
   "execution_count": 16,
   "id": "e127cc62",
   "metadata": {},
   "outputs": [],
   "source": [
    "prices = []\n",
    "lengths = []\n",
    "for datapoint in dataset:\n",
    "    try:\n",
    "        price = float(datapoint[\"price\"])\n",
    "        if price > 0:\n",
    "            prices.append(price)\n",
    "            contents = datapoint[\"title\"] + str(datapoint[\"description\"]) + str(datapoint[\"features\"]) + str(datapoint[\"details\"])\n",
    "            lengths.append(len(contents))\n",
    "    except ValueError as e:\n",
    "        pass"
   ]
  },
  {
   "cell_type": "code",
   "execution_count": 17,
   "id": "197bef3b",
   "metadata": {},
   "outputs": [
    {
     "data": {
      "image/png": "[encoded data removed]",
      "text/plain": [
       "<Figure size 1500x600 with 1 Axes>"
      ]
     },
     "metadata": {},
     "output_type": "display_data"
    }
   ],
   "source": [
    "# Plot the distribution of lengths\n",
    "\n",
    "plt.figure(figsize=(15, 6))\n",
    "plt.title(f\"Lengths: Avg {sum(lengths)/len(lengths):,.0f} and highest {max(lengths):,}\\n\")\n",
    "plt.xlabel('Length (chars)')\n",
    "plt.ylabel('Count')\n",
    "plt.hist(lengths, rwidth=0.7, color=\"lightblue\", bins=range(0, 6000, 100))\n",
    "plt.show()"
   ]
  },
  {
   "cell_type": "code",
   "execution_count": 18,
   "id": "99dd0cbc",
   "metadata": {},
   "outputs": [
    {
     "data": {
      "image/png": "[encoded data removed]",
      "text/plain": [
       "<Figure size 1500x600 with 1 Axes>"
      ]
     },
     "metadata": {},
     "output_type": "display_data"
    }
   ],
   "source": [
    "# Plot the distribution of prices\n",
    "\n",
    "plt.figure(figsize=(15, 6))\n",
    "plt.title(f\"Prices: Avg {sum(prices)/len(prices):,.2f} and highest {max(prices):,}\\n\")\n",
    "plt.xlabel('Price ($)')\n",
    "plt.ylabel('Count')\n",
    "plt.hist(prices, rwidth=0.7, color=\"orange\", bins=range(0, 1000, 10))\n",
    "plt.show()"
   ]
  },
  {
   "cell_type": "code",
   "execution_count": null,
   "id": "cbca7c79",
   "metadata": {},
   "outputs": [],
   "source": []
  }
 ],
 "metadata": {
  "kernelspec": {
   "display_name": "Python 3",
   "language": "python",
   "name": "python3"
  },
  "language_info": {
   "codemirror_mode": {
    "name": "ipython",
    "version": 3
   },
   "file_extension": ".py",
   "mimetype": "text/x-python",
   "name": "python",
   "nbconvert_exporter": "python",
   "pygments_lexer": "ipython3",
   "version": "3.11.8"
  }
 },
 "nbformat": 4,
 "nbformat_minor": 5
}
