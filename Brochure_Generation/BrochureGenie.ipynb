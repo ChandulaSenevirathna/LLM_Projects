{
 "cells": [
  {
   "cell_type": "markdown",
   "id": "0ae73057",
   "metadata": {},
   "source": [
    "## Project Name: **BrochureGenie**\n",
    "\n",
    "### Description:\n",
    "**BrochureGenie** is an intelligent brochure generation platform that automatically creates professional, visually appealing brochures for companies using just their name and website. It extracts key business insights, branding elements, and offerings from the company’s site and turns them into brochures tailored for potential clients, investors, and recruits.\n"
   ]
  },
  {
   "cell_type": "code",
   "execution_count": 1,
   "id": "98bcadda",
   "metadata": {},
   "outputs": [],
   "source": [
    "import os\n",
    "import requests\n",
    "import json\n",
    "from typing import List\n",
    "from dotenv import load_dotenv\n",
    "from bs4 import BeautifulSoup\n",
    "from IPython.display import Markdown, display, update_display\n",
    "import google.generativeai as genai\n"
   ]
  },
  {
   "cell_type": "code",
   "execution_count": 2,
   "id": "2eca5d39",
   "metadata": {},
   "outputs": [],
   "source": [
    "load_dotenv()\n",
    "gemini_api_key = os.getenv(\"GEMINI_API_KEY\")\n",
    "genai.configure(api_key=gemini_api_key)"
   ]
  },
  {
   "cell_type": "code",
   "execution_count": 3,
   "id": "1ae29fdb",
   "metadata": {},
   "outputs": [],
   "source": [
    "API_KEY = gemini_api_key\n",
    "if not API_KEY:\n",
    "    raise ValueError(\"GEMINI_API_KEY environment variable is not set.\")\n",
    "\n",
    "MODEL_NAME = \"gemini-2.0-flash\""
   ]
  },
  {
   "cell_type": "code",
   "execution_count": 4,
   "id": "a55bfbb1",
   "metadata": {},
   "outputs": [],
   "source": [
    "headers = {\n",
    " \"User-Agent\": \"Mozilla/5.0 (Windows NT 10.0; Win64; x64) AppleWebKit/537.36 (KHTML, like Gecko) Chrome/117.0.0.0 Safari/537.36\"\n",
    "}\n",
    "\n",
    "class Website:\n",
    "    \"\"\"\n",
    "    A utility class to represent a Website that we have scraped, now with links\n",
    "    \"\"\"\n",
    "\n",
    "    def __init__(self, url):\n",
    "        self.url = url\n",
    "        response = requests.get(url, headers=headers)\n",
    "        self.body = response.content\n",
    "        soup = BeautifulSoup(self.body, 'html.parser')\n",
    "        self.title = soup.title.string if soup.title else \"No title found\"\n",
    "        if soup.body:\n",
    "            for irrelevant in soup.body([\"script\", \"style\", \"img\", \"input\"]):\n",
    "                irrelevant.decompose()\n",
    "            self.text = soup.body.get_text(separator=\"\\n\", strip=True)\n",
    "        else:\n",
    "            self.text = \"\"\n",
    "        links = [link.get('href') for link in soup.find_all('a')]\n",
    "        self.links = [link for link in links if link]\n",
    "\n",
    "    def get_contents(self):\n",
    "        return f\"Webpage Title:\\n{self.title}\\nWebpage Contents:\\n{self.text}\\n\\n\""
   ]
  },
  {
   "cell_type": "code",
   "execution_count": 5,
   "id": "f076c789",
   "metadata": {},
   "outputs": [],
   "source": [
    "link = \"https://www.geeksforgeeks.org/\""
   ]
  },
  {
   "cell_type": "code",
   "execution_count": 6,
   "id": "b2801ef9",
   "metadata": {},
   "outputs": [
    {
     "name": "stdout",
     "output_type": "stream",
     "text": [
      "GeeksforGeeks | Your All-in-One Learning Portal\n",
      "Courses\n",
      "Tutorials\n",
      "Practice\n",
      "Data Structure\n",
      "Java\n",
      "Python\n",
      "HTML\n",
      "Interview Preparation\n",
      "DSA\n",
      "Practice Problems\n",
      "C\n",
      "C++\n",
      "Java\n",
      "Python\n",
      "JavaScript\n",
      "Data Science\n",
      "Machine Learning\n",
      "Courses\n",
      "Linux\n",
      "DevOps\n",
      "SQL\n",
      "Web Development\n",
      "System Design\n",
      "Aptitude\n",
      "GfG Premium\n",
      "Hello, What Do You Want To Learn?\n",
      "Full Stack Live Classes\n",
      "DSA: Basic To Advanced Course\n",
      "Master DS & ML\n",
      "Explore\n",
      "Data Structure and Algorithms\n",
      "View more\n",
      "Practice DSA\n",
      "View more\n",
      "AI ML & Data Science\n",
      "View more\n",
      "Web Development\n",
      "View more\n",
      "Python\n",
      "View more\n",
      "Machine Learning\n",
      "View more\n",
      "System Design\n",
      "View more\n",
      "DevOps\n",
      "View more\n",
      "Interested in advertising with us?\n",
      "Get in touch\n",
      "Courses\n",
      "View All\n",
      "4.4\n",
      "DSA to Development: A Complete Guide\n",
      "Beginner to Advance\n",
      "589k+\n",
      "interested Geeks\n",
      "Explore now\n",
      "4.7\n",
      "JAVA Backend Development - Live\n",
      "Intermediate and Advance\n",
      "312k+\n",
      "interested Geeks\n",
      "Explore now\n",
      "4.9\n",
      "Tech Interview 101 - From DSA to System Design for Working Professionals\n",
      "Beginner to Advance\n",
      "337k+\n",
      "interested Geeks\n",
      "Explore now\n",
      "4.7\n",
      "Full Stack Development with React & Node JS - Live\n",
      "Beginner to Advance\n",
      "365k+\n",
      "interested Geeks\n",
      "Explore now\n",
      "4.6\n",
      "Java Programming Online Course [Complete Beginner to Advanced]\n",
      "Beginner to Advance\n",
      "299k+\n",
      "interested Geeks\n",
      "Explore now\n",
      "4.7\n",
      "C++ Programming Course Online - Complete Beginner to Advanced\n",
      "Beginner to Advance\n",
      "237k+\n",
      "interested Geeks\n",
      "Explore now\n",
      "DSA\n",
      "View All\n",
      "Analysis of Algorithms\n",
      "Array\n",
      "Linked List\n",
      "Searching Algorithms\n",
      "Stack\n",
      "Sorting Algorithms\n",
      "Queue\n",
      "Graph\n",
      "AI ML & Data Science\n",
      "View All\n",
      "Machine Learning\n",
      "Data Science\n",
      "Data Analysis\n",
      "Data Visualization\n",
      "Deep Learning\n",
      "Natural Language Processing\n",
      "Computer Vision\n",
      "Artificial Intelligence\n",
      "Web Development\n",
      "View All\n",
      "JavaScript\n",
      "HTML\n",
      "CSS\n",
      "ReactJS\n",
      "Node.js\n",
      "Django\n",
      "Frontend Development\n",
      "Backend Development\n",
      "Languages\n",
      "View All\n",
      "Python\n",
      "Java\n",
      "C++\n",
      "C\n",
      "PHP\n",
      "R\n",
      "Swift\n",
      "Golang\n",
      "CS Subjects\n",
      "View All\n",
      "Operating System\n",
      "Computer Network\n",
      "DBMS\n",
      "Engineering Mathematics\n",
      "Software Engineering\n",
      "Digital Electronics\n",
      "Compiler Design\n",
      "Computer Organisation and Architecture\n",
      "Databases\n",
      "View All\n",
      "SQL\n",
      "MYSQL\n",
      "MongoDB\n",
      "PostgreSQL\n",
      "PL/SQL\n",
      "SQL Cheatsheet\n",
      "SQL Interview Questions\n",
      "MYSQL Interview Questions\n",
      "DevOps\n",
      "View All\n",
      "GIT\n",
      "Amazon Web Services\n",
      "Kubernetes\n",
      "Docker\n",
      "Microsoft Azure\n",
      "Google Cloud Platform\n",
      "DevOps Roadmap\n",
      "DevOps Interview Questions\n",
      "Tutorials\n",
      "View All\n",
      "System Design\n",
      "Android\n",
      "Linux\n",
      "Design Pattern\n",
      "Software Testing\n",
      "Product Management\n",
      "Project Management\n",
      "Excel\n",
      "Free Courses\n",
      "DSA Roadmap Beg to Adv\n",
      "Dynamic Programming\n",
      "System Design Interview Guide\n",
      "Django with Tailwind\n",
      "Django with ReactJS\n",
      "SQL Complete Course\n",
      "R Programming\n",
      "Express.js\n",
      "GfG School\n",
      "View All\n",
      "Maths\n",
      "Physics\n",
      "Chemistry\n",
      "Biology\n",
      "Commerce\n",
      "Social Science\n",
      "English\n",
      "School Programming\n",
      "Must Explore\n",
      "Trending Now\n",
      "Watch Videos\n",
      "GfG Coding Contest\n",
      "Advertise with Us\n",
      "Corporate & Communications Address:\n",
      "A-143, 7th Floor, Sovereign Corporate Tower, Sector- 136, Noida, Uttar Pradesh (201305)\n",
      "Registered Address:\n",
      "K 061, Tower K, Gulshan Vivante Apartment, Sector 137, Noida, Gautam Buddh Nagar, Uttar Pradesh, 201305\n",
      "Advertise with us\n",
      "Company\n",
      "About Us\n",
      "Legal\n",
      "Privacy Policy\n",
      "In Media\n",
      "Contact Us\n",
      "Advertise with us\n",
      "GFG Corporate Solution\n",
      "Placement Training Program\n",
      "Languages\n",
      "Python\n",
      "Java\n",
      "C++\n",
      "PHP\n",
      "GoLang\n",
      "SQL\n",
      "R Language\n",
      "Android Tutorial\n",
      "Tutorials Archive\n",
      "DSA\n",
      "Data Structures\n",
      "Algorithms\n",
      "DSA for Beginners\n",
      "Basic DSA Problems\n",
      "DSA Roadmap\n",
      "Top 100 DSA Interview Problems\n",
      "DSA Roadmap by Sandeep Jain\n",
      "All Cheat Sheets\n",
      "Data Science & ML\n",
      "Data Science With Python\n",
      "Data Science For Beginner\n",
      "Machine Learning\n",
      "ML Maths\n",
      "Data Visualisation\n",
      "Pandas\n",
      "NumPy\n",
      "NLP\n",
      "Deep Learning\n",
      "Web Technologies\n",
      "HTML\n",
      "CSS\n",
      "JavaScript\n",
      "TypeScript\n",
      "ReactJS\n",
      "NextJS\n",
      "Bootstrap\n",
      "Web Design\n",
      "Python Tutorial\n",
      "Python Programming Examples\n",
      "Python Projects\n",
      "Python Tkinter\n",
      "Python Web Scraping\n",
      "OpenCV Tutorial\n",
      "Python Interview Question\n",
      "Django\n",
      "Computer Science\n",
      "Operating Systems\n",
      "Computer Network\n",
      "Database Management System\n",
      "Software Engineering\n",
      "Digital Logic Design\n",
      "Engineering Maths\n",
      "Software Development\n",
      "Software Testing\n",
      "DevOps\n",
      "Git\n",
      "Linux\n",
      "AWS\n",
      "Docker\n",
      "Kubernetes\n",
      "Azure\n",
      "GCP\n",
      "DevOps Roadmap\n",
      "System Design\n",
      "High Level Design\n",
      "Low Level Design\n",
      "UML Diagrams\n",
      "Interview Guide\n",
      "Design Patterns\n",
      "OOAD\n",
      "System Design Bootcamp\n",
      "Interview Questions\n",
      "Inteview Preparation\n",
      "Competitive Programming\n",
      "Top DS or Algo for CP\n",
      "Company-Wise Recruitment Process\n",
      "Company-Wise Preparation\n",
      "Aptitude Preparation\n",
      "Puzzles\n",
      "School Subjects\n",
      "Mathematics\n",
      "Physics\n",
      "Chemistry\n",
      "Biology\n",
      "Social Science\n",
      "English Grammar\n",
      "Commerce\n",
      "World GK\n",
      "GeeksforGeeks Videos\n",
      "DSA\n",
      "Python\n",
      "Java\n",
      "C++\n",
      "Web Development\n",
      "Data Science\n",
      "CS Subjects\n",
      "@GeeksforGeeks, Sanchhaya Education Private Limited\n",
      ",\n",
      "All rights reserved\n",
      "We use cookies to ensure you have the best browsing experience on our website. By using our site, you acknowledge that you have read and understood our\n",
      "Cookie Policy\n",
      "&\n",
      "Privacy Policy\n",
      "Got It !\n"
     ]
    }
   ],
   "source": [
    "data = Website(link)\n",
    "print(data.title)\n",
    "print(data.text)"
   ]
  },
  {
   "cell_type": "code",
   "execution_count": 7,
   "id": "f9f935af",
   "metadata": {},
   "outputs": [
    {
     "data": {
      "text/plain": [
       "'Webpage Title:\\nGeeksforGeeks | Your All-in-One Learning Portal\\nWebpage Contents:\\nCourses\\nTutorials\\nPractice\\nData Structure\\nJava\\nPython\\nHTML\\nInterview Preparation\\nDSA\\nPractice Problems\\nC\\nC++\\nJava\\nPython\\nJavaScript\\nData Science\\nMachine Learning\\nCourses\\nLinux\\nDevOps\\nSQL\\nWeb Development\\nSystem Design\\nAptitude\\nGfG Premium\\nHello, What Do You Want To Learn?\\nFull Stack Live Classes\\nDSA: Basic To Advanced Course\\nMaster DS & ML\\nExplore\\nData Structure and Algorithms\\nView more\\nPractice DSA\\nView more\\nAI ML & Data Science\\nView more\\nWeb Development\\nView more\\nPython\\nView more\\nMachine Learning\\nView more\\nSystem Design\\nView more\\nDevOps\\nView more\\nInterested in advertising with us?\\nGet in touch\\nCourses\\nView All\\n4.4\\nDSA to Development: A Complete Guide\\nBeginner to Advance\\n589k+\\ninterested Geeks\\nExplore now\\n4.7\\nJAVA Backend Development - Live\\nIntermediate and Advance\\n312k+\\ninterested Geeks\\nExplore now\\n4.9\\nTech Interview 101 - From DSA to System Design for Working Professionals\\nBeginner to Advance\\n337k+\\ninterested Geeks\\nExplore now\\n4.7\\nFull Stack Development with React & Node JS - Live\\nBeginner to Advance\\n365k+\\ninterested Geeks\\nExplore now\\n4.6\\nJava Programming Online Course [Complete Beginner to Advanced]\\nBeginner to Advance\\n299k+\\ninterested Geeks\\nExplore now\\n4.7\\nC++ Programming Course Online - Complete Beginner to Advanced\\nBeginner to Advance\\n237k+\\ninterested Geeks\\nExplore now\\nDSA\\nView All\\nAnalysis of Algorithms\\nArray\\nLinked List\\nSearching Algorithms\\nStack\\nSorting Algorithms\\nQueue\\nGraph\\nAI ML & Data Science\\nView All\\nMachine Learning\\nData Science\\nData Analysis\\nData Visualization\\nDeep Learning\\nNatural Language Processing\\nComputer Vision\\nArtificial Intelligence\\nWeb Development\\nView All\\nJavaScript\\nHTML\\nCSS\\nReactJS\\nNode.js\\nDjango\\nFrontend Development\\nBackend Development\\nLanguages\\nView All\\nPython\\nJava\\nC++\\nC\\nPHP\\nR\\nSwift\\nGolang\\nCS Subjects\\nView All\\nOperating System\\nComputer Network\\nDBMS\\nEngineering Mathematics\\nSoftware Engineering\\nDigital Electronics\\nCompiler Design\\nComputer Organisation and Architecture\\nDatabases\\nView All\\nSQL\\nMYSQL\\nMongoDB\\nPostgreSQL\\nPL/SQL\\nSQL Cheatsheet\\nSQL Interview Questions\\nMYSQL Interview Questions\\nDevOps\\nView All\\nGIT\\nAmazon Web Services\\nKubernetes\\nDocker\\nMicrosoft Azure\\nGoogle Cloud Platform\\nDevOps Roadmap\\nDevOps Interview Questions\\nTutorials\\nView All\\nSystem Design\\nAndroid\\nLinux\\nDesign Pattern\\nSoftware Testing\\nProduct Management\\nProject Management\\nExcel\\nFree Courses\\nDSA Roadmap Beg to Adv\\nDynamic Programming\\nSystem Design Interview Guide\\nDjango with Tailwind\\nDjango with ReactJS\\nSQL Complete Course\\nR Programming\\nExpress.js\\nGfG School\\nView All\\nMaths\\nPhysics\\nChemistry\\nBiology\\nCommerce\\nSocial Science\\nEnglish\\nSchool Programming\\nMust Explore\\nTrending Now\\nWatch Videos\\nGfG Coding Contest\\nAdvertise with Us\\nCorporate & Communications Address:\\nA-143, 7th Floor, Sovereign Corporate Tower, Sector- 136, Noida, Uttar Pradesh (201305)\\nRegistered Address:\\nK 061, Tower K, Gulshan Vivante Apartment, Sector 137, Noida, Gautam Buddh Nagar, Uttar Pradesh, 201305\\nAdvertise with us\\nCompany\\nAbout Us\\nLegal\\nPrivacy Policy\\nIn Media\\nContact Us\\nAdvertise with us\\nGFG Corporate Solution\\nPlacement Training Program\\nLanguages\\nPython\\nJava\\nC++\\nPHP\\nGoLang\\nSQL\\nR Language\\nAndroid Tutorial\\nTutorials Archive\\nDSA\\nData Structures\\nAlgorithms\\nDSA for Beginners\\nBasic DSA Problems\\nDSA Roadmap\\nTop 100 DSA Interview Problems\\nDSA Roadmap by Sandeep Jain\\nAll Cheat Sheets\\nData Science & ML\\nData Science With Python\\nData Science For Beginner\\nMachine Learning\\nML Maths\\nData Visualisation\\nPandas\\nNumPy\\nNLP\\nDeep Learning\\nWeb Technologies\\nHTML\\nCSS\\nJavaScript\\nTypeScript\\nReactJS\\nNextJS\\nBootstrap\\nWeb Design\\nPython Tutorial\\nPython Programming Examples\\nPython Projects\\nPython Tkinter\\nPython Web Scraping\\nOpenCV Tutorial\\nPython Interview Question\\nDjango\\nComputer Science\\nOperating Systems\\nComputer Network\\nDatabase Management System\\nSoftware Engineering\\nDigital Logic Design\\nEngineering Maths\\nSoftware Development\\nSoftware Testing\\nDevOps\\nGit\\nLinux\\nAWS\\nDocker\\nKubernetes\\nAzure\\nGCP\\nDevOps Roadmap\\nSystem Design\\nHigh Level Design\\nLow Level Design\\nUML Diagrams\\nInterview Guide\\nDesign Patterns\\nOOAD\\nSystem Design Bootcamp\\nInterview Questions\\nInteview Preparation\\nCompetitive Programming\\nTop DS or Algo for CP\\nCompany-Wise Recruitment Process\\nCompany-Wise Preparation\\nAptitude Preparation\\nPuzzles\\nSchool Subjects\\nMathematics\\nPhysics\\nChemistry\\nBiology\\nSocial Science\\nEnglish Grammar\\nCommerce\\nWorld GK\\nGeeksforGeeks Videos\\nDSA\\nPython\\nJava\\nC++\\nWeb Development\\nData Science\\nCS Subjects\\n@GeeksforGeeks, Sanchhaya Education Private Limited\\n,\\nAll rights reserved\\nWe use cookies to ensure you have the best browsing experience on our website. By using our site, you acknowledge that you have read and understood our\\nCookie Policy\\n&\\nPrivacy Policy\\nGot It !\\n\\n'"
      ]
     },
     "execution_count": 7,
     "metadata": {},
     "output_type": "execute_result"
    }
   ],
   "source": [
    "data.get_contents()"
   ]
  },
  {
   "cell_type": "code",
   "execution_count": 8,
   "id": "a52b9080",
   "metadata": {},
   "outputs": [],
   "source": [
    "link_system_prompt = \"You are provided with a list of links found on a webpage. \\\n",
    "You are able to decide which of the links would be most relevant to include in a brochure about the company, \\\n",
    "such as links to an About page, or a Company page, or Careers/Jobs pages.\\n\"\n",
    "link_system_prompt += \"You should respond in JSON format as in this example:\"\n",
    "link_system_prompt += \"\"\"\n",
    "{\n",
    "    \"links\": [\n",
    "        {\"type\": \"about page\", \"url\": \"https://full.url/goes/here/about\"},\n",
    "        {\"type\": \"careers page\": \"url\": \"https://another.full.url/careers\"}\n",
    "    ]\n",
    "}\n",
    "\"\"\""
   ]
  },
  {
   "cell_type": "code",
   "execution_count": 9,
   "id": "da7d8e21",
   "metadata": {},
   "outputs": [
    {
     "name": "stdout",
     "output_type": "stream",
     "text": [
      "You are provided with a list of links found on a webpage. You are able to decide which of the links would be most relevant to include in a brochure about the company, such as links to an About page, or a Company page, or Careers/Jobs pages.\n",
      "You should respond in JSON format as in this example:\n",
      "{\n",
      "    \"links\": [\n",
      "        {\"type\": \"about page\", \"url\": \"https://full.url/goes/here/about\"},\n",
      "        {\"type\": \"careers page\": \"url\": \"https://another.full.url/careers\"}\n",
      "    ]\n",
      "}\n",
      "\n"
     ]
    }
   ],
   "source": [
    "print(link_system_prompt)"
   ]
  },
  {
   "cell_type": "code",
   "execution_count": 10,
   "id": "ec8430e4",
   "metadata": {},
   "outputs": [],
   "source": [
    "def get_links_user_prompt(website):\n",
    "    user_prompt = f\"Here is the list of links on the website of {website.url} - \"\n",
    "    user_prompt += \"please decide which of these are relevant web links for a brochure about the company, respond with the full https URL in JSON format. \\\n",
    "Do not include Terms of Service, Privacy, email links.\\n\"\n",
    "    user_prompt += \"Links (some might be relative links):\\n\"\n",
    "    user_prompt += \"\\n\".join(website.links)\n",
    "    return user_prompt"
   ]
  },
  {
   "cell_type": "code",
   "execution_count": 11,
   "id": "b2d845c0",
   "metadata": {},
   "outputs": [
    {
     "name": "stdout",
     "output_type": "stream",
     "text": [
      "Here is the list of links on the website of https://www.geeksforgeeks.org/ - please decide which of these are relevant web links for a brochure about the company, respond with the full https URL in JSON format. Do not include Terms of Service, Privacy, email links.\n",
      "Links (some might be relative links):\n",
      "https://www.geeksforgeeks.org/\n",
      "https://www.geeksforgeeks.org/learn-data-structures-and-algorithms-dsa-tutorial/\n",
      "https://www.geeksforgeeks.org/explore\n",
      "https://www.geeksforgeeks.org/c-programming-language/\n",
      "https://www.geeksforgeeks.org/c-plus-plus/\n",
      "https://www.geeksforgeeks.org/java/\n",
      "https://www.geeksforgeeks.org/python-programming-language/\n",
      "https://www.geeksforgeeks.org/javascript/\n",
      "https://www.geeksforgeeks.org/data-science-for-beginners/\n",
      "https://www.geeksforgeeks.org/machine-learning/\n",
      "https://www.geeksforgeeks.org/courses\n",
      "https://www.geeksforgeeks.org/linux-tutorial/\n",
      "https://www.geeksforgeeks.org/devops-tutorial/\n",
      "https://www.geeksforgeeks.org/sql-tutorial/\n",
      "https://www.geeksforgeeks.org/web-development/\n",
      "https://www.geeksforgeeks.org/system-design-tutorial/\n",
      "https://www.geeksforgeeks.org/aptitude-questions-and-answers/\n",
      "https://www.geeksforgeeks.org/geeksforgeeks-premium-subscription\n",
      "https://www.geeksforgeeks.org/courses/full-stack-node\n",
      "https://practice.geeksforgeeks.org/courses/dsa-self-paced\n",
      "https://www.geeksforgeeks.org/courses/data-science-live\n",
      "https://www.geeksforgeeks.org/learn-data-structures-and-algorithms-dsa-tutorial/\n",
      "https://www.geeksforgeeks.org/explore?page=1&sortBy=submissions\n",
      "https://www.geeksforgeeks.org/ai-ml-ds/\n",
      "https://www.geeksforgeeks.org/web-development/\n",
      "https://www.geeksforgeeks.org/python-programming-language/\n",
      "https://www.geeksforgeeks.org/machine-learning/\n",
      "https://www.geeksforgeeks.org/system-design-tutorial/\n",
      "https://www.geeksforgeeks.org/devops-tutorial/\n",
      "https://www.geeksforgeeks.org/advertise-with-us/\n",
      "https://www.geeksforgeeks.org/courses\n",
      "https://www.geeksforgeeks.org/courses/dsa-to-development-coding-guide/\n",
      "https://www.geeksforgeeks.org/courses/Java-backend-live/\n",
      "https://www.geeksforgeeks.org/courses/interviewe-101-data-structures-algorithm-system-design/\n",
      "https://www.geeksforgeeks.org/courses/full-stack-node/\n",
      "https://www.geeksforgeeks.org/courses/java-online-course-complete-beginner-to-advanced/\n",
      "https://www.geeksforgeeks.org/courses/cpp-programming-basic-to-advanced/\n",
      "https://www.geeksforgeeks.org/learn-data-structures-and-algorithms-dsa-tutorial/\n",
      "https://www.geeksforgeeks.org/complete-guide-on-complexity-analysis/\n",
      "https://www.geeksforgeeks.org/array-data-structure/\n",
      "https://www.geeksforgeeks.org/data-structures/linked-list/\n",
      "https://www.geeksforgeeks.org/searching-algorithms/\n",
      "https://www.geeksforgeeks.org/stack-data-structure/\n",
      "https://www.geeksforgeeks.org/sorting-algorithms/\n",
      "https://www.geeksforgeeks.org/queue-data-structure/\n",
      "https://www.geeksforgeeks.org/graph-data-structure-and-algorithms/\n",
      "https://www.geeksforgeeks.org/ai-ml-ds/\n",
      "https://www.geeksforgeeks.org/machine-learning/\n",
      "https://www.geeksforgeeks.org/data-science-tutorial/\n",
      "https://www.geeksforgeeks.org/data-analysis-tutorial/\n",
      "https://www.geeksforgeeks.org/python-data-visualization-tutorial/\n",
      "https://www.geeksforgeeks.org/deep-learning-tutorial/\n",
      "https://www.geeksforgeeks.org/natural-language-processing-nlp-tutorial/\n",
      "https://www.geeksforgeeks.org/computer-vision/\n",
      "https://www.geeksforgeeks.org/artificial-intelligence/\n",
      "https://www.geeksforgeeks.org/web-development/\n",
      "https://www.geeksforgeeks.org/javascript/\n",
      "https://www.geeksforgeeks.org/html-tutorial/\n",
      "https://www.geeksforgeeks.org/css-tutorial/\n",
      "https://www.geeksforgeeks.org/react-tutorial/\n",
      "https://www.geeksforgeeks.org/nodejs/\n",
      "https://www.geeksforgeeks.org/django-tutorial/\n",
      "https://www.geeksforgeeks.org/front-end-development/\n",
      "https://www.geeksforgeeks.org/backend-development/\n",
      "https://www.geeksforgeeks.org/programming-languages/\n",
      "https://www.geeksforgeeks.org/python-programming-language/\n",
      "https://www.geeksforgeeks.org/java/\n",
      "https://www.geeksforgeeks.org/c-plus-plus/\n",
      "https://www.geeksforgeeks.org/c-programming-language/\n",
      "https://www.geeksforgeeks.org/php-tutorial/\n",
      "https://www.geeksforgeeks.org/r-tutorial/\n",
      "https://www.geeksforgeeks.org/swift-tutorial/\n",
      "https://www.geeksforgeeks.org/golang/\n",
      "https://www.geeksforgeeks.org/gate-cs-notes-gq/\n",
      "https://www.geeksforgeeks.org/operating-systems/\n",
      "https://www.geeksforgeeks.org/computer-network-tutorials/\n",
      "https://www.geeksforgeeks.org/dbms/\n",
      "https://www.geeksforgeeks.org/engineering-mathematics-tutorials/\n",
      "https://www.geeksforgeeks.org/software-engineering/\n",
      "https://www.geeksforgeeks.org/digital-electronics-logic-design-tutorials/\n",
      "https://www.geeksforgeeks.org/compiler-design-tutorials/\n",
      "https://www.geeksforgeeks.org/computer-organization-and-architecture-tutorials/\n",
      "https://www.geeksforgeeks.org/getting-started-with-database-management-system/\n",
      "https://www.geeksforgeeks.org/sql-tutorial/\n",
      "https://www.geeksforgeeks.org/mysql-tutorial/\n",
      "https://www.geeksforgeeks.org/mongodb-tutorial/\n",
      "https://www.geeksforgeeks.org/postgresql-tutorial/\n",
      "https://www.geeksforgeeks.org/pl-sql-tutorial/\n",
      "https://www.geeksforgeeks.org/sql-cheat-sheet/\n",
      "https://www.geeksforgeeks.org/sql-interview-questions/\n",
      "https://www.geeksforgeeks.org/mysql-interview-questions/\n",
      "https://www.geeksforgeeks.org/devops-tutorial/\n",
      "https://www.geeksforgeeks.org/git-tutorial/\n",
      "https://www.geeksforgeeks.org/aws-tutorial/\n",
      "https://www.geeksforgeeks.org/kubernetes-tutorial/\n",
      "https://www.geeksforgeeks.org/docker-tutorial/\n",
      "https://www.geeksforgeeks.org/microsoft-azure/\n",
      "https://www.geeksforgeeks.org/google-cloud-platform-tutorial/\n",
      "https://www.geeksforgeeks.org/devops-roadmap/\n",
      "https://www.geeksforgeeks.org/devops-interview-questions/\n",
      "https://www.geeksforgeeks.org/geeksforgeeks-online-tutorials-free/\n",
      "https://www.geeksforgeeks.org/system-design-tutorial/\n",
      "https://www.geeksforgeeks.org/android-tutorial/\n",
      "https://www.geeksforgeeks.org/linux-tutorial/\n",
      "https://www.geeksforgeeks.org/software-design-patterns/\n",
      "https://www.geeksforgeeks.org/software-testing-tutorial/\n",
      "https://www.geeksforgeeks.org/product-management/\n",
      "https://www.geeksforgeeks.org/project-management-tutorial/\n",
      "https://www.geeksforgeeks.org/excel-tutorial/\n",
      "https://www.geeksforgeeks.org/dsa-roadmap-for-beginner-to-advanced-by-sandeep-jain/\n",
      "https://www.geeksforgeeks.org/complete-guide-to-dynamic-programming/\n",
      "https://www.geeksforgeeks.org/system-design-interview-guide/\n",
      "https://www.geeksforgeeks.org/django-with-tailwind/\n",
      "https://www.geeksforgeeks.org/free-django-with-react-tutorial/\n",
      "https://www.geeksforgeeks.org/learn-sql-and-database/\n",
      "https://www.geeksforgeeks.org/r-programming-free-course/\n",
      "https://www.geeksforgeeks.org/learn-express/\n",
      "https://www.geeksforgeeks.org/geeksforgeeks-school/\n",
      "https://www.geeksforgeeks.org/maths/\n",
      "https://www.geeksforgeeks.org/physics/\n",
      "https://www.geeksforgeeks.org/chemistry/\n",
      "https://www.geeksforgeeks.org/biology/\n",
      "https://www.geeksforgeeks.org/commerce/\n",
      "https://www.geeksforgeeks.org/social-science/\n",
      "https://www.geeksforgeeks.org/english-grammar/\n",
      "https://www.geeksforgeeks.org/school-programming/\n",
      "https://www.geeksforgeeks.org/trending/\n",
      "https://www.geeksforgeeks.org/videos/\n",
      "https://www.geeksforgeeks.org/events\n",
      "https://www.geeksforgeeks.org/advertise-with-us/\n",
      "https://www.geeksforgeeks.org/\n",
      "https://www.facebook.com/geeksforgeeks.org/\n",
      "https://www.instagram.com/geeks_for_geeks/\n",
      "https://in.linkedin.com/company/geeksforgeeks\n",
      "https://twitter.com/geeksforgeeks\n",
      "https://www.youtube.com/geeksforgeeksvideos\n",
      "https://geeksforgeeksapp.page.link/gfg-app\n",
      "https://geeksforgeeksapp.page.link/gfg-app\n",
      "https://www.geeksforgeeks.org/advertise-with-us/\n",
      "https://www.geeksforgeeks.org/about/\n",
      "https://www.geeksforgeeks.org/legal/\n",
      "https://www.geeksforgeeks.org/legal/privacy-policy/\n",
      "https://www.geeksforgeeks.org/press-release/\n",
      "https://www.geeksforgeeks.org/about/contact-us/\n",
      "https://www.geeksforgeeks.org/advertise-with-us/\n",
      "https://www.geeksforgeeks.org/gfg-corporate-solution/\n",
      "https://www.geeksforgeeks.org/campus-training-program/\n",
      "https://www.geeksforgeeks.org/introduction-to-programming-languages/\n",
      "https://www.geeksforgeeks.org/python-programming-language/\n",
      "https://www.geeksforgeeks.org/java/\n",
      "https://www.geeksforgeeks.org/c-plus-plus/\n",
      "https://www.geeksforgeeks.org/php-tutorials/\n",
      "https://www.geeksforgeeks.org/golang/\n",
      "https://www.geeksforgeeks.org/sql-tutorial/\n",
      "https://www.geeksforgeeks.org/r-tutorial/\n",
      "https://www.geeksforgeeks.org/android-tutorial/\n",
      "https://www.geeksforgeeks.org/geeksforgeeks-online-tutorials-free/\n",
      "https://www.geeksforgeeks.org/learn-data-structures-and-algorithms-dsa-tutorial/\n",
      "https://www.geeksforgeeks.org/data-structures/\n",
      "https://www.geeksforgeeks.org/fundamentals-of-algorithms/\n",
      "https://www.geeksforgeeks.org/complete-guide-to-dsa-for-beginners/\n",
      "https://www.geeksforgeeks.org/basic-coding-problems-in-dsa-for-beginners/\n",
      "https://www.geeksforgeeks.org/complete-roadmap-to-learn-dsa-from-scratch/\n",
      "https://www.geeksforgeeks.org/top-100-data-structure-and-algorithms-dsa-interview-questions-topic-wise/\n",
      "https://www.geeksforgeeks.org/dsa-roadmap-for-beginner-to-advanced-by-sandeep-jain/\n",
      "https://www.geeksforgeeks.org/geeksforgeeks-master-sheet-list-of-all-cheat-sheets/\n",
      "https://www.geeksforgeeks.org/ai-ml-ds/\n",
      "https://www.geeksforgeeks.org/data-science-tutorial/\n",
      "https://www.geeksforgeeks.org/data-science-for-beginners/\n",
      "https://www.geeksforgeeks.org/machine-learning/\n",
      "https://www.geeksforgeeks.org/machine-learning-mathematics/\n",
      "https://www.geeksforgeeks.org/python-data-visualization-tutorial/\n",
      "https://www.geeksforgeeks.org/pandas-tutorial/\n",
      "https://www.geeksforgeeks.org/numpy-tutorial/\n",
      "https://www.geeksforgeeks.org/natural-language-processing-nlp-tutorial/\n",
      "https://www.geeksforgeeks.org/deep-learning-tutorial/\n",
      "https://www.geeksforgeeks.org/web-technology/\n",
      "https://www.geeksforgeeks.org/html/\n",
      "https://www.geeksforgeeks.org/css/\n",
      "https://www.geeksforgeeks.org/javascript/\n",
      "https://www.geeksforgeeks.org/typescript/\n",
      "https://www.geeksforgeeks.org/learn-reactjs/\n",
      "https://www.geeksforgeeks.org/nextjs/\n",
      "https://www.geeksforgeeks.org/bootstrap/\n",
      "https://www.geeksforgeeks.org/web-design/\n",
      "https://www.geeksforgeeks.org/python-programming-language/\n",
      "https://www.geeksforgeeks.org/python-programming-examples/\n",
      "https://www.geeksforgeeks.org/python-projects-beginner-to-advanced/\n",
      "https://www.geeksforgeeks.org/python-tkinter-tutorial/\n",
      "https://www.geeksforgeeks.org/python-web-scraping-tutorial/\n",
      "https://www.geeksforgeeks.org/opencv-python-tutorial/\n",
      "https://www.geeksforgeeks.org/python-interview-questions/\n",
      "https://www.geeksforgeeks.org/django-tutorial/\n",
      "https://www.geeksforgeeks.org/operating-systems/\n",
      "https://www.geeksforgeeks.org/computer-network-tutorials/\n",
      "https://www.geeksforgeeks.org/dbms/\n",
      "https://www.geeksforgeeks.org/software-engineering/\n",
      "https://www.geeksforgeeks.org/digital-electronics-logic-design-tutorials/\n",
      "https://www.geeksforgeeks.org/engineering-mathematics-tutorials/\n",
      "https://www.geeksforgeeks.org/software-development/\n",
      "https://www.geeksforgeeks.org/software-testing-tutorial/\n",
      "https://www.geeksforgeeks.org/devops-tutorial/\n",
      "https://www.geeksforgeeks.org/git-tutorial/\n",
      "https://www.geeksforgeeks.org/linux-tutorial/\n",
      "https://www.geeksforgeeks.org/aws-tutorial/\n",
      "https://www.geeksforgeeks.org/docker-tutorial/\n",
      "https://www.geeksforgeeks.org/kubernetes-tutorial/\n",
      "https://www.geeksforgeeks.org/microsoft-azure/\n",
      "https://www.geeksforgeeks.org/google-cloud-platform-tutorial/\n",
      "https://www.geeksforgeeks.org/devops-roadmap/\n",
      "https://www.geeksforgeeks.org/system-design-tutorial/\n",
      "https://www.geeksforgeeks.org/what-is-high-level-design-learn-system-design/\n",
      "https://www.geeksforgeeks.org/what-is-low-level-design-or-lld-learn-system-design/\n",
      "https://www.geeksforgeeks.org/unified-modeling-language-uml-introduction/\n",
      "https://www.geeksforgeeks.org/system-design-interview-guide/\n",
      "https://www.geeksforgeeks.org/software-design-patterns/\n",
      "https://www.geeksforgeeks.org/object-oriented-analysis-and-design/\n",
      "https://www.geeksforgeeks.org/system-design-interview-bootcamp-guide/\n",
      "https://www.geeksforgeeks.org/most-commonly-asked-system-design-interview-problems-questions/\n",
      "https://www.geeksforgeeks.org/technical-interview-preparation/\n",
      "https://www.geeksforgeeks.org/competitive-programming-a-complete-guide/\n",
      "https://www.geeksforgeeks.org/top-algorithms-and-data-structures-for-competitive-programming/\n",
      "https://www.geeksforgeeks.org/company-wise-recruitment-process/\n",
      "https://www.geeksforgeeks.org/company-preparation/\n",
      "https://www.geeksforgeeks.org/aptitude-questions-and-answers/\n",
      "https://www.geeksforgeeks.org/puzzles/\n",
      "https://www.geeksforgeeks.org/maths/\n",
      "https://www.geeksforgeeks.org/physics/\n",
      "https://www.geeksforgeeks.org/chemistry/\n",
      "https://www.geeksforgeeks.org/biology/\n",
      "https://www.geeksforgeeks.org/social-science/\n",
      "https://www.geeksforgeeks.org/english-grammar/\n",
      "https://www.geeksforgeeks.org/commerce/\n",
      "https://www.geeksforgeeks.org/tag/world-general-knowledge/\n",
      "https://www.geeksforgeeks.org/videos/\n",
      "https://www.geeksforgeeks.org/videos/category/sde-sheet/\n",
      "https://www.geeksforgeeks.org/videos/category/python/\n",
      "https://www.geeksforgeeks.org/videos/category/java-w6y5f4/\n",
      "https://www.geeksforgeeks.org/videos/category/c/\n",
      "https://www.geeksforgeeks.org/videos/category/web-development/\n",
      "https://www.geeksforgeeks.org/videos/category/data-science/\n",
      "https://www.geeksforgeeks.org/videos/category/cs-subjects/\n",
      "https://www.geeksforgeeks.org/\n",
      "https://www.geeksforgeeks.org/copyright-information/\n",
      "https://www.geeksforgeeks.org/cookie-policy/\n",
      "https://www.geeksforgeeks.org/privacy-policy/\n"
     ]
    }
   ],
   "source": [
    "print(get_links_user_prompt(data))"
   ]
  },
  {
   "cell_type": "code",
   "execution_count": 12,
   "id": "9dc21f55",
   "metadata": {},
   "outputs": [],
   "source": [
    "def get_links(url):\n",
    "    website = Website(url)\n",
    "    \n",
    "    prompt = (\n",
    "        link_system_prompt + \"\\n\\n\" +  # Instruction to Gemini\n",
    "        get_links_user_prompt(website)  # User-level prompt constructed from the Website object\n",
    "    )\n",
    "    \n",
    "    model = genai.GenerativeModel(\"gemini-2.0-flash\")\n",
    "    \n",
    "    response = model.generate_content(prompt)\n",
    "    \n",
    "    cleaned = response.text.strip()\n",
    "    if cleaned.startswith(\"```json\"):\n",
    "        cleaned = cleaned.removeprefix(\"```json\").strip()\n",
    "    if cleaned.endswith(\"```\"):\n",
    "        cleaned = cleaned.removesuffix(\"```\").strip()\n",
    "    \n",
    "    try:\n",
    "        result = json.loads(cleaned)\n",
    "        return result\n",
    "    except json.JSONDecodeError:\n",
    "        print(\"Failed to parse cleaned JSON:\", cleaned)\n",
    "        return None\n"
   ]
  },
  {
   "cell_type": "code",
   "execution_count": 13,
   "id": "13717de7",
   "metadata": {},
   "outputs": [
    {
     "name": "stdout",
     "output_type": "stream",
     "text": [
      "{'links': [{'type': 'homepage', 'url': 'https://www.geeksforgeeks.org/'}, {'type': 'about page', 'url': 'https://www.geeksforgeeks.org/about/'}, {'type': 'contact us', 'url': 'https://www.geeksforgeeks.org/about/contact-us/'}, {'type': 'advertise with us', 'url': 'https://www.geeksforgeeks.org/advertise-with-us/'}, {'type': 'corporate solution', 'url': 'https://www.geeksforgeeks.org/gfg-corporate-solution/'}, {'type': 'campus training program', 'url': 'https://www.geeksforgeeks.org/campus-training-program/'}, {'type': 'courses', 'url': 'https://www.geeksforgeeks.org/courses'}]}\n"
     ]
    }
   ],
   "source": [
    "links = get_links(link)\n",
    "print(links)"
   ]
  },
  {
   "cell_type": "markdown",
   "id": "d4ec92fa",
   "metadata": {},
   "source": [
    "### make the brochure"
   ]
  },
  {
   "cell_type": "code",
   "execution_count": 14,
   "id": "b57b27c5",
   "metadata": {},
   "outputs": [],
   "source": [
    "def get_all_details(url):\n",
    "    result = \"Landing page:\\n\"\n",
    "    result += Website(url).get_contents()\n",
    "    links = get_links(url)\n",
    "    for link in links[\"links\"]:\n",
    "        result += f\"\\n\\n{link['type']}\\n\"\n",
    "        result += Website(link[\"url\"]).get_contents()\n",
    "    return result, links"
   ]
  },
  {
   "cell_type": "code",
   "execution_count": 15,
   "id": "bfb6e13a",
   "metadata": {},
   "outputs": [
    {
     "name": "stdout",
     "output_type": "stream",
     "text": [
      "('Landing page:\\nWebpage Title:\\nGeeksforGeeks | Your All-in-One Learning Portal\\nWebpage Contents:\\nCourses\\nTutorials\\nPractice\\nData Structure\\nJava\\nPython\\nHTML\\nInterview Preparation\\nDSA\\nPractice Problems\\nC\\nC++\\nJava\\nPython\\nJavaScript\\nData Science\\nMachine Learning\\nCourses\\nLinux\\nDevOps\\nSQL\\nWeb Development\\nSystem Design\\nAptitude\\nGfG Premium\\nHello, What Do You Want To Learn?\\nFull Stack Live Classes\\nDSA: Basic To Advanced Course\\nMaster DS & ML\\nExplore\\nData Structure and Algorithms\\nView more\\nPractice DSA\\nView more\\nAI ML & Data Science\\nView more\\nWeb Development\\nView more\\nPython\\nView more\\nMachine Learning\\nView more\\nSystem Design\\nView more\\nDevOps\\nView more\\nInterested in advertising with us?\\nGet in touch\\nCourses\\nView All\\n4.4\\nDSA to Development: A Complete Guide\\nBeginner to Advance\\n589k+\\ninterested Geeks\\nExplore now\\n4.7\\nJAVA Backend Development - Live\\nIntermediate and Advance\\n312k+\\ninterested Geeks\\nExplore now\\n4.9\\nTech Interview 101 - From DSA to System Design for Working Professionals\\nBeginner to Advance\\n337k+\\ninterested Geeks\\nExplore now\\n4.7\\nFull Stack Development with React & Node JS - Live\\nBeginner to Advance\\n365k+\\ninterested Geeks\\nExplore now\\n4.6\\nJava Programming Online Course [Complete Beginner to Advanced]\\nBeginner to Advance\\n299k+\\ninterested Geeks\\nExplore now\\n4.7\\nC++ Programming Course Online - Complete Beginner to Advanced\\nBeginner to Advance\\n237k+\\ninterested Geeks\\nExplore now\\nDSA\\nView All\\nAnalysis of Algorithms\\nArray\\nLinked List\\nSearching Algorithms\\nStack\\nSorting Algorithms\\nQueue\\nGraph\\nAI ML & Data Science\\nView All\\nMachine Learning\\nData Science\\nData Analysis\\nData Visualization\\nDeep Learning\\nNatural Language Processing\\nComputer Vision\\nArtificial Intelligence\\nWeb Development\\nView All\\nJavaScript\\nHTML\\nCSS\\nReactJS\\nNode.js\\nDjango\\nFrontend Development\\nBackend Development\\nLanguages\\nView All\\nPython\\nJava\\nC++\\nC\\nPHP\\nR\\nSwift\\nGolang\\nCS Subjects\\nView All\\nOperating System\\nComputer Network\\nDBMS\\nEngineering Mathematics\\nSoftware Engineering\\nDigital Electronics\\nCompiler Design\\nComputer Organisation and Architecture\\nDatabases\\nView All\\nSQL\\nMYSQL\\nMongoDB\\nPostgreSQL\\nPL/SQL\\nSQL Cheatsheet\\nSQL Interview Questions\\nMYSQL Interview Questions\\nDevOps\\nView All\\nGIT\\nAmazon Web Services\\nKubernetes\\nDocker\\nMicrosoft Azure\\nGoogle Cloud Platform\\nDevOps Roadmap\\nDevOps Interview Questions\\nTutorials\\nView All\\nSystem Design\\nAndroid\\nLinux\\nDesign Pattern\\nSoftware Testing\\nProduct Management\\nProject Management\\nExcel\\nFree Courses\\nDSA Roadmap Beg to Adv\\nDynamic Programming\\nSystem Design Interview Guide\\nDjango with Tailwind\\nDjango with ReactJS\\nSQL Complete Course\\nR Programming\\nExpress.js\\nGfG School\\nView All\\nMaths\\nPhysics\\nChemistry\\nBiology\\nCommerce\\nSocial Science\\nEnglish\\nSchool Programming\\nMust Explore\\nTrending Now\\nWatch Videos\\nGfG Coding Contest\\nAdvertise with Us\\nCorporate & Communications Address:\\nA-143, 7th Floor, Sovereign Corporate Tower, Sector- 136, Noida, Uttar Pradesh (201305)\\nRegistered Address:\\nK 061, Tower K, Gulshan Vivante Apartment, Sector 137, Noida, Gautam Buddh Nagar, Uttar Pradesh, 201305\\nAdvertise with us\\nCompany\\nAbout Us\\nLegal\\nPrivacy Policy\\nIn Media\\nContact Us\\nAdvertise with us\\nGFG Corporate Solution\\nPlacement Training Program\\nLanguages\\nPython\\nJava\\nC++\\nPHP\\nGoLang\\nSQL\\nR Language\\nAndroid Tutorial\\nTutorials Archive\\nDSA\\nData Structures\\nAlgorithms\\nDSA for Beginners\\nBasic DSA Problems\\nDSA Roadmap\\nTop 100 DSA Interview Problems\\nDSA Roadmap by Sandeep Jain\\nAll Cheat Sheets\\nData Science & ML\\nData Science With Python\\nData Science For Beginner\\nMachine Learning\\nML Maths\\nData Visualisation\\nPandas\\nNumPy\\nNLP\\nDeep Learning\\nWeb Technologies\\nHTML\\nCSS\\nJavaScript\\nTypeScript\\nReactJS\\nNextJS\\nBootstrap\\nWeb Design\\nPython Tutorial\\nPython Programming Examples\\nPython Projects\\nPython Tkinter\\nPython Web Scraping\\nOpenCV Tutorial\\nPython Interview Question\\nDjango\\nComputer Science\\nOperating Systems\\nComputer Network\\nDatabase Management System\\nSoftware Engineering\\nDigital Logic Design\\nEngineering Maths\\nSoftware Development\\nSoftware Testing\\nDevOps\\nGit\\nLinux\\nAWS\\nDocker\\nKubernetes\\nAzure\\nGCP\\nDevOps Roadmap\\nSystem Design\\nHigh Level Design\\nLow Level Design\\nUML Diagrams\\nInterview Guide\\nDesign Patterns\\nOOAD\\nSystem Design Bootcamp\\nInterview Questions\\nInteview Preparation\\nCompetitive Programming\\nTop DS or Algo for CP\\nCompany-Wise Recruitment Process\\nCompany-Wise Preparation\\nAptitude Preparation\\nPuzzles\\nSchool Subjects\\nMathematics\\nPhysics\\nChemistry\\nBiology\\nSocial Science\\nEnglish Grammar\\nCommerce\\nWorld GK\\nGeeksforGeeks Videos\\nDSA\\nPython\\nJava\\nC++\\nWeb Development\\nData Science\\nCS Subjects\\n@GeeksforGeeks, Sanchhaya Education Private Limited\\n,\\nAll rights reserved\\nWe use cookies to ensure you have the best browsing experience on our website. By using our site, you acknowledge that you have read and understood our\\nCookie Policy\\n&\\nPrivacy Policy\\nGot It !\\n\\n\\n\\nhomepage\\nWebpage Title:\\nGeeksforGeeks | Your All-in-One Learning Portal\\nWebpage Contents:\\nCourses\\nTutorials\\nPractice\\nData Structure\\nJava\\nPython\\nHTML\\nInterview Preparation\\nDSA\\nPractice Problems\\nC\\nC++\\nJava\\nPython\\nJavaScript\\nData Science\\nMachine Learning\\nCourses\\nLinux\\nDevOps\\nSQL\\nWeb Development\\nSystem Design\\nAptitude\\nGfG Premium\\nHello, What Do You Want To Learn?\\nFull Stack Live Classes\\nDSA: Basic To Advanced Course\\nMaster DS & ML\\nExplore\\nData Structure and Algorithms\\nView more\\nPractice DSA\\nView more\\nAI ML & Data Science\\nView more\\nWeb Development\\nView more\\nPython\\nView more\\nMachine Learning\\nView more\\nSystem Design\\nView more\\nDevOps\\nView more\\nInterested in advertising with us?\\nGet in touch\\nCourses\\nView All\\n4.4\\nDSA to Development: A Complete Guide\\nBeginner to Advance\\n589k+\\ninterested Geeks\\nExplore now\\n4.7\\nJAVA Backend Development - Live\\nIntermediate and Advance\\n312k+\\ninterested Geeks\\nExplore now\\n4.9\\nTech Interview 101 - From DSA to System Design for Working Professionals\\nBeginner to Advance\\n337k+\\ninterested Geeks\\nExplore now\\n4.7\\nFull Stack Development with React & Node JS - Live\\nBeginner to Advance\\n365k+\\ninterested Geeks\\nExplore now\\n4.6\\nJava Programming Online Course [Complete Beginner to Advanced]\\nBeginner to Advance\\n299k+\\ninterested Geeks\\nExplore now\\n4.7\\nC++ Programming Course Online - Complete Beginner to Advanced\\nBeginner to Advance\\n237k+\\ninterested Geeks\\nExplore now\\nDSA\\nView All\\nAnalysis of Algorithms\\nArray\\nLinked List\\nSearching Algorithms\\nStack\\nSorting Algorithms\\nQueue\\nGraph\\nAI ML & Data Science\\nView All\\nMachine Learning\\nData Science\\nData Analysis\\nData Visualization\\nDeep Learning\\nNatural Language Processing\\nComputer Vision\\nArtificial Intelligence\\nWeb Development\\nView All\\nJavaScript\\nHTML\\nCSS\\nReactJS\\nNode.js\\nDjango\\nFrontend Development\\nBackend Development\\nLanguages\\nView All\\nPython\\nJava\\nC++\\nC\\nPHP\\nR\\nSwift\\nGolang\\nCS Subjects\\nView All\\nOperating System\\nComputer Network\\nDBMS\\nEngineering Mathematics\\nSoftware Engineering\\nDigital Electronics\\nCompiler Design\\nComputer Organisation and Architecture\\nDatabases\\nView All\\nSQL\\nMYSQL\\nMongoDB\\nPostgreSQL\\nPL/SQL\\nSQL Cheatsheet\\nSQL Interview Questions\\nMYSQL Interview Questions\\nDevOps\\nView All\\nGIT\\nAmazon Web Services\\nKubernetes\\nDocker\\nMicrosoft Azure\\nGoogle Cloud Platform\\nDevOps Roadmap\\nDevOps Interview Questions\\nTutorials\\nView All\\nSystem Design\\nAndroid\\nLinux\\nDesign Pattern\\nSoftware Testing\\nProduct Management\\nProject Management\\nExcel\\nFree Courses\\nDSA Roadmap Beg to Adv\\nDynamic Programming\\nSystem Design Interview Guide\\nDjango with Tailwind\\nDjango with ReactJS\\nSQL Complete Course\\nR Programming\\nExpress.js\\nGfG School\\nView All\\nMaths\\nPhysics\\nChemistry\\nBiology\\nCommerce\\nSocial Science\\nEnglish\\nSchool Programming\\nMust Explore\\nTrending Now\\nWatch Videos\\nGfG Coding Contest\\nAdvertise with Us\\nCorporate & Communications Address:\\nA-143, 7th Floor, Sovereign Corporate Tower, Sector- 136, Noida, Uttar Pradesh (201305)\\nRegistered Address:\\nK 061, Tower K, Gulshan Vivante Apartment, Sector 137, Noida, Gautam Buddh Nagar, Uttar Pradesh, 201305\\nAdvertise with us\\nCompany\\nAbout Us\\nLegal\\nPrivacy Policy\\nIn Media\\nContact Us\\nAdvertise with us\\nGFG Corporate Solution\\nPlacement Training Program\\nLanguages\\nPython\\nJava\\nC++\\nPHP\\nGoLang\\nSQL\\nR Language\\nAndroid Tutorial\\nTutorials Archive\\nDSA\\nData Structures\\nAlgorithms\\nDSA for Beginners\\nBasic DSA Problems\\nDSA Roadmap\\nTop 100 DSA Interview Problems\\nDSA Roadmap by Sandeep Jain\\nAll Cheat Sheets\\nData Science & ML\\nData Science With Python\\nData Science For Beginner\\nMachine Learning\\nML Maths\\nData Visualisation\\nPandas\\nNumPy\\nNLP\\nDeep Learning\\nWeb Technologies\\nHTML\\nCSS\\nJavaScript\\nTypeScript\\nReactJS\\nNextJS\\nBootstrap\\nWeb Design\\nPython Tutorial\\nPython Programming Examples\\nPython Projects\\nPython Tkinter\\nPython Web Scraping\\nOpenCV Tutorial\\nPython Interview Question\\nDjango\\nComputer Science\\nOperating Systems\\nComputer Network\\nDatabase Management System\\nSoftware Engineering\\nDigital Logic Design\\nEngineering Maths\\nSoftware Development\\nSoftware Testing\\nDevOps\\nGit\\nLinux\\nAWS\\nDocker\\nKubernetes\\nAzure\\nGCP\\nDevOps Roadmap\\nSystem Design\\nHigh Level Design\\nLow Level Design\\nUML Diagrams\\nInterview Guide\\nDesign Patterns\\nOOAD\\nSystem Design Bootcamp\\nInterview Questions\\nInteview Preparation\\nCompetitive Programming\\nTop DS or Algo for CP\\nCompany-Wise Recruitment Process\\nCompany-Wise Preparation\\nAptitude Preparation\\nPuzzles\\nSchool Subjects\\nMathematics\\nPhysics\\nChemistry\\nBiology\\nSocial Science\\nEnglish Grammar\\nCommerce\\nWorld GK\\nGeeksforGeeks Videos\\nDSA\\nPython\\nJava\\nC++\\nWeb Development\\nData Science\\nCS Subjects\\n@GeeksforGeeks, Sanchhaya Education Private Limited\\n,\\nAll rights reserved\\nWe use cookies to ensure you have the best browsing experience on our website. By using our site, you acknowledge that you have read and understood our\\nCookie Policy\\n&\\nPrivacy Policy\\nGot It !\\n\\n\\n\\nabout page\\nWebpage Title:\\nAbout us - GeeksforGeeks\\nWebpage Contents:\\nSkip to content\\nCourses\\nDSA to Development\\nGet IBM Certification\\nNewly Launched!\\nMaster Django Framework\\nBecome AWS Certified\\nFor Working Professionals\\nInterview 101: DSA & System Design\\nData Science Training Program\\nJAVA Backend Development (Live)\\nDevOps Engineering (LIVE)\\nData Structures & Algorithms in Python\\nFor Students\\nPlacement Preparation Course\\nData Science (Live)\\nData Structure & Algorithm-Self Paced (C++/JAVA)\\nMaster Competitive Programming (Live)\\nFull Stack Development with React & Node JS (Live)\\nFull Stack Development\\nData Science Program\\nAll Courses\\nTutorials\\nData Structures & Algorithms\\nML & Data Science\\nInterview Corner\\nProgramming Languages\\nWeb Development\\nCS Subjects\\nDevOps And Linux\\nSchool Learning\\nPractice\\nGfG 160: Daily DSA\\nProblem of the Day\\nPractice Coding Problems\\nGfG SDE Sheet\\nDSA\\nPractice Problems\\nC\\nC++\\nJava\\nPython\\nJavaScript\\nData Science\\nMachine Learning\\nCourses\\nLinux\\nDevOps\\nSQL\\nWeb Development\\nSystem Design\\nAptitude\\nGfG Premium\\nSign In\\n▲\\nAbout us\\nAbout GeeksforGeeks:\\nCompany Profile and Brand:\\nGeeksforGeeks is a comprehensive educational portal that empowers learners across domains—spanning computer science, school-level subjects, commerce, essential software tools (Excel, Word, etc.), exam preparation resources (GATE, JEE, NEET etc.), and provides them with top notch interview preparation services. With over 50 million registered users globally, and millions of daily visitors, GfG provides a vast and growing collection of tutorials, interview guides, concept explainers, coding challenges, practice problems, and structured courses, catering to both academic and professional needs.\\nWe’re especially known for our in-depth resources on interview preparation, helping thousands land roles at top tech companies with our curated content, mock interviews, and company-wise interview experiences.\\nOur courses and learning paths for high demand technologies like DSA, System Design, Web Development, Machine Learning- are ideal for professionals aiming to level up or switch domains. Our certifications ensure to add credibility and enhance our learners’ career prospects.\\nOur content is created and curated by top mentors from renowned institutions and organizations, ensuring quality and relevance. With a focus on clarity, accessibility, and impact, we help students and professionals alike turn curiosity into expertise. GeeksforGeeks has become a trusted name in education—offering well-structured tutorials, hands-on practice problems, conceptual articles, and guided courses.\\nAt GeeksforGeeks, we’re more than just a platform—we’re a community. A space to learn, grow, and stay ahead in an ever-evolving world of education and technology.\\nCorporate History, Mission, Vision, and Motto:\\nCorporate History:\\nFounded in 2008 by Mr. Sandeep Jain, a visionary computer science educator, GeeksforGeeks began as a platform to simplify complex coding concepts. Over the years, it has evolved into a full-spectrum educational portal—supporting learners not only in programming but also in academics, skill-building, and professional growth.\\nMission:\\nTo empower learners across domains by providing accessible, high-quality educational content that bridges the gap between theory and practical application—helping them excel in academics, careers, and beyond.\\nVision:\\nTo be the most comprehensive, inclusive, and trusted learning platform—enabling individuals from all walks of life to access knowledge, gain confidence, and succeed in their educational and career journeys.\\nMotto:\\n\"Learn, Practice, and Excel\" - A commitment to lifelong learning, hands-on experience, and achieving personal growth, no matter the field.\\nCompany Founder:\\nOur founder Sandeep Jain is a visionary entrepreneur and esteemed computer science expert. Fueled by his unwavering passion for coding and education, laid the very bedrock upon which GeeksforGeeks stands today, and his indomitable spirit has been instrumental in its remarkable growth and resounding success. As the steadfast driving force behind the company, Sandeep remains a beacon of guidance and inspiration, propelling the team to constantly challenging limits and craft transformative learning experiences.\\nCorporate & Communications Address:\\nA-143, 7th Floor, Sovereign Corporate Tower, Sector- 136, Noida, Uttar Pradesh (201305)\\nRegistered Address:\\nK 061, Tower K, Gulshan Vivante Apartment, Sector 137, Noida, Gautam Buddh Nagar, Uttar Pradesh, 201305\\nAdvertise with us\\nCompany\\nAbout Us\\nLegal\\nPrivacy Policy\\nIn Media\\nContact Us\\nAdvertise with us\\nGFG Corporate Solution\\nPlacement Training Program\\nLanguages\\nPython\\nJava\\nC++\\nPHP\\nGoLang\\nSQL\\nR Language\\nAndroid Tutorial\\nTutorials Archive\\nDSA\\nData Structures\\nAlgorithms\\nDSA for Beginners\\nBasic DSA Problems\\nDSA Roadmap\\nTop 100 DSA Interview Problems\\nDSA Roadmap by Sandeep Jain\\nAll Cheat Sheets\\nData Science & ML\\nData Science With Python\\nData Science For Beginner\\nMachine Learning\\nML Maths\\nData Visualisation\\nPandas\\nNumPy\\nNLP\\nDeep Learning\\nWeb Technologies\\nHTML\\nCSS\\nJavaScript\\nTypeScript\\nReactJS\\nNextJS\\nBootstrap\\nWeb Design\\nPython Tutorial\\nPython Programming Examples\\nPython Projects\\nPython Tkinter\\nPython Web Scraping\\nOpenCV Tutorial\\nPython Interview Question\\nDjango\\nComputer Science\\nOperating Systems\\nComputer Network\\nDatabase Management System\\nSoftware Engineering\\nDigital Logic Design\\nEngineering Maths\\nSoftware Development\\nSoftware Testing\\nDevOps\\nGit\\nLinux\\nAWS\\nDocker\\nKubernetes\\nAzure\\nGCP\\nDevOps Roadmap\\nSystem Design\\nHigh Level Design\\nLow Level Design\\nUML Diagrams\\nInterview Guide\\nDesign Patterns\\nOOAD\\nSystem Design Bootcamp\\nInterview Questions\\nInteview Preparation\\nCompetitive Programming\\nTop DS or Algo for CP\\nCompany-Wise Recruitment Process\\nCompany-Wise Preparation\\nAptitude Preparation\\nPuzzles\\nSchool Subjects\\nMathematics\\nPhysics\\nChemistry\\nBiology\\nSocial Science\\nEnglish Grammar\\nCommerce\\nWorld GK\\nGeeksforGeeks Videos\\nDSA\\nPython\\nJava\\nC++\\nWeb Development\\nData Science\\nCS Subjects\\n@GeeksforGeeks, Sanchhaya Education Private Limited\\n,\\nAll rights reserved\\nWe use cookies to ensure you have the best browsing experience on our website. By using our site, you\\r\\n        acknowledge that you have read and understood our\\nCookie Policy\\n&\\nPrivacy Policy\\nGot It !\\nWhat kind of Experience do you want to share?\\nInterview Experiences\\nAdmission Experiences\\nCareer Journeys\\nWork Experiences\\nCampus Experiences\\nCompetitive Exam Experiences\\n\\n\\n\\ncontact us\\nWebpage Title:\\nContact Us - GeeksforGeeks\\nWebpage Contents:\\nSkip to content\\nCourses\\nDSA to Development\\nGet IBM Certification\\nNewly Launched!\\nMaster Django Framework\\nBecome AWS Certified\\nFor Working Professionals\\nInterview 101: DSA & System Design\\nData Science Training Program\\nJAVA Backend Development (Live)\\nDevOps Engineering (LIVE)\\nData Structures & Algorithms in Python\\nFor Students\\nPlacement Preparation Course\\nData Science (Live)\\nData Structure & Algorithm-Self Paced (C++/JAVA)\\nMaster Competitive Programming (Live)\\nFull Stack Development with React & Node JS (Live)\\nFull Stack Development\\nData Science Program\\nAll Courses\\nTutorials\\nData Structures & Algorithms\\nML & Data Science\\nInterview Corner\\nProgramming Languages\\nWeb Development\\nCS Subjects\\nDevOps And Linux\\nSchool Learning\\nPractice\\nGfG 160: Daily DSA\\nProblem of the Day\\nPractice Coding Problems\\nGfG SDE Sheet\\nDSA\\nPractice Problems\\nC\\nC++\\nJava\\nPython\\nJavaScript\\nData Science\\nMachine Learning\\nCourses\\nLinux\\nDevOps\\nSQL\\nWeb Development\\nSystem Design\\nAptitude\\nGfG Premium\\nSign In\\n▲\\nContact Us\\nGeeksforGeeks\\nFeedback and Queries\\nSelect Reason\\n*\\nSelect an Option\\nFeedback\\nCourse Related Queries\\nCourse Payment Related Issues\\nAny Issue in Purchased Course\\nReview Related Queries\\nCampus Event Sponsorship Related Queries\\nContent Improvement Related Queries\\nContent Internship/Payment Related Queries\\nDMCA Notice/Copyright Issue/Trademark Issue\\nDPO Related Queries\\nHiring Related Queries\\nAdvertise with us\\nBrand and Content Integration\\nContent List Suggestions\\nPremium Plans Related Queries\\nInstitute/Company Page Related Queries\\nCollaborate with us if you have a Strong Social Media Presence\\nOther\\nEmail Address\\n*\\nContact Number\\nLink of Original Work\\nDrop your feedback/query\\n*\\nSubmit\\nTo contribute, please see the\\ncontribute page\\nCorporate Address (For Communications):\\nGeeksforGeeks\\nA-143, 7th Floor, Sovereign Corporate Tower, Sector- 136, Noida, Uttar Pradesh (201305)\\n08069289001(Course related Queries)\\nRegistered Address:\\nK 061, Tower K, Gulshan Vivante Apartment, Sector 137, Noida, Gautambuddha Nagar, Uttar Pradesh,201305\\nOther Address:\\nBangalore:\\nBhagyalaxmi Square, 2nd Floor, GeeksforGeeks.\\n17/N, 18th Cross Rd, Sector 3, HSR Layout, Bengaluru, Karnataka 560102\\nCorporate & Communications Address:\\nA-143, 7th Floor, Sovereign Corporate Tower, Sector- 136, Noida, Uttar Pradesh (201305)\\nRegistered Address:\\nK 061, Tower K, Gulshan Vivante Apartment, Sector 137, Noida, Gautam Buddh Nagar, Uttar Pradesh, 201305\\nAdvertise with us\\nCompany\\nAbout Us\\nLegal\\nPrivacy Policy\\nIn Media\\nContact Us\\nAdvertise with us\\nGFG Corporate Solution\\nPlacement Training Program\\nLanguages\\nPython\\nJava\\nC++\\nPHP\\nGoLang\\nSQL\\nR Language\\nAndroid Tutorial\\nTutorials Archive\\nDSA\\nData Structures\\nAlgorithms\\nDSA for Beginners\\nBasic DSA Problems\\nDSA Roadmap\\nTop 100 DSA Interview Problems\\nDSA Roadmap by Sandeep Jain\\nAll Cheat Sheets\\nData Science & ML\\nData Science With Python\\nData Science For Beginner\\nMachine Learning\\nML Maths\\nData Visualisation\\nPandas\\nNumPy\\nNLP\\nDeep Learning\\nWeb Technologies\\nHTML\\nCSS\\nJavaScript\\nTypeScript\\nReactJS\\nNextJS\\nBootstrap\\nWeb Design\\nPython Tutorial\\nPython Programming Examples\\nPython Projects\\nPython Tkinter\\nPython Web Scraping\\nOpenCV Tutorial\\nPython Interview Question\\nDjango\\nComputer Science\\nOperating Systems\\nComputer Network\\nDatabase Management System\\nSoftware Engineering\\nDigital Logic Design\\nEngineering Maths\\nSoftware Development\\nSoftware Testing\\nDevOps\\nGit\\nLinux\\nAWS\\nDocker\\nKubernetes\\nAzure\\nGCP\\nDevOps Roadmap\\nSystem Design\\nHigh Level Design\\nLow Level Design\\nUML Diagrams\\nInterview Guide\\nDesign Patterns\\nOOAD\\nSystem Design Bootcamp\\nInterview Questions\\nInteview Preparation\\nCompetitive Programming\\nTop DS or Algo for CP\\nCompany-Wise Recruitment Process\\nCompany-Wise Preparation\\nAptitude Preparation\\nPuzzles\\nSchool Subjects\\nMathematics\\nPhysics\\nChemistry\\nBiology\\nSocial Science\\nEnglish Grammar\\nCommerce\\nWorld GK\\nGeeksforGeeks Videos\\nDSA\\nPython\\nJava\\nC++\\nWeb Development\\nData Science\\nCS Subjects\\n@GeeksforGeeks, Sanchhaya Education Private Limited\\n,\\nAll rights reserved\\nWe use cookies to ensure you have the best browsing experience on our website. By using our site, you\\r\\n        acknowledge that you have read and understood our\\nCookie Policy\\n&\\nPrivacy Policy\\nGot It !\\nWhat kind of Experience do you want to share?\\nInterview Experiences\\nAdmission Experiences\\nCareer Journeys\\nWork Experiences\\nCampus Experiences\\nCompetitive Exam Experiences\\n\\n\\n\\nadvertise with us\\nWebpage Title:\\nAdvertise with us\\nWebpage Contents:\\nCourses\\nTutorials\\nPractice\\nData Structure\\nJava\\nPython\\nHTML\\nInterview Preparation\\nDSA\\nPractice Problems\\nC\\nC++\\nJava\\nPython\\nJavaScript\\nData Science\\nMachine Learning\\nCourses\\nLinux\\nDevOps\\nSQL\\nWeb Development\\nSystem Design\\nAptitude\\nGfG Premium\\nWe are GeeksforGeeks, the largest and most popular tech community among developers\\nTap into the monthly traffic of 200 Million+ niche audience of tech students and working professionals\\nAchieve higher conversions with better targeting\\nDiscover audience globally\\nCreate impactful brand partnerships with us, through ads, content integration, hackathons, bootcamps, coding contests, newsletters, social media campaigns and more\\nGet in Touch\\nExplore Solutions\\nScroll for more\\nWhy Us\\nGet the results that matter\\nKnow more\\nBuild brand awareness\\nwith 35 Million+ registered users\\nHigher Conversion\\nAchieve higher conversion with 90% Ads Viewability\\nLong term results\\nAchieve long term results with 90% Organic Traffic\\nGenerate Leads\\nGenerate lead with 20 million+ Logged in users\\nAbout Us\\nWe spark action with our audience.\\nExpertise that everybody counts on\\nGeeksforGeeks has made a difference in the lives of many students by providing free knowledge on how to obtain a dream career and by assisting authors all over the world to earn by generating and sharing content, which is why the Geeks community of users are so engaged and devoted.\\nStay Ahead with Our Recurring Events\\nDiscover Ongoing Opportunities to Elevate Your Business Growth\\nP\\nPOTD\\nX\\nRecurring brand exposure to 60,000+ daily unique users\\nJ\\nJob-A-Thon\\nX\\n1,00,000+ registrations\\nC\\nCourses/Bootcamp\\nX\\n47,000+ registrations\\nH\\nHackathon\\nX\\n54,000+ registrations\\nC\\nContent Integration\\nMillions of organic views\\nSuccessful Campaigns\\nGeeksforGeeks has run successful campaigns for:\\nGoogle, AMD, Amazon, Hostinger, Hirist, Kamatera, Times Education Group, Titan, Surfshark, Updf, Airdroid & other 135+ tech and non-tech brands.\\nView Our Presence\\n216k\\nfollowers\\n355k\\nfollowers\\n1.9M\\nfollowers\\n66k\\nfollowers\\n700k\\nfollowers\\nUser Statistics\\nTier 1 Cities\\n45\\nTier 2 Cities\\n35\\nTier 3 Cities\\n20\\nMale Population\\n70\\nFemale Population\\n30\\n18-35 years Geeks\\n70\\nWide array of advertisements\\nSupport for Multiple desktop banner & operating system based on your choice\\n300X600\\n728X90\\n300X250\\n160X600\\n336X280\\n728X250\\nKnow more\\nSupport for Multiple mobile banner & operating system based on your choice\\n320X50\\n336X280\\nKnow more\\nSolutions to offer\\nEmployer Branding\\nProduct/ Tech Learning\\nContent Integration\\nTech Events\\nSocial Media Campaigns\\nPodcast\\nCampus Connect\\nHiring Challenge\\nHackathon\\nCourses/ Bootcamp\\nEmail Marketing\\nYoutube Webinars & Workshops\\nDiverse Audience Profiles\\nTechnology/Gadget enthusiastic\\nMedia & Entertainment\\nFrequently Dining Out\\nBusiness Travelers\\nShoppers\\nMovie Lovers\\nWho we serve\\nSuccessfully served 2000+ tech and non-tech brands, including:\\nGoogle\\nAmazon\\nMicrosoft\\nAMD\\nOracle\\nAdobe\\nIndeed\\nWix\\nRazorPay\\nHostinger\\nChroma\\nZoho\\nContact us\\nWe provide customizable solutions to accommodate your advertising and employer branding preferences.\\nGet a call back\\nCorporate & Communications Address:\\nA-143, 7th Floor, Sovereign Corporate Tower, Sector- 136, Noida, Uttar Pradesh (201305)\\nRegistered Address:\\nK 061, Tower K, Gulshan Vivante Apartment, Sector 137, Noida, Gautam Buddh Nagar, Uttar Pradesh, 201305\\nAdvertise with us\\nCompany\\nAbout Us\\nLegal\\nPrivacy Policy\\nIn Media\\nContact Us\\nAdvertise with us\\nGFG Corporate Solution\\nPlacement Training Program\\nLanguages\\nPython\\nJava\\nC++\\nPHP\\nGoLang\\nSQL\\nR Language\\nAndroid Tutorial\\nTutorials Archive\\nDSA\\nData Structures\\nAlgorithms\\nDSA for Beginners\\nBasic DSA Problems\\nDSA Roadmap\\nTop 100 DSA Interview Problems\\nDSA Roadmap by Sandeep Jain\\nAll Cheat Sheets\\nData Science & ML\\nData Science With Python\\nData Science For Beginner\\nMachine Learning\\nML Maths\\nData Visualisation\\nPandas\\nNumPy\\nNLP\\nDeep Learning\\nWeb Technologies\\nHTML\\nCSS\\nJavaScript\\nTypeScript\\nReactJS\\nNextJS\\nBootstrap\\nWeb Design\\nPython Tutorial\\nPython Programming Examples\\nPython Projects\\nPython Tkinter\\nPython Web Scraping\\nOpenCV Tutorial\\nPython Interview Question\\nDjango\\nComputer Science\\nOperating Systems\\nComputer Network\\nDatabase Management System\\nSoftware Engineering\\nDigital Logic Design\\nEngineering Maths\\nSoftware Development\\nSoftware Testing\\nDevOps\\nGit\\nLinux\\nAWS\\nDocker\\nKubernetes\\nAzure\\nGCP\\nDevOps Roadmap\\nSystem Design\\nHigh Level Design\\nLow Level Design\\nUML Diagrams\\nInterview Guide\\nDesign Patterns\\nOOAD\\nSystem Design Bootcamp\\nInterview Questions\\nInteview Preparation\\nCompetitive Programming\\nTop DS or Algo for CP\\nCompany-Wise Recruitment Process\\nCompany-Wise Preparation\\nAptitude Preparation\\nPuzzles\\nSchool Subjects\\nMathematics\\nPhysics\\nChemistry\\nBiology\\nSocial Science\\nEnglish Grammar\\nCommerce\\nWorld GK\\nGeeksforGeeks Videos\\nDSA\\nPython\\nJava\\nC++\\nWeb Development\\nData Science\\nCS Subjects\\n@GeeksforGeeks, Sanchhaya Education Private Limited\\n,\\nAll rights reserved\\nWe use cookies to ensure you have the best browsing experience on our website. By using our site, you acknowledge that you have read and understood our\\nCookie Policy\\n&\\nPrivacy Policy\\nGot It !\\n\\n\\n\\ncorporate solutions\\nWebpage Title:\\nGeeksforGeeks Corporate Solution - GeeksforGeeks\\nWebpage Contents:\\nSkip to content\\nCourses\\nDSA to Development\\nGet IBM Certification\\nNewly Launched!\\nMaster Django Framework\\nBecome AWS Certified\\nFor Working Professionals\\nInterview 101: DSA & System Design\\nData Science Training Program\\nJAVA Backend Development (Live)\\nDevOps Engineering (LIVE)\\nData Structures & Algorithms in Python\\nFor Students\\nPlacement Preparation Course\\nData Science (Live)\\nData Structure & Algorithm-Self Paced (C++/JAVA)\\nMaster Competitive Programming (Live)\\nFull Stack Development with React & Node JS (Live)\\nFull Stack Development\\nData Science Program\\nAll Courses\\nTutorials\\nData Structures & Algorithms\\nML & Data Science\\nInterview Corner\\nProgramming Languages\\nWeb Development\\nCS Subjects\\nDevOps And Linux\\nSchool Learning\\nPractice\\nGfG 160: Daily DSA\\nProblem of the Day\\nPractice Coding Problems\\nGfG SDE Sheet\\nDSA\\nPractice Problems\\nC\\nC++\\nJava\\nPython\\nJavaScript\\nData Science\\nMachine Learning\\nCourses\\nLinux\\nDevOps\\nSQL\\nWeb Development\\nSystem Design\\nAptitude\\nGfG Premium\\nSign In\\n▲\\nHome\\nOur Services\\nOur Clients\\nOur Presence\\nAbout us\\nContact us\\nReach 100 million+ people in tech\\nGet the word out to the world’s largest audience of developers and technologists. Collaborate with GeeksforGeeks .\\nContact Us\\n35 Million +\\nActive monthly users\\n2 Million +\\nSocial media followers\\n100 Million +\\nAvg monthly traffic\\n1 Billion +\\nImpressions served each month\\nHome\\nOur Services\\nOur Clients\\nOur Presence\\nAbout us\\nContact us\\n35 Million +\\nActive monthly users\\n100 Million +\\nAvg monthly traffic\\n1 Billion +\\nImpressions served each month\\n2 Million +\\nSocial media followers\\nWe Have Got You Covered In Every Way\\nWith a deep understanding of the diverse challenges businesses face today, we provide solutions that not only meet, but exceed your expectations.\\nGFG Hiring Solution for Recruiters\\nExperience a transformative approach to recruitment with our cutting-edge solutions. Elevate your brand\\'s presence, connect with top-tier talent, pinpoint the perfect team fit. Simplify your hiring journey and usher in a new era of efficiency and success.\\nExplore Now\\nAdvertise With Us\\nAchieve precise targeting, converting leads to conversions effortlessly. Elevate your business with our potent platform, connecting you to a 35+ million-strong audience. Boost brand awareness, conversions, and quality leads for unprecedented growth.\\nExplore Now\\nOur Clients\\nWe place a great deal of value on strong relationships and have witnessed the advantages they bring to our business and the value they add. We are thankful to the companies who have partnered with us and are continuing to do so.\\nPayU\\nAdobe\\nNagarro\\nAmazon\\nOracle\\nHarman\\nGoogle Cloud\\nHostinger\\nMicrosoft\\nWorldwide Traffic Split\\n60%\\nDomestic Traffic\\n40%\\nInternational Traffic\\nTraffic Split Citywide\\n45%\\nTier 1 City\\n35%\\nTier 2 City\\n20%\\nTier 3 City\\nOur Social Media Presence\\n1.4 M\\nFollowers\\n303 K\\nFollowers\\n56.8 K\\nFollowers\\n645 K\\nFollowers\\nOur Social Media Presence\\nAbout Us\\nAbout Us\\nGeeksforGeeks is one of the leading organizations in the Global ed-tech industry, with over 35+ million active monthly users and 15+ million registered users globally.\\nWhile establishing its name among millions of engineering students, it has also helped them earn by being a part of the very movement of knowledge-sharing.\\nStarted as a blog in 2008, GeeksforGeeks is now a globally recognized topmost computer science & Interview preparation portal in the software industry. Today, tech giants like Google, Facebook, Microsoft, Amazon, and more, recommend GeeksforGeeks as the preparation portal for their technical interview rounds in their interview letters.\\nThe platform has been ranked among the top 50 websites in India by Alexa.\\nContact Us\\nI am interested in\\n*\\nHiring Solution for Recruiters\\nAdvertise with us\\nFull Name\\n*\\nEmail Address\\n*\\nMobile Number\\n*\\nCompany Name\\n*\\nSubmit\\nCorporate & Communications Address:\\nA-143, 7th Floor, Sovereign Corporate Tower, Sector- 136, Noida, Uttar Pradesh (201305)\\nRegistered Address:\\nK 061, Tower K, Gulshan Vivante Apartment, Sector 137, Noida, Gautam Buddh Nagar, Uttar Pradesh, 201305\\nAdvertise with us\\nCompany\\nAbout Us\\nLegal\\nPrivacy Policy\\nIn Media\\nContact Us\\nAdvertise with us\\nGFG Corporate Solution\\nPlacement Training Program\\nLanguages\\nPython\\nJava\\nC++\\nPHP\\nGoLang\\nSQL\\nR Language\\nAndroid Tutorial\\nTutorials Archive\\nDSA\\nData Structures\\nAlgorithms\\nDSA for Beginners\\nBasic DSA Problems\\nDSA Roadmap\\nTop 100 DSA Interview Problems\\nDSA Roadmap by Sandeep Jain\\nAll Cheat Sheets\\nData Science & ML\\nData Science With Python\\nData Science For Beginner\\nMachine Learning\\nML Maths\\nData Visualisation\\nPandas\\nNumPy\\nNLP\\nDeep Learning\\nWeb Technologies\\nHTML\\nCSS\\nJavaScript\\nTypeScript\\nReactJS\\nNextJS\\nBootstrap\\nWeb Design\\nPython Tutorial\\nPython Programming Examples\\nPython Projects\\nPython Tkinter\\nPython Web Scraping\\nOpenCV Tutorial\\nPython Interview Question\\nDjango\\nComputer Science\\nOperating Systems\\nComputer Network\\nDatabase Management System\\nSoftware Engineering\\nDigital Logic Design\\nEngineering Maths\\nSoftware Development\\nSoftware Testing\\nDevOps\\nGit\\nLinux\\nAWS\\nDocker\\nKubernetes\\nAzure\\nGCP\\nDevOps Roadmap\\nSystem Design\\nHigh Level Design\\nLow Level Design\\nUML Diagrams\\nInterview Guide\\nDesign Patterns\\nOOAD\\nSystem Design Bootcamp\\nInterview Questions\\nInteview Preparation\\nCompetitive Programming\\nTop DS or Algo for CP\\nCompany-Wise Recruitment Process\\nCompany-Wise Preparation\\nAptitude Preparation\\nPuzzles\\nSchool Subjects\\nMathematics\\nPhysics\\nChemistry\\nBiology\\nSocial Science\\nEnglish Grammar\\nCommerce\\nWorld GK\\nGeeksforGeeks Videos\\nDSA\\nPython\\nJava\\nC++\\nWeb Development\\nData Science\\nCS Subjects\\n@GeeksforGeeks, Sanchhaya Education Private Limited\\n,\\nAll rights reserved\\nWe use cookies to ensure you have the best browsing experience on our website. By using our site, you\\r\\n        acknowledge that you have read and understood our\\nCookie Policy\\n&\\nPrivacy Policy\\nGot It !\\nWhat kind of Experience do you want to share?\\nInterview Experiences\\nAdmission Experiences\\nCareer Journeys\\nWork Experiences\\nCampus Experiences\\nCompetitive Exam Experiences\\n\\n\\n\\ncampus training program\\nWebpage Title:\\nCampus Training Program - GeeksforGeeks\\nWebpage Contents:\\nSkip to content\\nCourses\\nDSA to Development\\nGet IBM Certification\\nNewly Launched!\\nMaster Django Framework\\nBecome AWS Certified\\nFor Working Professionals\\nInterview 101: DSA & System Design\\nData Science Training Program\\nJAVA Backend Development (Live)\\nDevOps Engineering (LIVE)\\nData Structures & Algorithms in Python\\nFor Students\\nPlacement Preparation Course\\nData Science (Live)\\nData Structure & Algorithm-Self Paced (C++/JAVA)\\nMaster Competitive Programming (Live)\\nFull Stack Development with React & Node JS (Live)\\nFull Stack Development\\nData Science Program\\nAll Courses\\nTutorials\\nData Structures & Algorithms\\nML & Data Science\\nInterview Corner\\nProgramming Languages\\nWeb Development\\nCS Subjects\\nDevOps And Linux\\nSchool Learning\\nPractice\\nGfG 160: Daily DSA\\nProblem of the Day\\nPractice Coding Problems\\nGfG SDE Sheet\\nDSA\\nPractice Problems\\nC\\nC++\\nJava\\nPython\\nJavaScript\\nData Science\\nMachine Learning\\nCourses\\nLinux\\nDevOps\\nSQL\\nWeb Development\\nSystem Design\\nAptitude\\nGfG Premium\\nSign In\\n▲\\nCall us at\\n+91-9654847179\\nConnect with us\\n+91-9654847179\\nMail us at\\nkhushal@geeksforgeeks.org\\nCopy to clipboard\\nkhushal@geeksforgeeks.org\\nCopy to clipboard\\nThank You\\nYour submission has been sent. Someone from our team will connect you soon!\\nContact Now\\nDownload Brochure\\nPlacement Training Program\\nA B2B program that focuses on technical campus training to enable students to become interview ready and employable.\\nDownload Brochure\\nApply Now\\nAssisting Campus Students\\nThe focus of this program is to equip students with industry-standard methodologies and knowledge to help them become job-ready.\\nInterview Centric\\nSkill Centric\\nBasic Programming\\nFeatures of this Program\\nOur exclusive Placement Training Program is designed to provide the students of your college with the competitive edge they need in today\\'s job market.\\nLive classes by industry experts\\nStudents get to interact with industry professionals for expert guidance and advice\\nDedicated doubt assistance\\n24X7 Assistance by dedicated TAs ensure that students get personalized attention, feedback, and insights\\nLMS with practice questions & quiz\\nEnhance learning through interactive practice and assessment with our learning management system\\nProject centric learning\\nGet a better understanding of how factual concepts are implemented in real-life scenarios\\nReal-time interview centric contests\\nFoster healthy competition among students through coding contests, encouraging them to enhance their problem-solving abilities and coding speed.\\nAn advantage to Campus\\nEnrolling your campus for this program will help you strengthen your colleges’ reputation, demonstrate better results, build industry connections and help your students become future-technology ready.\\nPerformance Tracker\\nGain insights into your students\\' progress like never before. Stay informed about their quiz scores, project completion rates, and coding challenges to ensure personalized guidance and tailored support.\\nSkill enhancement\\nThrough interactive learning, coding exercises, and hands-on projects, your campus will witness a significant boost in students\\' proficiency and their readiness to tackle real-world challenges.\\nHiring assistance\\nFrom resume building workshops to interview preparation and connecting them with top-tier companies, our program ensures that your campus becomes a launchpad for professional success.\\nKey account manager\\nOur dedicated account manager serves as your direct point of contact, ensuring that your campus\\'s unique needs are understood and catered to.\\nApply Now\\nPlacement Oriented Training Program\\nThrough this program, your campus ensures that students are not just academically strong, but also industry-ready. Our Placement Oriented Training Program is the bridge between classroom learning and professional success\\nB2B Business\\nThis collaborative approach paves the way for a mutually beneficial relationship, enhancing your students\\' education while contributing to your campus\\'s growth.\\nUpscale your Campus with GfG\\nElevate your campus\\'s educational offerings by integrating GeeksforGeeks into your curriculum. Our comprehensive resources, expert guidance, and industry-aligned programs can add immense value to your campus\\'s reputation\\nPlacement Centric\\nWe understand the significance of a strong foundation in technical and soft skills for securing job placements.With our Placement Centric offerings, your campus will become a launchpad for success!\\nAffordable Prices\\nWe understand the budget constraints that institutions may face, which is why we have tailored our pricing to ensure that even the most cost-conscious campuses can benefit from our offerings.\\nOur Partner Institutions\\nWe are already revolutionizing education and paving the way for brighter futures in these campuses’. Your college can be the next!\\nCertificate\\nGet job-ready with affordable, career-aligned training programs taught by expert instructors from top companies and universities. Start pursuing your career dreams today with our program and get GeeksforGeeks certified\\nDirect Call\\nTestimonials\\nHear what our students say\\nFind GeeksforGeeks alumni profiles and hear what they say about GeekforGeeks courses!\\nNikhil Isaac\\nGeeks for Geeks\\' DSA course has been an absolute game-changer for my career. As an electronics engineering student aspiring to land an internship at a FAANG company, I knew I needed to strengthen my data structures and programming algorithms skills. This course provided the comprehensive and structured learning I was seeking\\nSarvesh Chavan\\nThe GFG DSA course exceeded my expectations. The content is well-structured, with clear explanations and relevant examples. Thank you GeeksforGeeks for amazing content. The interactive approach truly enhances learning. Overall, it\\'s a great course for mastering Data Structures and Algorithms.\\nPranav Masekar\\nThe DSA course was comprehensive and well-structured, covering essential data structures and algorithms. The instructors provided clear explanations and practical examples, making it easy to understand and apply the concepts. The course greatly improved my problem-solving skills and prepared me for coding interviews. Highly recommended!\\nApoorva Chauhan\\nI usually read from this app when I cannot use my laptop. Useful App to Learn DS & Algo, Programming while travelling. It has access to all content I can read from my laptop and is....\\nAjit Pawar\\nI recently completed the online DSA (Data Structures and Algorithms) course, and I must say it was an exceptional learning experience. The course was well-structured, comprehensive, and delivered with utmost professionalism. I would like to express my sincere appreciation for the incredible effort put in by the instructors and the entire course team.\\nSusmit Garudkar\\nThe course is very organised and i am able to learn and revised all the things that are needed for placements is efficient manne\\nPratiksha Kadam\\nGeeksforGeeks have very helpful course for all the students who want to know about DSA in details\\nHiring assistance with GfG\\nWe collaborate closely with campuses to understand their unique needs, curricula, and student profiles. Leveraging our extensive industry network, we connect students with leading companies actively seeking fresh talent.\\nGFG Recruitment Platform\\nEmpowering tech talent to connect with top companies and unlock their career potential\\nMonthly Job-A-Thon\\nMonthly hiring challenges providing access to multiple job openings via a single contest\\nJob Fair\\nFree job fair where hundreds of companies are invited with multiple job openings for students\\nPlacement Assistance\\nDedicated placement cell aimed at assisting students with their job applications process\\nLearning Journey\\nWith us, the journey is just as rewarding as the destination! Have a look at what the students will experience-\\nTraining Program\\nAccess to Contests\\nAccess to Hiring Partners\\nStart Here\\n01\\nProgramming Languages\\n03\\nLive Sessions\\n05\\nAssessment Tests\\n07\\nGet a SDE Role\\n02\\nData Structures & Algorithms\\n04\\nPractice Questions\\n06\\nPlacement Assistance\\nCrack Interview\\nContact Us\\nFirst Name\\n*\\nLast Name\\n*\\nEmail Address\\n*\\nMobile Number\\n*\\nDesignation\\n*\\nInstitute\\n*\\n*\\nThis form is exclusively filled by the\\nTraining & Placement Department or the Faculty Members of the College.\\nSubmit\\nFrequently Asked Question\\nQuestions you might have about our products and services\\nHow would this training program be helpful in placements?\\nThis training program is designed in such a way that every candidate would be prepared on industry relevant requirements. Expert mentors would help each and every candidate and will ensure their learning curve is growing extensively.\\nWho are eligible for this training program?\\nStudents who wants to get into product based companies (from 3rd Semester till 7th Semester) and targeting software developer roles can be part of this training program.\\nHow is this training program is different?\\nGeeksforGeeks offers lots of perks to the universities and institutions with this training program like: 24*7 Doubt Support, LIVE Classes from Industry Experts, LMS access to stakeholders for performance tracking, Placement Assistance etc.\\nHow the curriculum is designed for the training program?\\nWe design the curriculum according to the university or an individual institution requirement. Also, we provide our curriculum which is curated by industry experts and mentors.\\nDo you provide certification to the students over the completion of this training program?\\nYes, GeeksforGeeks provides certification after the completion of the training program.\\nCorporate & Communications Address:\\nA-143, 7th Floor, Sovereign Corporate Tower, Sector- 136, Noida, Uttar Pradesh (201305)\\nRegistered Address:\\nK 061, Tower K, Gulshan Vivante Apartment, Sector 137, Noida, Gautam Buddh Nagar, Uttar Pradesh, 201305\\nAdvertise with us\\nCompany\\nAbout Us\\nLegal\\nPrivacy Policy\\nIn Media\\nContact Us\\nAdvertise with us\\nGFG Corporate Solution\\nPlacement Training Program\\nLanguages\\nPython\\nJava\\nC++\\nPHP\\nGoLang\\nSQL\\nR Language\\nAndroid Tutorial\\nTutorials Archive\\nDSA\\nData Structures\\nAlgorithms\\nDSA for Beginners\\nBasic DSA Problems\\nDSA Roadmap\\nTop 100 DSA Interview Problems\\nDSA Roadmap by Sandeep Jain\\nAll Cheat Sheets\\nData Science & ML\\nData Science With Python\\nData Science For Beginner\\nMachine Learning\\nML Maths\\nData Visualisation\\nPandas\\nNumPy\\nNLP\\nDeep Learning\\nWeb Technologies\\nHTML\\nCSS\\nJavaScript\\nTypeScript\\nReactJS\\nNextJS\\nBootstrap\\nWeb Design\\nPython Tutorial\\nPython Programming Examples\\nPython Projects\\nPython Tkinter\\nPython Web Scraping\\nOpenCV Tutorial\\nPython Interview Question\\nDjango\\nComputer Science\\nOperating Systems\\nComputer Network\\nDatabase Management System\\nSoftware Engineering\\nDigital Logic Design\\nEngineering Maths\\nSoftware Development\\nSoftware Testing\\nDevOps\\nGit\\nLinux\\nAWS\\nDocker\\nKubernetes\\nAzure\\nGCP\\nDevOps Roadmap\\nSystem Design\\nHigh Level Design\\nLow Level Design\\nUML Diagrams\\nInterview Guide\\nDesign Patterns\\nOOAD\\nSystem Design Bootcamp\\nInterview Questions\\nInteview Preparation\\nCompetitive Programming\\nTop DS or Algo for CP\\nCompany-Wise Recruitment Process\\nCompany-Wise Preparation\\nAptitude Preparation\\nPuzzles\\nSchool Subjects\\nMathematics\\nPhysics\\nChemistry\\nBiology\\nSocial Science\\nEnglish Grammar\\nCommerce\\nWorld GK\\nGeeksforGeeks Videos\\nDSA\\nPython\\nJava\\nC++\\nWeb Development\\nData Science\\nCS Subjects\\n@GeeksforGeeks, Sanchhaya Education Private Limited\\n,\\nAll rights reserved\\nWe use cookies to ensure you have the best browsing experience on our website. By using our site, you\\r\\n        acknowledge that you have read and understood our\\nCookie Policy\\n&\\nPrivacy Policy\\nGot It !\\nWhat kind of Experience do you want to share?\\nInterview Experiences\\nAdmission Experiences\\nCareer Journeys\\nWork Experiences\\nCampus Experiences\\nCompetitive Exam Experiences\\n\\n\\n\\ncourses\\nWebpage Title:\\nCourses GeeksforGeeks | Interactive LIVE and Self-Paced Courses\\nWebpage Contents:\\nCourses\\nPlacement\\nData Science\\nIBM\\nGATE\\nPractice\\nData Structure\\nJava\\nPython\\nHTML\\nInterview Preparation\\nOur website uses cookies\\nWe use cookies to ensure you have the best browsing experience on our website. By using our site, you acknowledge that you have read and understood our\\nCookie Policy\\n&\\nPrivacy Policy\\nGot it!\\nGeeksforGeeks Courses\\nInteractive LIVE & Self-Paced Courses\\n08069289001\\nPopular Now\\nView All\\n596k+\\ninterested Geeks\\n4.4\\nDSA to Development: A Complete Guide\\nBeginner to Advance\\nExplore\\n315k+\\ninterested Geeks\\n4.7\\nJAVA Backend Development - Live\\nIntermediate and Advance\\nExplore\\n445k+\\ninterested Geeks\\n4.7\\nComplete Machine Learning & Data Science Program\\nBeginner to Advance\\n6\\nseats left\\nExplore\\n18k+\\ninterested Geeks\\nPlacement Taiyari With DSA\\nBeginner to Advance\\nExplore\\nCourse Categories\\nAll\\nCertification Courses\\nDSA / Placements\\nDevelopment / Testing\\nMachine Learning / Data Science\\nProgramming Languages\\nCloud / DevOps\\nGATE\\nLive Courses\\nView All\\n339k+\\ninterested Geeks\\n4.9\\nTech Interview 101 - From DSA to System Design for Working Professionals\\nBeginner to Advance\\n2\\nseats left\\nExplore\\n369k+\\ninterested Geeks\\n4.7\\nFull Stack Development with React & Node JS - Live\\nBeginner to Advance\\nExplore\\n111k+\\ninterested Geeks\\n4.6\\nDevOps Engineering - Planning to Production\\nBeginner to Advance\\n4\\nseats left\\nExplore\\n46k+\\ninterested Geeks\\n4.4\\nData Analytics Training using Excel, SQL, Python & PowerBI\\nBeginner to Advance\\n6\\nseats left\\nExplore\\nSelf-Paced Courses\\nView All\\n970k+\\ninterested Geeks\\n4.8\\nComplete Interview Preparation\\nBeginner to Advance\\nExplore\\n335k+\\ninterested Geeks\\n4.7\\nData Structures & Algorithms in Python - Self Paced\\nBeginner to Advance\\nExplore\\n157k+\\ninterested Geeks\\n4.6\\nMastering System Design: From Low-Level to High-Level Solutions\\nBeginner to Advance\\n5\\nseats left\\nExplore\\n1392k+\\ninterested Geeks\\n4.7\\nData Structures and Algorithms - Self Paced [Online Course]\\nBeginner to Advance\\nExplore\\nBuild Your Foundations\\nView All\\n320k+\\ninterested Geeks\\n4.6\\nJava Programming Online Course [Complete Beginner to Advanced]\\nBeginner to Advance\\nFree Course\\nExplore\\n249k+\\ninterested Geeks\\n4.7\\nC++ Programming Course Online - Complete Beginner to Advanced\\nBeginner to Advance\\nFree Course\\nExplore\\n97k+\\ninterested Geeks\\n4.7\\nJavaScript Full Course Online | Learn JavaScript with Certification\\nBeginner to Advance\\nFree Course\\nExplore\\n177k+\\ninterested Geeks\\n4.6\\nC Programming Course Online - Learn C with Data Structures\\nBeginner to Advance\\nFree Course\\nExplore\\nCorporate & Communications Address:\\nA-143, 7th Floor, Sovereign Corporate Tower, Sector- 136, Noida, Uttar Pradesh (201305)\\nRegistered Address:\\nK 061, Tower K, Gulshan Vivante Apartment, Sector 137, Noida, Gautam Buddh Nagar, Uttar Pradesh, 201305\\nAdvertise with us\\nCompany\\nAbout Us\\nLegal\\nPrivacy Policy\\nIn Media\\nContact Us\\nAdvertise with us\\nGFG Corporate Solution\\nPlacement Training Program\\nLanguages\\nPython\\nJava\\nC++\\nPHP\\nGoLang\\nSQL\\nR Language\\nAndroid Tutorial\\nTutorials Archive\\nDSA\\nData Structures\\nAlgorithms\\nDSA for Beginners\\nBasic DSA Problems\\nDSA Roadmap\\nTop 100 DSA Interview Problems\\nDSA Roadmap by Sandeep Jain\\nAll Cheat Sheets\\nData Science & ML\\nData Science With Python\\nData Science For Beginner\\nMachine Learning\\nML Maths\\nData Visualisation\\nPandas\\nNumPy\\nNLP\\nDeep Learning\\nWeb Technologies\\nHTML\\nCSS\\nJavaScript\\nTypeScript\\nReactJS\\nNextJS\\nBootstrap\\nWeb Design\\nPython Tutorial\\nPython Programming Examples\\nPython Projects\\nPython Tkinter\\nPython Web Scraping\\nOpenCV Tutorial\\nPython Interview Question\\nDjango\\nComputer Science\\nOperating Systems\\nComputer Network\\nDatabase Management System\\nSoftware Engineering\\nDigital Logic Design\\nEngineering Maths\\nSoftware Development\\nSoftware Testing\\nDevOps\\nGit\\nLinux\\nAWS\\nDocker\\nKubernetes\\nAzure\\nGCP\\nDevOps Roadmap\\nSystem Design\\nHigh Level Design\\nLow Level Design\\nUML Diagrams\\nInterview Guide\\nDesign Patterns\\nOOAD\\nSystem Design Bootcamp\\nInterview Questions\\nInteview Preparation\\nCompetitive Programming\\nTop DS or Algo for CP\\nCompany-Wise Recruitment Process\\nCompany-Wise Preparation\\nAptitude Preparation\\nPuzzles\\nSchool Subjects\\nMathematics\\nPhysics\\nChemistry\\nBiology\\nSocial Science\\nEnglish Grammar\\nCommerce\\nWorld GK\\nGeeksforGeeks Videos\\nDSA\\nPython\\nJava\\nC++\\nWeb Development\\nData Science\\nCS Subjects\\n@GeeksforGeeks, Sanchhaya Education Private Limited\\n,\\nAll rights reserved\\n\\n', {'links': [{'type': 'homepage', 'url': 'https://www.geeksforgeeks.org/'}, {'type': 'about page', 'url': 'https://www.geeksforgeeks.org/about/'}, {'type': 'contact us', 'url': 'https://www.geeksforgeeks.org/about/contact-us/'}, {'type': 'advertise with us', 'url': 'https://www.geeksforgeeks.org/advertise-with-us/'}, {'type': 'corporate solutions', 'url': 'https://www.geeksforgeeks.org/gfg-corporate-solution/'}, {'type': 'campus training program', 'url': 'https://www.geeksforgeeks.org/campus-training-program/'}, {'type': 'courses', 'url': 'https://www.geeksforgeeks.org/courses'}]})\n"
     ]
    }
   ],
   "source": [
    "print(get_all_details(link))"
   ]
  },
  {
   "cell_type": "code",
   "execution_count": 16,
   "id": "d164d291",
   "metadata": {},
   "outputs": [],
   "source": [
    "system_prompt = \"You are an assistant that analyzes the contents of several relevant pages from a company website \\\n",
    "and creates a short brochure about the company for prospective customers, investors and recruits. Respond in markdown.\\\n",
    "Include details of company culture, customers and careers/jobs if you have the information.\""
   ]
  },
  {
   "cell_type": "code",
   "execution_count": 17,
   "id": "fc9370fb",
   "metadata": {},
   "outputs": [],
   "source": [
    "def get_brochure_user_prompt(company_name, url):\n",
    "    user_prompt = f\"You are looking at a company called: {company_name}\\n\"\n",
    "    user_prompt += f\"Here are the contents of its landing page and other relevant pages; use this information to build a short brochure of the company in markdown.\\n\"\n",
    "    user_prompt += get_all_details(url)[0]\n",
    "    user_prompt = user_prompt[:5_000] # Truncate if more than 5,000 characters\n",
    "    return user_prompt"
   ]
  },
  {
   "cell_type": "code",
   "execution_count": 18,
   "id": "8b5715a7",
   "metadata": {},
   "outputs": [
    {
     "data": {
      "text/plain": [
       "'You are looking at a company called: geeksforgeeks\\nHere are the contents of its landing page and other relevant pages; use this information to build a short brochure of the company in markdown.\\nLanding page:\\nWebpage Title:\\nGeeksforGeeks | Your All-in-One Learning Portal\\nWebpage Contents:\\nCourses\\nTutorials\\nPractice\\nData Structure\\nJava\\nPython\\nHTML\\nInterview Preparation\\nDSA\\nPractice Problems\\nC\\nC++\\nJava\\nPython\\nJavaScript\\nData Science\\nMachine Learning\\nCourses\\nLinux\\nDevOps\\nSQL\\nWeb Development\\nSystem Design\\nAptitude\\nGfG Premium\\nHello, What Do You Want To Learn?\\nFull Stack Live Classes\\nDSA: Basic To Advanced Course\\nMaster DS & ML\\nExplore\\nData Structure and Algorithms\\nView more\\nPractice DSA\\nView more\\nAI ML & Data Science\\nView more\\nWeb Development\\nView more\\nPython\\nView more\\nMachine Learning\\nView more\\nSystem Design\\nView more\\nDevOps\\nView more\\nInterested in advertising with us?\\nGet in touch\\nCourses\\nView All\\n4.4\\nDSA to Development: A Complete Guide\\nBeginner to Advance\\n589k+\\ninterested Geeks\\nExplore now\\n4.7\\nJAVA Backend Development - Live\\nIntermediate and Advance\\n312k+\\ninterested Geeks\\nExplore now\\n4.9\\nTech Interview 101 - From DSA to System Design for Working Professionals\\nBeginner to Advance\\n337k+\\ninterested Geeks\\nExplore now\\n4.7\\nFull Stack Development with React & Node JS - Live\\nBeginner to Advance\\n365k+\\ninterested Geeks\\nExplore now\\n4.6\\nJava Programming Online Course [Complete Beginner to Advanced]\\nBeginner to Advance\\n299k+\\ninterested Geeks\\nExplore now\\n4.7\\nC++ Programming Course Online - Complete Beginner to Advanced\\nBeginner to Advance\\n237k+\\ninterested Geeks\\nExplore now\\nDSA\\nView All\\nAnalysis of Algorithms\\nArray\\nLinked List\\nSearching Algorithms\\nStack\\nSorting Algorithms\\nQueue\\nGraph\\nAI ML & Data Science\\nView All\\nMachine Learning\\nData Science\\nData Analysis\\nData Visualization\\nDeep Learning\\nNatural Language Processing\\nComputer Vision\\nArtificial Intelligence\\nWeb Development\\nView All\\nJavaScript\\nHTML\\nCSS\\nReactJS\\nNode.js\\nDjango\\nFrontend Development\\nBackend Development\\nLanguages\\nView All\\nPython\\nJava\\nC++\\nC\\nPHP\\nR\\nSwift\\nGolang\\nCS Subjects\\nView All\\nOperating System\\nComputer Network\\nDBMS\\nEngineering Mathematics\\nSoftware Engineering\\nDigital Electronics\\nCompiler Design\\nComputer Organisation and Architecture\\nDatabases\\nView All\\nSQL\\nMYSQL\\nMongoDB\\nPostgreSQL\\nPL/SQL\\nSQL Cheatsheet\\nSQL Interview Questions\\nMYSQL Interview Questions\\nDevOps\\nView All\\nGIT\\nAmazon Web Services\\nKubernetes\\nDocker\\nMicrosoft Azure\\nGoogle Cloud Platform\\nDevOps Roadmap\\nDevOps Interview Questions\\nTutorials\\nView All\\nSystem Design\\nAndroid\\nLinux\\nDesign Pattern\\nSoftware Testing\\nProduct Management\\nProject Management\\nExcel\\nFree Courses\\nDSA Roadmap Beg to Adv\\nDynamic Programming\\nSystem Design Interview Guide\\nDjango with Tailwind\\nDjango with ReactJS\\nSQL Complete Course\\nR Programming\\nExpress.js\\nGfG School\\nView All\\nMaths\\nPhysics\\nChemistry\\nBiology\\nCommerce\\nSocial Science\\nEnglish\\nSchool Programming\\nMust Explore\\nTrending Now\\nWatch Videos\\nGfG Coding Contest\\nAdvertise with Us\\nCorporate & Communications Address:\\nA-143, 7th Floor, Sovereign Corporate Tower, Sector- 136, Noida, Uttar Pradesh (201305)\\nRegistered Address:\\nK 061, Tower K, Gulshan Vivante Apartment, Sector 137, Noida, Gautam Buddh Nagar, Uttar Pradesh, 201305\\nAdvertise with us\\nCompany\\nAbout Us\\nLegal\\nPrivacy Policy\\nIn Media\\nContact Us\\nAdvertise with us\\nGFG Corporate Solution\\nPlacement Training Program\\nLanguages\\nPython\\nJava\\nC++\\nPHP\\nGoLang\\nSQL\\nR Language\\nAndroid Tutorial\\nTutorials Archive\\nDSA\\nData Structures\\nAlgorithms\\nDSA for Beginners\\nBasic DSA Problems\\nDSA Roadmap\\nTop 100 DSA Interview Problems\\nDSA Roadmap by Sandeep Jain\\nAll Cheat Sheets\\nData Science & ML\\nData Science With Python\\nData Science For Beginner\\nMachine Learning\\nML Maths\\nData Visualisation\\nPandas\\nNumPy\\nNLP\\nDeep Learning\\nWeb Technologies\\nHTML\\nCSS\\nJavaScript\\nTypeScript\\nReactJS\\nNextJS\\nBootstrap\\nWeb Design\\nPython Tutorial\\nPython Programming Examples\\nPython Projects\\nPython Tkinter\\nPython Web Scraping\\nOpenCV Tutorial\\nPython Interview Question\\nDjango\\nComputer Science\\nOperating Systems\\nComputer Network\\nDatabase Management System\\nSoftware Engineering\\nDigital Logic Design\\nEngineering Maths\\nSoftware Development\\nSoftware Testing\\nDevOps\\nGit\\nLinux\\nAWS\\nDocker\\nKubernetes\\nAzure\\nGCP\\nDevOps Roadmap\\nSystem Design\\nHigh Level Design\\nLow Level Design\\nUML Diagrams\\nInterview Guide\\nDesign Patterns\\nOOAD\\nSystem Design Bootcamp\\nInterview Questions\\nInteview Preparation\\nCompetitive Programming\\nTop DS or Algo for CP\\nCompany-Wise Recruitment Process\\nCompany-Wise Preparation\\nAptitude Preparation\\nPuzzles\\nSchool Subjects\\nMathematics\\nPhysics\\nChemistry\\nBiology\\nSocial Science\\nEnglish Grammar\\nCommerce\\nWorld GK\\nGeeksforGeeks Videos\\nDSA\\nPython\\nJava\\nC++\\nWeb Development\\nData Science\\nCS Subjects\\n@GeeksforGeeks, Sanchhaya Education Private Limited\\n,\\nAll rights reserved\\nWe use cookies to ensure you have the best browsing experience on our website. By using our site, you acknowledge that you have read and understood our\\nCookie Policy\\n&\\nPrivacy Policy\\nGot It !\\n\\n\\n\\nhomepage\\nWebpage Title:\\nGeeksforGeeks | Your All-in-'"
      ]
     },
     "execution_count": 18,
     "metadata": {},
     "output_type": "execute_result"
    }
   ],
   "source": [
    "get_brochure_user_prompt(\"geeksforgeeks\", link)"
   ]
  },
  {
   "cell_type": "code",
   "execution_count": 19,
   "id": "d5b97a5e",
   "metadata": {},
   "outputs": [],
   "source": [
    "# def create_brochure(company_name, url):\n",
    "    \n",
    "#     prompt = (\n",
    "#         system_prompt + \"\\n\\n\" +  # Instruction to Gemini\n",
    "#         get_brochure_user_prompt(company_name, url)  # User-level prompt \n",
    "#     )\n",
    "    \n",
    "#     model = genai.GenerativeModel(\"gemini-2.0-flash\")\n",
    "    \n",
    "#     response = model.generate_content(prompt)\n",
    "    \n",
    "#     display(Markdown(response.text.strip()))"
   ]
  },
  {
   "cell_type": "code",
   "execution_count": 20,
   "id": "dbf9e9d6",
   "metadata": {},
   "outputs": [],
   "source": [
    "def create_brochure(company_name, url):\n",
    "    prompt = (\n",
    "        system_prompt + \"\\n\\n\" +\n",
    "        get_brochure_user_prompt(company_name, url)\n",
    "    )\n",
    "\n",
    "    model = genai.GenerativeModel(\"gemini-2.0-flash\")\n",
    "\n",
    "    # Stream response\n",
    "    response_stream = model.generate_content(prompt, stream=True)\n",
    "\n",
    "    # Display streamed content\n",
    "    for chunk in response_stream:\n",
    "        if chunk.text:\n",
    "            display(Markdown(chunk.text), display_id=\"brochure_output\")\n"
   ]
  },
  {
   "cell_type": "code",
   "execution_count": 22,
   "id": "b8d3c783",
   "metadata": {},
   "outputs": [
    {
     "data": {
      "text/markdown": [
       "```"
      ],
      "text/plain": [
       "<IPython.core.display.Markdown object>"
      ]
     },
     "metadata": {},
     "output_type": "display_data"
    },
    {
     "data": {
      "text/markdown": [
       "markdown\n",
       "# GeeksforGeeks: Your All-in-One Learning"
      ],
      "text/plain": [
       "<IPython.core.display.Markdown object>"
      ]
     },
     "metadata": {},
     "output_type": "display_data"
    },
    {
     "data": {
      "text/markdown": [
       " Portal\n",
       "\n",
       "## About Us\n",
       "\n",
       "GeeksforGeeks is a leading platform dedicated to providing"
      ],
      "text/plain": [
       "<IPython.core.display.Markdown object>"
      ]
     },
     "metadata": {},
     "output_type": "display_data"
    },
    {
     "data": {
      "text/markdown": [
       " high-quality computer science education to students and professionals worldwide. We offer a comprehensive range of resources to help you master essential technical skills and advance your career.\n",
       "\n"
      ],
      "text/plain": [
       "<IPython.core.display.Markdown object>"
      ]
     },
     "metadata": {},
     "output_type": "display_data"
    },
    {
     "data": {
      "text/markdown": [
       "**Our Mission:** To empower individuals with the knowledge and skills to excel in the world of technology.\n",
       "\n",
       "**Corporate & Communications Address:**\n",
       "A-14"
      ],
      "text/plain": [
       "<IPython.core.display.Markdown object>"
      ]
     },
     "metadata": {},
     "output_type": "display_data"
    },
    {
     "data": {
      "text/markdown": [
       "3, 7th Floor, Sovereign Corporate Tower, Sector- 136, Noida, Uttar Pradesh (201305)\n",
       "\n",
       "**Registered Address:**\n",
       "K 061, Tower K, Gulshan Viv"
      ],
      "text/plain": [
       "<IPython.core.display.Markdown object>"
      ]
     },
     "metadata": {},
     "output_type": "display_data"
    },
    {
     "data": {
      "text/markdown": [
       "ante Apartment, Sector 137, Noida, Gautam Buddh Nagar, Uttar Pradesh, 201305\n",
       "\n",
       "## What We Offer\n",
       "\n",
       "*   **Extensive Course Library:** From beginner-friendly introductions to advanced topics, our courses cover"
      ],
      "text/plain": [
       "<IPython.core.display.Markdown object>"
      ]
     },
     "metadata": {},
     "output_type": "display_data"
    },
    {
     "data": {
      "text/markdown": [
       " a wide range of subjects, including:\n",
       "    *   Data Structures and Algorithms (DSA)\n",
       "    *   AI, Machine Learning & Data Science\n",
       "    *   Web Development (Frontend & Backend)\n",
       "    *   Programming Languages (Python, Java, C++, and more)\n",
       "    *   System Design\n",
       "    *   "
      ],
      "text/plain": [
       "<IPython.core.display.Markdown object>"
      ]
     },
     "metadata": {},
     "output_type": "display_data"
    },
    {
     "data": {
      "text/markdown": [
       "DevOps\n",
       "\n",
       "*   **In-Depth Tutorials:** Our tutorials provide clear and concise explanations of complex concepts, with practical examples and code snippets.\n",
       "\n",
       "*   **Practice Problems:** Sharpen your skills with our extensive collection of practice problems, designed to challenge and reinforce your understanding.\n",
       "\n",
       "*   **Interview Preparation:** Prepare"
      ],
      "text/plain": [
       "<IPython.core.display.Markdown object>"
      ]
     },
     "metadata": {},
     "output_type": "display_data"
    },
    {
     "data": {
      "text/markdown": [
       " for your next technical interview with our comprehensive resources, including:\n",
       "    *   Company-specific preparation guides\n",
       "    *   DSA interview questions\n",
       "    *   System design interview guides\n",
       "\n",
       "*   **Free Resources:** Access a wealth of free content, including tutorials, articles, and coding challenges.\n",
       "\n",
       "## Who We Serve\n",
       "\n",
       "*"
      ],
      "text/plain": [
       "<IPython.core.display.Markdown object>"
      ]
     },
     "metadata": {},
     "output_type": "display_data"
    },
    {
     "data": {
      "text/markdown": [
       "   **Students:** Enhance your academic knowledge and prepare for internships and job opportunities.\n",
       "\n",
       "*   **Working Professionals:** Upskill your existing skills and stay current with the latest technologies.\n",
       "\n",
       "*   **Career Changers:** Acquire the skills you need to transition into a tech career.\n",
       "\n",
       "## What Makes Us Different?\n",
       "\n",
       "*   "
      ],
      "text/plain": [
       "<IPython.core.display.Markdown object>"
      ]
     },
     "metadata": {},
     "output_type": "display_data"
    },
    {
     "data": {
      "text/markdown": [
       "**Comprehensive Coverage:** We offer a holistic approach to learning, covering a wide range of computer science topics.\n",
       "\n",
       "*   **Practical Focus:** Our resources are designed to be practical and hands-on, allowing you to apply your knowledge to real-world problems.\n",
       "\n",
       "*   **Expert Instructors:** Our courses and tutorials are"
      ],
      "text/plain": [
       "<IPython.core.display.Markdown object>"
      ]
     },
     "metadata": {},
     "output_type": "display_data"
    },
    {
     "data": {
      "text/markdown": [
       " created by experienced instructors who are passionate about teaching.\n",
       "\n",
       "*   **Community Support:** Join our vibrant community of learners and connect with fellow students, professionals, and instructors.\n",
       "\n",
       "## Career Opportunities\n",
       "\n",
       "GeeksforGeeks also provides opportunity for people to explore technical fields, increase their knowledge.\n",
       "\n",
       "## Connect With Us\n",
       "\n",
       "*   "
      ],
      "text/plain": [
       "<IPython.core.display.Markdown object>"
      ]
     },
     "metadata": {},
     "output_type": "display_data"
    },
    {
     "data": {
      "text/markdown": [
       "**Website:** [https://www.geeksforgeeks.org/](https://www.geeksforgeeks.org/)\n",
       "\n",
       "**Let GeeksforGeeks be your partner in your learning journey!**\n",
       "```"
      ],
      "text/plain": [
       "<IPython.core.display.Markdown object>"
      ]
     },
     "metadata": {},
     "output_type": "display_data"
    }
   ],
   "source": [
    "create_brochure(\"GeeksforGeeks\", link)"
   ]
  }
 ],
 "metadata": {
  "kernelspec": {
   "display_name": "Python 3",
   "language": "python",
   "name": "python3"
  },
  "language_info": {
   "codemirror_mode": {
    "name": "ipython",
    "version": 3
   },
   "file_extension": ".py",
   "mimetype": "text/x-python",
   "name": "python",
   "nbconvert_exporter": "python",
   "pygments_lexer": "ipython3",
   "version": "3.11.8"
  }
 },
 "nbformat": 4,
 "nbformat_minor": 5
}
