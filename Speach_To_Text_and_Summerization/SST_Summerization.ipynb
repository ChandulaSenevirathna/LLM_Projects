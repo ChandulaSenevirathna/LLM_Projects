{
 "cells": [
  {
   "cell_type": "code",
   "execution_count": 1,
   "id": "452a027b",
   "metadata": {},
   "outputs": [],
   "source": [
    "from transformers import pipeline\n",
    "import torchaudio\n",
    "import os\n",
    "import torch\n",
    "from transformers import AutoTokenizer, AutoModelForCausalLM, TextStreamer, BitsAndBytesConfig\n",
    "import torch\n",
    "from huggingface_hub import login\n",
    "from dotenv import load_dotenv"
   ]
  },
  {
   "cell_type": "code",
   "execution_count": null,
   "id": "db906340",
   "metadata": {},
   "outputs": [],
   "source": [
    "load_dotenv()\n",
    "\n",
    "HF_TOKEN = os.getenv('HF_TOKEN')\n",
    "login(HF_TOKEN, add_to_git_credential=True)"
   ]
  },
  {
   "cell_type": "code",
   "execution_count": null,
   "id": "f58c998c",
   "metadata": {},
   "outputs": [],
   "source": [
    "device = torch.device(\"cuda\" if torch.cuda.is_available() else \"cpu\")\n",
    "device"
   ]
  },
  {
   "cell_type": "code",
   "execution_count": null,
   "id": "62cdce9a",
   "metadata": {},
   "outputs": [],
   "source": [
    "asr = pipeline(\"automatic-speech-recognition\", model=\"openai/whisper-base\", device=device, return_timestamps=True)"
   ]
  },
  {
   "cell_type": "code",
   "execution_count": null,
   "id": "a05359c4",
   "metadata": {},
   "outputs": [],
   "source": [
    "audio_path = \"./denver_extract.mp3 - Google Drive.mp3\""
   ]
  },
  {
   "cell_type": "code",
   "execution_count": null,
   "id": "df5b4955",
   "metadata": {},
   "outputs": [],
   "source": [
    "waveform, sample_rate = torchaudio.load(audio_path)\n",
    "\n",
    "if sample_rate != 16000:\n",
    "    print(f\"Resampling from {sample_rate} Hz to 16000 Hz...\")\n",
    "    resampler = torchaudio.transforms.Resample(orig_freq=sample_rate, new_freq=16000)\n",
    "    waveform = resampler(waveform)\n",
    "    audio_path = \"resampled_audio.wav\"\n",
    "    torchaudio.save(audio_path, waveform, 16000)"
   ]
  },
  {
   "cell_type": "code",
   "execution_count": null,
   "id": "ee44ccca",
   "metadata": {},
   "outputs": [],
   "source": [
    "print(\"Transcribing...\")\n",
    "result = asr(audio_path)"
   ]
  },
  {
   "cell_type": "code",
   "execution_count": null,
   "id": "6f3dbd8c",
   "metadata": {},
   "outputs": [],
   "source": [
    "print(\"\\n Transcribed Text:\\n\")\n",
    "print(result[\"text\"])"
   ]
  },
  {
   "cell_type": "code",
   "execution_count": null,
   "id": "15f94063",
   "metadata": {},
   "outputs": [],
   "source": [
    "model_name = \"mistralai/Mistral-7B-Instruct-v0.1\""
   ]
  },
  {
   "cell_type": "code",
   "execution_count": null,
   "id": "0fdccc99",
   "metadata": {},
   "outputs": [],
   "source": [
    "bnb_config = BitsAndBytesConfig(\n",
    "    load_in_4bit=True,\n",
    "    bnb_4bit_compute_dtype=torch.float16,\n",
    "    bnb_4bit_use_double_quant=True,\n",
    "    bnb_4bit_quant_type=\"nf4\"\n",
    ")"
   ]
  }
 ],
 "metadata": {
  "kernelspec": {
   "display_name": "Python 3",
   "language": "python",
   "name": "python3"
  },
  "language_info": {
   "codemirror_mode": {
    "name": "ipython",
    "version": 3
   },
   "file_extension": ".py",
   "mimetype": "text/x-python",
   "name": "python",
   "nbconvert_exporter": "python",
   "pygments_lexer": "ipython3",
   "version": "3.11.8"
  }
 },
 "nbformat": 4,
 "nbformat_minor": 5
}
