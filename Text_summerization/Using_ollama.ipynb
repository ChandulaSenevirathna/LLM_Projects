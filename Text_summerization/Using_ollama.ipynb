{
 "cells": [
  {
   "cell_type": "code",
   "execution_count": 1,
   "id": "2afe75ea",
   "metadata": {},
   "outputs": [],
   "source": [
    "import requests\n",
    "from bs4 import BeautifulSoup\n",
    "from IPython.display import Markdown, display"
   ]
  },
  {
   "cell_type": "code",
   "execution_count": 2,
   "id": "01dc8c59",
   "metadata": {},
   "outputs": [
    {
     "name": "stderr",
     "output_type": "stream",
     "text": [
      "\u001b[?2026h\u001b[?25l\u001b[1Gpulling manifest ⠋ \u001b[K\u001b[?25h\u001b[?2026l\u001b[?2026h\u001b[?25l\u001b[1Gpulling manifest ⠙ \u001b[K\u001b[?25h\u001b[?2026l\u001b[?2026h\u001b[?25l\u001b[1Gpulling manifest ⠹ \u001b[K\u001b[?25h\u001b[?2026l\u001b[?2026h\u001b[?25l\u001b[1Gpulling manifest ⠸ \u001b[K\u001b[?25h\u001b[?2026l\u001b[?2026h\u001b[?25l\u001b[1Gpulling manifest ⠼ \u001b[K\u001b[?25h\u001b[?2026l\u001b[?2026h\u001b[?25l\u001b[1Gpulling manifest ⠴ \u001b[K\u001b[?25h\u001b[?2026l\u001b[?2026h\u001b[?25l\u001b[1Gpulling manifest ⠦ \u001b[K\u001b[?25h\u001b[?2026l\u001b[?2026h\u001b[?25l\u001b[1Gpulling manifest ⠧ \u001b[K\u001b[?25h\u001b[?2026l\u001b[?2026h\u001b[?25l\u001b[1Gpulling manifest ⠇ \u001b[K\u001b[?25h\u001b[?2026l\u001b[?2026h\u001b[?25l\u001b[1Gpulling manifest ⠏ \u001b[K\u001b[?25h\u001b[?2026l\u001b[?2026h\u001b[?25l\u001b[1Gpulling manifest ⠋ \u001b[K\u001b[?25h\u001b[?2026l\u001b[?2026h\u001b[?25l\u001b[1Gpulling manifest ⠙ \u001b[K\u001b[?25h\u001b[?2026l\u001b[?2026h\u001b[?25l\u001b[1Gpulling manifest ⠹ \u001b[K\u001b[?25h\u001b[?2026l\u001b[?2026h\u001b[?25l\u001b[1Gpulling manifest ⠸ \u001b[K\u001b[?25h\u001b[?2026l\u001b[?2026h\u001b[?25l\u001b[1Gpulling manifest ⠼ \u001b[K\u001b[?25h\u001b[?2026l\u001b[?2026h\u001b[?25l\u001b[1Gpulling manifest \u001b[K\n",
      "pulling dde5aa3fc5ff: 100% ▕██████████████████▏ 2.0 GB                         \u001b[K\n",
      "pulling 966de95ca8a6: 100% ▕██████████████████▏ 1.4 KB                         \u001b[K\n",
      "pulling fcc5a6bec9da: 100% ▕██████████████████▏ 7.7 KB                         \u001b[K\n",
      "pulling a70ff7e570d9: 100% ▕██████████████████▏ 6.0 KB                         \u001b[K\n",
      "pulling 56bb8bd477a5: 100% ▕██████████████████▏   96 B                         \u001b[K\n",
      "pulling 34bb5ab01051: 100% ▕██████████████████▏  561 B                         \u001b[K\n",
      "verifying sha256 digest \u001b[K\n",
      "writing manifest \u001b[K\n",
      "success \u001b[K\u001b[?25h\u001b[?2026l\n"
     ]
    }
   ],
   "source": [
    "!ollama pull llama3.2"
   ]
  },
  {
   "cell_type": "markdown",
   "id": "20d14dd6",
   "metadata": {},
   "source": [
    "### using direct HTTP call"
   ]
  },
  {
   "cell_type": "code",
   "execution_count": 3,
   "id": "3d0cd039",
   "metadata": {},
   "outputs": [],
   "source": [
    "OLLAMA_API = \"http://localhost:11434/api/chat\"\n",
    "HEADERS = {\"Content-Type\": \"application/json\"}\n",
    "MODEL = \"llama3.2\""
   ]
  },
  {
   "cell_type": "code",
   "execution_count": 4,
   "id": "fa1cf9ce",
   "metadata": {},
   "outputs": [],
   "source": [
    "messages = [\n",
    "    {\n",
    "    \"role\": \"user\", \n",
    "    \"content\": \"Describe some of the business applications of Generative AI\"\n",
    "    }\n",
    "]"
   ]
  },
  {
   "cell_type": "code",
   "execution_count": 5,
   "id": "9166b3ba",
   "metadata": {},
   "outputs": [],
   "source": [
    "payload = {\n",
    "        \"model\": MODEL,\n",
    "        \"messages\": messages,\n",
    "        \"stream\": False\n",
    "    }"
   ]
  },
  {
   "cell_type": "code",
   "execution_count": 7,
   "id": "19f2d2ab",
   "metadata": {},
   "outputs": [
    {
     "name": "stdout",
     "output_type": "stream",
     "text": [
      "Generative AI has numerous business applications across various industries. Here are some examples:\n",
      "\n",
      "1. **Content Creation**: Generative AI can be used to generate high-quality content such as articles, blog posts, social media posts, and even entire books. This can help businesses save time and resources on content creation.\n",
      "2. **Product Design**: Generative AI can be used to design new products, such as furniture, jewelry, or electronics. It can also be used to redesign existing products or generate new product variants.\n",
      "3. **Virtual Assistants**: Generative AI can be used to create more sophisticated virtual assistants that can understand natural language and respond accordingly.\n",
      "4. **Chatbots**: Generative AI can be used to power chatbots that can have conversations with customers, providing them with personalized support and answers to their queries.\n",
      "5. **Marketing Automation**: Generative AI can be used to generate personalized marketing campaigns, such as email newsletters, social media posts, and ad content.\n",
      "6. **Data Analysis**: Generative AI can be used to analyze large datasets and identify patterns and trends that may not have been apparent before.\n",
      "7. **Predictive Maintenance**: Generative AI can be used to predict when equipment is likely to fail, allowing businesses to schedule maintenance and reduce downtime.\n",
      "8. **Customer Service**: Generative AI can be used to provide personalized customer service, such as answering FAQs or providing product recommendations.\n",
      "9. **Language Translation**: Generative AI can be used to translate languages in real-time, making it easier for businesses to communicate with customers from different countries.\n",
      "10. **Art and Design**: Generative AI can be used to create new art forms, such as music, videos, and even entire movies.\n",
      "\n",
      "Some specific business applications of generative AI include:\n",
      "\n",
      "* **Fashion**: Using generative AI to design new clothing lines or generate 3D models for product visualization\n",
      "* **Finance**: Using generative AI to analyze financial data and predict stock prices or identify investment opportunities\n",
      "* **Healthcare**: Using generative AI to analyze medical images or develop personalized treatment plans\n",
      "* **Education**: Using generative AI to create customized educational content or provide personalized learning experiences\n",
      "\n",
      "These are just a few examples of the many business applications of generative AI. As the technology continues to evolve, we can expect to see even more innovative uses in various industries.\n"
     ]
    }
   ],
   "source": [
    "response = requests.post(OLLAMA_API, json=payload, headers=HEADERS)\n",
    "print(response.json()['message']['content'])"
   ]
  },
  {
   "cell_type": "markdown",
   "id": "bc2ca0d3",
   "metadata": {},
   "source": [
    "### using ollama package"
   ]
  },
  {
   "cell_type": "code",
   "execution_count": 8,
   "id": "0eaaaae5",
   "metadata": {},
   "outputs": [
    {
     "name": "stdout",
     "output_type": "stream",
     "text": [
      "Generative AI has numerous business applications across various industries, including:\n",
      "\n",
      "1. **Content Creation**: Generative AI can be used to generate high-quality content such as articles, social media posts, product descriptions, and even entire books. This can help businesses save time and resources on content creation, while also increasing the volume and variety of content.\n",
      "2. **Marketing and Advertising**: Generative AI can be used to create personalized ads, email marketing campaigns, and social media content that resonates with specific customer segments. It can also generate product recommendations, promotions, and special offers.\n",
      "3. **Product Design and Development**: Generative AI can be used to design new products, such as 3D models, prototypes, and even entire product lines. This can help businesses reduce the time and cost associated with traditional product design and development processes.\n",
      "4. **Sales and Customer Service**: Generative AI-powered chatbots and virtual assistants can be used to provide personalized customer support, answer frequently asked questions, and even help customers find products or services that meet their needs.\n",
      "5. **Supply Chain Optimization**: Generative AI can be used to optimize supply chain operations by predicting demand, identifying bottlenecks, and suggesting alternative logistics routes. This can help businesses reduce costs, improve efficiency, and increase customer satisfaction.\n",
      "6. **Financial Analysis and Forecasting**: Generative AI can be used to analyze large datasets, identify patterns, and make predictions about future market trends and financial performance. This can help businesses make more informed investment decisions and reduce the risk of unexpected events.\n",
      "7. **Cybersecurity**: Generative AI can be used to detect and respond to cyber threats in real-time, by analyzing network traffic, identifying suspicious behavior, and suggesting countermeasures.\n",
      "8. **Healthcare**: Generative AI can be used to analyze medical images, identify diseases, and generate personalized treatment plans. It can also help predict patient outcomes and identify potential side effects of new treatments.\n",
      "9. **Education**: Generative AI can be used to create personalized learning experiences for students, by generating customized lesson plans, assignments, and even entire curricula.\n",
      "10. **Music and Audio Production**: Generative AI can be used to generate music, audio tracks, and even entire soundscapes, which can help businesses create unique and engaging content.\n",
      "\n",
      "Some specific examples of business applications of Generative AI include:\n",
      "\n",
      "* Google's Generative Model for generating images and videos\n",
      "* Microsoft's Azure Machine Learning for developing custom machine learning models\n",
      "* Salesforce's Einstein Analytics for generating insights from large datasets\n",
      "* IBM's Watson for generating personalized customer support experiences\n",
      "\n",
      "These are just a few examples of the many business applications of Generative AI. As the technology continues to evolve, we can expect to see even more innovative uses across various industries.\n"
     ]
    }
   ],
   "source": [
    "import ollama\n",
    "\n",
    "response = ollama.chat(model=MODEL, messages=messages)\n",
    "print(response['message']['content'])"
   ]
  }
 ],
 "metadata": {
  "kernelspec": {
   "display_name": "Python 3",
   "language": "python",
   "name": "python3"
  },
  "language_info": {
   "codemirror_mode": {
    "name": "ipython",
    "version": 3
   },
   "file_extension": ".py",
   "mimetype": "text/x-python",
   "name": "python",
   "nbconvert_exporter": "python",
   "pygments_lexer": "ipython3",
   "version": "3.11.8"
  }
 },
 "nbformat": 4,
 "nbformat_minor": 5
}
