{
 "cells": [
  {
   "cell_type": "markdown",
   "id": "1f9555b7",
   "metadata": {},
   "source": [
    "### Conversational AI (Chatbot)"
   ]
  },
  {
   "cell_type": "code",
   "execution_count": 1,
   "id": "ca49359b",
   "metadata": {},
   "outputs": [],
   "source": [
    "import os\n",
    "from dotenv import load_dotenv\n",
    "import gradio as gr\n",
    "import google.generativeai as genai\n",
    "from IPython.display import Markdown, display, clear_output"
   ]
  },
  {
   "cell_type": "code",
   "execution_count": 2,
   "id": "ba75fc82",
   "metadata": {},
   "outputs": [],
   "source": [
    "load_dotenv()\n",
    "\n",
    "google_api_key = os.getenv('GEMINI_API_KEY')"
   ]
  },
  {
   "cell_type": "code",
   "execution_count": 3,
   "id": "91bcd663",
   "metadata": {},
   "outputs": [],
   "source": [
    "genai.configure(api_key=google_api_key)"
   ]
  },
  {
   "cell_type": "code",
   "execution_count": 4,
   "id": "e98e7668",
   "metadata": {},
   "outputs": [],
   "source": [
    "system_message = \"You are a helpful assistant\""
   ]
  },
  {
   "cell_type": "code",
   "execution_count": 5,
   "id": "01bb00fc",
   "metadata": {},
   "outputs": [],
   "source": [
    "def message_gemini(prompt):\n",
    "    model = genai.GenerativeModel(\n",
    "        model_name=\"gemini-2.0-flash\",  # or \"gemini-1.5-pro\"\n",
    "        system_instruction=system_message\n",
    "    )\n",
    "    \n",
    "    response = model.generate_content(prompt)\n",
    "    return response.text\n"
   ]
  },
  {
   "cell_type": "code",
   "execution_count": 6,
   "id": "1477cb6e",
   "metadata": {},
   "outputs": [
    {
     "name": "stdout",
     "output_type": "stream",
     "text": [
      "* Running on local URL:  http://127.0.0.1:7860\n",
      "\n",
      "To create a public link, set `share=True` in `launch()`.\n"
     ]
    },
    {
     "data": {
      "text/html": [
       "<div><iframe src=\"http://127.0.0.1:7860/\" width=\"100%\" height=\"500\" allow=\"autoplay; camera; microphone; clipboard-read; clipboard-write;\" frameborder=\"0\" allowfullscreen></iframe></div>"
      ],
      "text/plain": [
       "<IPython.core.display.HTML object>"
      ]
     },
     "metadata": {},
     "output_type": "display_data"
    },
    {
     "data": {
      "text/plain": []
     },
     "execution_count": 6,
     "metadata": {},
     "output_type": "execute_result"
    }
   ],
   "source": [
    "view = gr.Interface(\n",
    "    fn=message_gemini,\n",
    "    inputs=[gr.Textbox(label=\"Your message:\", lines=6)],\n",
    "    outputs=[gr.Textbox(label=\"Response:\", lines=8)],\n",
    "    flagging_mode=\"never\"\n",
    ")\n",
    "view.launch()"
   ]
  },
  {
   "cell_type": "markdown",
   "id": "7ecf5f15",
   "metadata": {},
   "source": [
    "### Streaming Output"
   ]
  },
  {
   "cell_type": "code",
   "execution_count": 7,
   "id": "cf6c9a75",
   "metadata": {},
   "outputs": [],
   "source": [
    "\n",
    "system_message = \"You are a helpful assistant that responds in markdown\"  # Optional system instruction\n",
    "\n",
    "def stream_gemini(prompt):\n",
    "    model = genai.GenerativeModel(\n",
    "        model_name=\"gemini-2.0-flash\",\n",
    "        system_instruction=system_message\n",
    "    )\n",
    "\n",
    "    stream = model.generate_content(prompt, stream=True)\n",
    "\n",
    "    result = \"\"\n",
    "    for chunk in stream:\n",
    "        if chunk.text:\n",
    "            result += chunk.text\n",
    "            yield result\n"
   ]
  },
  {
   "cell_type": "code",
   "execution_count": 8,
   "id": "3074b168",
   "metadata": {},
   "outputs": [
    {
     "data": {
      "text/markdown": [
       "Okay, let's break down quantum computing in simpler terms:\n",
       "\n",
       "**Think of it like this:  Classical computers use bits, which are like light switches that are either on (1) or off (0). Quantum computers use *qubits*, which are like dimmer switches that can be both on AND off *at the same time***.\n",
       "\n",
       "Here's a more detailed breakdown:\n",
       "\n",
       "*   **Classical Bits:**  Imagine a light switch. It can be either ON (representing 1) or OFF (representing 0).  Everything your current computer does is based on manipulating these 0s and 1s.\n",
       "\n",
       "*   **Quantum Bits (Qubits):** Now, imagine a dimmer switch instead of a simple on/off switch.  A qubit can be ON (1), OFF (0), or *anywhere in between*.  It exists in a combination of both states *simultaneously*. This \"in-between\" state is called **superposition**. Think of it like a coin spinning in the air – it's neither heads nor tails until it lands.\n",
       "\n",
       "*   **Superposition:** The ability of a qubit to be in multiple states at once (0 and 1 simultaneously) is called superposition. This is a key difference from classical bits.  This allows quantum computers to explore many possibilities at the same time.\n",
       "\n",
       "*   **Entanglement:**  Imagine you have two of these \"dimmer switch\" qubits.  Entanglement is when these two qubits become linked together in a special way.  If you measure the state of one entangled qubit, you instantly know the state of the other, no matter how far apart they are.  Einstein called it \"spooky action at a distance.\"  Entanglement helps quantum computers perform calculations in a coordinated way.\n",
       "\n",
       "*   **How Quantum Computers Work (Simplified):**\n",
       "\n",
       "    1.  **Initialization:**  You set up a bunch of qubits in a specific superposition.\n",
       "    2.  **Manipulation:**  You apply a series of quantum operations (like turning the dimmer switch a certain amount) to the qubits. These operations are carefully designed to perform a specific calculation. Because of superposition and entanglement, all the qubits are working together to explore many possibilities at once.\n",
       "    3.  **Measurement:**  Finally, you \"measure\" the state of the qubits. When you measure, the superposition collapses, and each qubit settles into a definite 0 or 1 state.  The result of the measurement gives you the answer to the calculation.\n",
       "\n",
       "*   **Why is this powerful?**  Because quantum computers can explore many possibilities simultaneously, they can potentially solve certain types of problems much faster than classical computers.  These are problems where trying every possibility one by one would take a classical computer an impossibly long time.\n",
       "\n",
       "*   **What are Quantum Computers Good For?**\n",
       "\n",
       "    *   **Drug Discovery and Materials Science:**  Simulating the behavior of molecules to design new drugs and materials.\n",
       "    *   **Cryptography:**  Breaking existing encryption algorithms (a potential threat) and developing new, quantum-resistant ones.\n",
       "    *   **Optimization:**  Finding the best solution to complex optimization problems, like logistics, finance, and machine learning.\n",
       "    *   **Machine Learning:**  Developing new and more powerful machine learning algorithms.\n",
       "\n",
       "*   **Important Note:** Quantum computers are *not* going to replace your laptop or phone. They are specialized tools for solving specific types of problems that are currently intractable for classical computers. Also, quantum computers are still in early stages of development.\n",
       "\n",
       "**In summary:**\n",
       "\n",
       "Classical computers: Like light switches (0 or 1).  Do things one step at a time.\n",
       "Quantum computers: Like dimmer switches (0, 1, or anything in between *at the same time*). Can explore many possibilities simultaneously.\n",
       "\n",
       "Think of it this way: Finding your way out of a maze.\n",
       "\n",
       "*   **Classical Computer:** Tries each path one by one until it finds the exit.\n",
       "*   **Quantum Computer:** Explores all possible paths *simultaneously* to find the exit much faster.\n",
       "\n",
       "Hope this helps! Let me know if you have any other questions.\n"
      ],
      "text/plain": [
       "<IPython.core.display.Markdown object>"
      ]
     },
     "metadata": {},
     "output_type": "display_data"
    }
   ],
   "source": [
    "for partial in stream_gemini(\"Explain quantum computing in simple terms.\"):\n",
    "    clear_output(wait=True)\n",
    "    display(Markdown(partial))"
   ]
  },
  {
   "cell_type": "code",
   "execution_count": 9,
   "id": "d5370e47",
   "metadata": {},
   "outputs": [
    {
     "name": "stdout",
     "output_type": "stream",
     "text": [
      "* Running on local URL:  http://127.0.0.1:7861\n",
      "\n",
      "To create a public link, set `share=True` in `launch()`.\n"
     ]
    },
    {
     "data": {
      "text/html": [
       "<div><iframe src=\"http://127.0.0.1:7861/\" width=\"100%\" height=\"500\" allow=\"autoplay; camera; microphone; clipboard-read; clipboard-write;\" frameborder=\"0\" allowfullscreen></iframe></div>"
      ],
      "text/plain": [
       "<IPython.core.display.HTML object>"
      ]
     },
     "metadata": {},
     "output_type": "display_data"
    },
    {
     "data": {
      "text/plain": []
     },
     "execution_count": 9,
     "metadata": {},
     "output_type": "execute_result"
    }
   ],
   "source": [
    "view = gr.Interface(\n",
    "    fn=stream_gemini,\n",
    "    inputs=[gr.Textbox(label=\"Your message:\", lines=6)],\n",
    "    outputs=gr.Markdown(),\n",
    "    flagging_mode=\"never\"\n",
    ")\n",
    "view.launch()"
   ]
  },
  {
   "cell_type": "markdown",
   "id": "70510c67",
   "metadata": {},
   "source": [
    "### Chat Bot With History"
   ]
  },
  {
   "cell_type": "code",
   "execution_count": null,
   "id": "311de565",
   "metadata": {},
   "outputs": [],
   "source": [
    "def stream_gemini_with_history(message, history):\n",
    "        \n",
    "    model = genai.GenerativeModel(\n",
    "        model_name=\"gemini-2.0-flash\",\n",
    "        system_instruction=system_message\n",
    "    )\n",
    "    \n",
    "    prompt = \"\"\n",
    "    for user_msg, bot_msg in history:\n",
    "        prompt += f\"User: {user_msg}\\nAssistant: {bot_msg}\\n\"\n",
    "    prompt += f\"User: {message}\\nAssistant:\"\n",
    "\n",
    "    stream = model.generate_content(prompt, stream=True)\n",
    "\n",
    "    response = \"\"\n",
    "    for chunk in stream:\n",
    "        if chunk.text:\n",
    "            response += chunk.text\n",
    "            yield history + [(message, response)], \"\"\n"
   ]
  },
  {
   "cell_type": "code",
   "execution_count": 13,
   "id": "8a6d9719",
   "metadata": {},
   "outputs": [
    {
     "name": "stderr",
     "output_type": "stream",
     "text": [
      "C:\\Users\\chandula\\AppData\\Local\\Temp\\ipykernel_15184\\1344445376.py:7: UserWarning: You have not specified a value for the `type` parameter. Defaulting to the 'tuples' format for chatbot messages, but this is deprecated and will be removed in a future version of Gradio. Please set type='messages' instead, which uses openai-style dictionaries with 'role' and 'content' keys.\n",
      "  chatbot = gr.Chatbot(label=\"Conversation\", show_copy_button=True)\n"
     ]
    },
    {
     "name": "stdout",
     "output_type": "stream",
     "text": [
      "* Running on local URL:  http://127.0.0.1:7863\n",
      "\n",
      "To create a public link, set `share=True` in `launch()`.\n"
     ]
    },
    {
     "data": {
      "text/html": [
       "<div><iframe src=\"http://127.0.0.1:7863/\" width=\"100%\" height=\"500\" allow=\"autoplay; camera; microphone; clipboard-read; clipboard-write;\" frameborder=\"0\" allowfullscreen></iframe></div>"
      ],
      "text/plain": [
       "<IPython.core.display.HTML object>"
      ]
     },
     "metadata": {},
     "output_type": "display_data"
    },
    {
     "data": {
      "text/plain": []
     },
     "execution_count": 13,
     "metadata": {},
     "output_type": "execute_result"
    },
    {
     "name": "stdout",
     "output_type": "stream",
     "text": [
      "[]\n",
      "[['hi', 'Hi there! How can I help you today?\\n']]\n",
      "[['hi', 'Hi there! How can I help you today?\\n'], ['what are acid\\n', \"Acids are substances that typically have the following properties:\\n\\n*   **Taste:** Sour (though you should NEVER taste an unknown substance to determine if it's an acid!).\\n*   **Reaction with Metals:** They can react with some metals to release hydrogen gas.\\n*   **Litmus Paper:** They turn blue litmus paper red.\\n*   **pH:** They have a pH less than 7.\\n*   **Neutralization:** They can neutralize bases (alkalis).\\n*   **Chemical Definition:** More technically, an acid is a molecule or ion capable of donating a proton (hydrogen ion, H+) or forming a covalent bond with an electron pair.\\n\\nCommon examples of acids include:\\n\\n*   **Hydrochloric acid (HCl):** Found in gastric acid in the stomach.\\n*   **Sulfuric acid (H2SO4):** Used in many industrial processes.\\n*   **Acetic acid (CH3COOH):** Found in vinegar.\\n*   **Citric acid (C6H8O7):** Found in citrus fruits.\\n\\nIs there anything specific you'd like to know about acids? For example, are you interested in their strength, uses, or safety precautions?\\n\"]]\n",
      "[['hi', 'Hi there! How can I help you today?\\n'], ['what are acid\\n', \"Acids are substances that typically have the following properties:\\n\\n*   **Taste:** Sour (though you should NEVER taste an unknown substance to determine if it's an acid!).\\n*   **Reaction with Metals:** They can react with some metals to release hydrogen gas.\\n*   **Litmus Paper:** They turn blue litmus paper red.\\n*   **pH:** They have a pH less than 7.\\n*   **Neutralization:** They can neutralize bases (alkalis).\\n*   **Chemical Definition:** More technically, an acid is a molecule or ion capable of donating a proton (hydrogen ion, H+) or forming a covalent bond with an electron pair.\\n\\nCommon examples of acids include:\\n\\n*   **Hydrochloric acid (HCl):** Found in gastric acid in the stomach.\\n*   **Sulfuric acid (H2SO4):** Used in many industrial processes.\\n*   **Acetic acid (CH3COOH):** Found in vinegar.\\n*   **Citric acid (C6H8O7):** Found in citrus fruits.\\n\\nIs there anything specific you'd like to know about acids? For example, are you interested in their strength, uses, or safety precautions?\\n\"], ['give a example', \"Okay, here's an example illustrating the properties of an acid:\\n\\nLet's take **lemon juice**, which contains **citric acid (C6H8O7)**.\\n\\n*   **Taste:** Lemon juice tastes sour.\\n*   **Reaction with Metals:** While the reaction is slow and not readily observable at home, citric acid *can* react with certain metals over time. You might see slight corrosion on metal utensils left in contact with lemon juice for extended periods.\\n*   **Litmus Paper:** If you were to dip blue litmus paper into lemon juice, the paper would turn red.\\n*   **pH:** Lemon juice has a pH of around 2-3, indicating it's acidic.\\n*   **Neutralization:** You can neutralize the acidity of lemon juice by adding a base, like baking soda (sodium bicarbonate). You'll see fizzing as the acid and base react.\\n*   **Everyday Use:** Lemon juice is used in cooking, cleaning, and as a flavoring agent, all due to its acidic properties.\\n\\nThis example shows how the properties of an acid manifest in an everyday substance. Is there anything else I can help you with regarding acids or this example?\\n\"]]\n",
      "[['hi', 'Hi there! How can I help you today?\\n'], ['what are acid\\n', \"Acids are substances that typically have the following properties:\\n\\n*   **Taste:** Sour (though you should NEVER taste an unknown substance to determine if it's an acid!).\\n*   **Reaction with Metals:** They can react with some metals to release hydrogen gas.\\n*   **Litmus Paper:** They turn blue litmus paper red.\\n*   **pH:** They have a pH less than 7.\\n*   **Neutralization:** They can neutralize bases (alkalis).\\n*   **Chemical Definition:** More technically, an acid is a molecule or ion capable of donating a proton (hydrogen ion, H+) or forming a covalent bond with an electron pair.\\n\\nCommon examples of acids include:\\n\\n*   **Hydrochloric acid (HCl):** Found in gastric acid in the stomach.\\n*   **Sulfuric acid (H2SO4):** Used in many industrial processes.\\n*   **Acetic acid (CH3COOH):** Found in vinegar.\\n*   **Citric acid (C6H8O7):** Found in citrus fruits.\\n\\nIs there anything specific you'd like to know about acids? For example, are you interested in their strength, uses, or safety precautions?\\n\"], ['give a example', \"Okay, here's an example illustrating the properties of an acid:\\n\\nLet's take **lemon juice**, which contains **citric acid (C6H8O7)**.\\n\\n*   **Taste:** Lemon juice tastes sour.\\n*   **Reaction with Metals:** While the reaction is slow and not readily observable at home, citric acid *can* react with certain metals over time. You might see slight corrosion on metal utensils left in contact with lemon juice for extended periods.\\n*   **Litmus Paper:** If you were to dip blue litmus paper into lemon juice, the paper would turn red.\\n*   **pH:** Lemon juice has a pH of around 2-3, indicating it's acidic.\\n*   **Neutralization:** You can neutralize the acidity of lemon juice by adding a base, like baking soda (sodium bicarbonate). You'll see fizzing as the acid and base react.\\n*   **Everyday Use:** Lemon juice is used in cooking, cleaning, and as a flavoring agent, all due to its acidic properties.\\n\\nThis example shows how the properties of an acid manifest in an everyday substance. Is there anything else I can help you with regarding acids or this example?\\n\"], ['give a powerful acid name', \"A very powerful acid is **fluoroantimonic acid (HSbF6)**.\\n\\nHere's why it's considered so powerful:\\n\\n*   **Superacid:** It's classified as a superacid, meaning it's more acidic than 100% sulfuric acid.\\n*   **Acidity:** It can be up to 10<sup>16</sup> (10 quadrillion) times more acidic than 100% sulfuric acid. Its Hammett acidity function (H₀) can reach values as low as -31.\\n*   **Corrosive:** It's extremely corrosive and reacts violently with many substances, including glass and many plastics. It must be stored in Teflon containers.\\n*   **Use:** It's primarily used in research and specialized industrial applications, such as in the production of certain polymers and in some organic reactions.\\n\\n**Important Note:** Fluoroantimonic acid is extremely dangerous and should only be handled by trained professionals with proper safety equipment and procedures. It is not something to experiment with at home.\\n\"]]\n"
     ]
    }
   ],
   "source": [
    "def clear_chat():\n",
    "    return [], \"\"\n",
    "\n",
    "with gr.Blocks(theme=gr.themes.Soft()) as view:\n",
    "    gr.Markdown(\"## 💬 Chat Bot with History\")\n",
    "\n",
    "    chatbot = gr.Chatbot(label=\"Conversation\", show_copy_button=True)\n",
    "    msg = gr.Textbox(label=\"Your message:\", lines=2, placeholder=\"Type your message here...\")\n",
    "\n",
    "    with gr.Row():\n",
    "        send_btn = gr.Button(\"Send\")\n",
    "        clear_btn = gr.Button(\"Clear Chat\")\n",
    "\n",
    "    msg.submit(stream_gemini_with_history, inputs=[msg, chatbot], outputs=[chatbot, msg])\n",
    "    send_btn.click(stream_gemini_with_history, inputs=[msg, chatbot], outputs=[chatbot, msg])\n",
    "\n",
    "    clear_btn.click(clear_chat, outputs=[chatbot, msg])\n",
    "\n",
    "view.launch()\n"
   ]
  }
 ],
 "metadata": {
  "kernelspec": {
   "display_name": "Python 3",
   "language": "python",
   "name": "python3"
  },
  "language_info": {
   "codemirror_mode": {
    "name": "ipython",
    "version": 3
   },
   "file_extension": ".py",
   "mimetype": "text/x-python",
   "name": "python",
   "nbconvert_exporter": "python",
   "pygments_lexer": "ipython3",
   "version": "3.11.8"
  }
 },
 "nbformat": 4,
 "nbformat_minor": 5
}
